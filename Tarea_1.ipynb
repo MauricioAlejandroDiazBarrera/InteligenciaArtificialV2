{
  "nbformat": 4,
  "nbformat_minor": 0,
  "metadata": {
    "colab": {
      "provenance": [],
      "collapsed_sections": [
        "TTSidr2Vs22t",
        "BfaJbspAH5Qz"
      ],
      "include_colab_link": true
    },
    "kernelspec": {
      "name": "python3",
      "display_name": "Python 3"
    },
    "language_info": {
      "name": "python"
    }
  },
  "cells": [
    {
      "cell_type": "markdown",
      "metadata": {
        "id": "view-in-github",
        "colab_type": "text"
      },
      "source": [
        "<a href=\"https://colab.research.google.com/github/MauricioAlejandroDiazBarrera/InteligenciaArtificialV2/blob/main/Tarea_1.ipynb\" target=\"_parent\"><img src=\"https://colab.research.google.com/assets/colab-badge.svg\" alt=\"Open In Colab\"/></a>"
      ]
    },
    {
      "cell_type": "markdown",
      "source": [
        "# Guia de python y librerias de inteligencia artificial\n"
      ],
      "metadata": {
        "id": "NndxNlREIkTw"
      }
    },
    {
      "cell_type": "markdown",
      "source": [
        "# 0. Básicos de Python"
      ],
      "metadata": {
        "id": "nYfq3ZtNIut0"
      }
    },
    {
      "cell_type": "markdown",
      "source": [
        "En Python cualquier variable que declaremos se considera como un objeto o un contenedor en donde tenemos información. Algunos de los objetos que podemos declarar en python son tuplas, listas, sets, diccionarios o contenedores. Cada objeto puede ser representado por 3 propiedades:\n",
        "\n",
        "\n",
        "\n",
        "*   Nombre del objeto\n",
        "*   Tipo de objeto\n",
        "* Un ID para identificar el objeto.\n",
        "\n",
        "El nombre puede contener cualquier caracter alfanumerico (Letras de la A a la Z, o a-z. Cualquier numero del 0 a 9). Si el nombre contiene mas de una palabra, se une por un guión bajo (_).\n",
        "\n",
        "El tipo es a que objeto se refiere, por ejemplo, es un string, un entero, boleano, flotante, etc.\n",
        "\n",
        "Por ultimo, el ID es el numero que identifica como unico al objeto que estamos llamando.\n",
        "\n",
        "Cuando se programa en python, un id unico se le proporciona al objeto cuando lo creamos, y se guarda en la memoria de la computadora mientras nosotros estemos corriendo el programa. Ese Id permite que siempre podamos referirnos a ese objeto dentro del codigo, y cuando ya no se este corriendo, esa memoria se libera.\n",
        "\n",
        "NOTA: Cuando se usa un nombre igual en varias partes del flujo de codigo, este pierde su valor inicial, y se actualiza al valor actual. Esto no pasa si se utilizan funciones.\n",
        "\n"
      ],
      "metadata": {
        "id": "POmvztxnJa49"
      }
    },
    {
      "cell_type": "code",
      "source": [
        "Variable_1 = \"Valor inicial\"\n",
        "\n",
        "print(Variable_1)\n"
      ],
      "metadata": {
        "colab": {
          "base_uri": "https://localhost:8080/"
        },
        "id": "LFUS_AhJLvVZ",
        "outputId": "df968d92-e966-4d52-d6e3-895aadcf797e"
      },
      "execution_count": null,
      "outputs": [
        {
          "output_type": "stream",
          "name": "stdout",
          "text": [
            "Valor inicial\n"
          ]
        }
      ]
    },
    {
      "cell_type": "code",
      "source": [
        "Variable_1 = 9"
      ],
      "metadata": {
        "id": "5weBZlrZMB8d"
      },
      "execution_count": null,
      "outputs": []
    },
    {
      "cell_type": "code",
      "source": [
        "print(Variable_1)"
      ],
      "metadata": {
        "colab": {
          "base_uri": "https://localhost:8080/"
        },
        "id": "5_kLUG_CMIys",
        "outputId": "222b5397-561b-4edc-f406-8ea67eb4df52"
      },
      "execution_count": null,
      "outputs": [
        {
          "output_type": "stream",
          "name": "stdout",
          "text": [
            "9\n"
          ]
        }
      ]
    },
    {
      "cell_type": "code",
      "source": [
        "def suma(valor1, valor2):\n",
        "  total = valor1 + valor2\n",
        "  return total\n",
        "\n",
        "def resta(valor1, valor2):\n",
        "  total = valor1 - valor2\n",
        "  return total"
      ],
      "metadata": {
        "id": "d1SykseUMOAd"
      },
      "execution_count": null,
      "outputs": []
    },
    {
      "cell_type": "code",
      "source": [
        "valor1 = 5\n",
        "valor2 = 6\n",
        "\n",
        "print(suma(valor1, 6))\n",
        "print(resta(valor1, 2))"
      ],
      "metadata": {
        "colab": {
          "base_uri": "https://localhost:8080/"
        },
        "id": "TIDHCA0KMqEQ",
        "outputId": "142eb27f-824e-4369-8f4c-2a9db5ee74fa"
      },
      "execution_count": null,
      "outputs": [
        {
          "output_type": "stream",
          "name": "stdout",
          "text": [
            "11\n",
            "3\n"
          ]
        }
      ]
    },
    {
      "cell_type": "markdown",
      "source": [
        "## Palabras reservadas y funciones"
      ],
      "metadata": {
        "id": "OQBmHVv-r7of"
      }
    },
    {
      "cell_type": "markdown",
      "source": [
        "Como se menciono anteriormente, nosotros podemos llamar a los objetos como nosotros queramos, solo existen algunos casos en los que las palabras que podemos elegir ya tienen un valor asignado por parte de python, por lo que va a asumir que lo estamos invocando, y no estamos asignando una nueva variable."
      ],
      "metadata": {
        "id": "XsKEaUuiNG3z"
      }
    },
    {
      "cell_type": "code",
      "source": [
        "help(\"keywords\")"
      ],
      "metadata": {
        "colab": {
          "base_uri": "https://localhost:8080/"
        },
        "id": "7lSQjLiwNlhY",
        "outputId": "082e1919-e59f-4ea0-d942-50478923aa99"
      },
      "execution_count": null,
      "outputs": [
        {
          "output_type": "stream",
          "name": "stdout",
          "text": [
            "\n",
            "Here is a list of the Python keywords.  Enter any keyword to get more help.\n",
            "\n",
            "False               class               from                or\n",
            "None                continue            global              pass\n",
            "True                def                 if                  raise\n",
            "and                 del                 import              return\n",
            "as                  elif                in                  try\n",
            "assert              else                is                  while\n",
            "async               except              lambda              with\n",
            "await               finally             nonlocal            yield\n",
            "break               for                 not                 \n",
            "\n"
          ]
        }
      ]
    },
    {
      "cell_type": "markdown",
      "source": [
        "Parte importante de la programacion, no solo del lenguaje de programacion de python son los comentarios del codigo. Estos comentarios nos pueden ayudar a trabajar de manera colaborativa con otras personas. En el area de ciencia de datos o analista de datos, por lo general tenemos que trabajar con un grupo de diferentes personas, por lo que es una buena practica comentar cada que generemos una nueva funcion o la estructura general de nuestro proceso.\n",
        "\n",
        "En el caso de que solo tengamos una nota para recordar el valor de una variable:"
      ],
      "metadata": {
        "id": "kPWuuQLCLuxf"
      }
    },
    {
      "cell_type": "code",
      "source": [
        "variable_a = 'Este es un ejemplo' #Esta variable es un string\n",
        "\n",
        "variable_b = '154' #Esta variable tambien es un string"
      ],
      "metadata": {
        "id": "GYezcHXKOIv0"
      },
      "execution_count": null,
      "outputs": []
    },
    {
      "cell_type": "markdown",
      "source": [
        "En el caso de que tengamos que explicar algo mas a detalle, como por ejemplo una clase o una funcion completa:"
      ],
      "metadata": {
        "id": "AhIQUNWwOua9"
      }
    },
    {
      "cell_type": "code",
      "source": [
        "def duplicated(n_set):\n",
        "  '''\n",
        "  Esta funcion toma el set de la lista de prueba y elimina los datos\n",
        "  duplicados y los que son menores a 0.\n",
        "\n",
        "  Solo acepta listas, y las listas deben de contener solo numeros.\n",
        "\n",
        "  '''\n",
        "  sin_duplicados = [*set(n_set)]\n",
        "  res = [ele for ele in sin_duplicados if ele >= 0]\n",
        "  return res\n",
        "\n",
        "\n",
        "def solution(A):\n",
        "  '''\n",
        "  Esta funcion es la principal, hace uso de la funcion de duplicated\n",
        "  por lo que debe de estar asignada y respetar las reglas de esta.\n",
        "\n",
        "  La salida de esta funcion un numero entero positivo mas pequeno\n",
        "  que no aparece en la lista de entrada, y que sea diferente de 0.\n",
        "\n",
        "  '''\n",
        "  lista = duplicated(A)\n",
        "  lista.sort()\n",
        "  if sum(lista) <= 0:\n",
        "    return 1\n",
        "  solution = 1\n",
        "  for i in range(len(lista)):\n",
        "    if lista[i] <= solution:\n",
        "      solution = lista[i] + 1\n",
        "  if solution == max(lista):\n",
        "    solution += 1\n",
        "  return solution\n",
        "\n",
        "lista_prueba = [-1, -3, -4, -7, 0]\n",
        "\n",
        "print(solution(lista_prueba))"
      ],
      "metadata": {
        "colab": {
          "base_uri": "https://localhost:8080/"
        },
        "id": "qXCCvYKaOtkl",
        "outputId": "9b0b306b-43a2-4702-973a-0d9f67efe103"
      },
      "execution_count": null,
      "outputs": [
        {
          "output_type": "stream",
          "name": "stdout",
          "text": [
            "1\n"
          ]
        }
      ]
    },
    {
      "cell_type": "markdown",
      "source": [
        "Al nosotros crear funciones, los nombres de estas funciones se vuelven palabras reservadas y no podemos hacer variables que se llamen de la misma manera porque python interpreta como que estan invocando la funcion.\n",
        "\n",
        "En caso que se encuentren con una palabra reservada o con una funcion la cual no entiendan su funcionamiento, python puede ayudarles."
      ],
      "metadata": {
        "id": "qGlmmxWEsHuv"
      }
    },
    {
      "cell_type": "code",
      "source": [
        "help(print)"
      ],
      "metadata": {
        "colab": {
          "base_uri": "https://localhost:8080/"
        },
        "id": "kMvifHqTseRG",
        "outputId": "f22301e8-a9a6-4d31-c9eb-bf2780a2f22f"
      },
      "execution_count": null,
      "outputs": [
        {
          "output_type": "stream",
          "name": "stdout",
          "text": [
            "Help on built-in function print in module builtins:\n",
            "\n",
            "print(...)\n",
            "    print(value, ..., sep=' ', end='\\n', file=sys.stdout, flush=False)\n",
            "    \n",
            "    Prints the values to a stream, or to sys.stdout by default.\n",
            "    Optional keyword arguments:\n",
            "    file:  a file-like object (stream); defaults to the current sys.stdout.\n",
            "    sep:   string inserted between values, default a space.\n",
            "    end:   string appended after the last value, default a newline.\n",
            "    flush: whether to forcibly flush the stream.\n",
            "\n"
          ]
        }
      ]
    },
    {
      "cell_type": "code",
      "source": [
        "help(suma)"
      ],
      "metadata": {
        "colab": {
          "base_uri": "https://localhost:8080/"
        },
        "id": "VRt66DtFsiHV",
        "outputId": "e56d4aec-4a05-4d9a-8a46-62d196e59cf8"
      },
      "execution_count": null,
      "outputs": [
        {
          "output_type": "stream",
          "name": "stdout",
          "text": [
            "Help on function suma in module __main__:\n",
            "\n",
            "suma(valor1, valor2)\n",
            "\n"
          ]
        }
      ]
    },
    {
      "cell_type": "code",
      "source": [
        "import numpy as np\n",
        "\n",
        "#help(np)"
      ],
      "metadata": {
        "id": "ktTO6-UDwGGR"
      },
      "execution_count": null,
      "outputs": []
    },
    {
      "cell_type": "code",
      "source": [
        "# Ayuda por parte de jupyter\n",
        "\n"
      ],
      "metadata": {
        "id": "kl9cCyV2wud0"
      },
      "execution_count": null,
      "outputs": []
    },
    {
      "cell_type": "markdown",
      "source": [
        "## Tipos de datos"
      ],
      "metadata": {
        "id": "P-cGkS9QsCzI"
      }
    },
    {
      "cell_type": "markdown",
      "source": [
        "Como mencionabamos anteriormente, existen diferentes tipos de datos que podemos tener el python, como por ejemplo, enteros, flotantes, numeros complejos, strings, listas, tuplas y diccionarios."
      ],
      "metadata": {
        "id": "4vN8EfroQXw3"
      }
    },
    {
      "cell_type": "markdown",
      "source": [
        "* Las cadenas de texto se define por comillas ```''``` y dentro de estas puede haber números, letras y símbolos especiales.\n",
        "* Una lista se define por paréntesis cuadrados ```[]``` y dentro de ellos puede haber números y cadenas de texto separados por comas ```,```\n",
        "* El símbolo ```#``` permite agregar comentarios al código\n",
        "* Cualquier información se guarda en variables (siempre debe iniciar con letra y sin espacios) y la asignación de información a una variable se hace con el símbolo ```=```\n",
        "* Cuando se quiere mostrar información en la pantalla, se utiliza la instrucción ```print( )```, dentro de los paréntesis ```()``` puede haber caracteres, números, listas y variables, toda esta información debe estar separada por comas ```,```"
      ],
      "metadata": {
        "id": "DaAoiF1OJAOu"
      }
    },
    {
      "cell_type": "code",
      "execution_count": null,
      "metadata": {
        "id": "WZOm1eNAIKRk"
      },
      "outputs": [],
      "source": [
        "mi_nombre = 'Mayra Cristina Berrones Reyes'      #esto es una variable que guarda un dato de tipo caracter\n",
        "mi_edad = 28                     #esto es una variable que gurada un dato de tipo numero entero\n",
        "mi_promedio = 8.5                #esto es una variable que gurada un dato de tipo numero flotante\n",
        "mi_lista_deseos = ['tv','laptop', 28, 7.1]    #esto es una variable que gurada un dato de tipo lista\n"
      ]
    },
    {
      "cell_type": "markdown",
      "source": [
        "## Listas\n",
        "\n",
        "Las primeras tres variables se identifican sencillamente como datos, pero a partir de la lista, es tipo contenedor.\n",
        "\n",
        "En el caso de contenedor tipo lista sus caracteristicas nos permite manipular mucho mas sencillo los datos que contiene. El contenido puede ser cualquier tipo de dato, boleano, numerico, string. Se caracteriza por iniciar y terminar con brackets, y estar separado por coma.\n",
        "\n",
        "Algunas funciones importantes para las listas son:\n",
        "\n",
        "* `append()` Agrega un elemento al final de nuestra lista.\n",
        "* `clear()` Quita todos los elementos de la lista, dejando la lista vacia.\n",
        "* `copy()` Hace una copia de la lista dentro de otra variable.\n",
        "* `extend()` Combina dos listas.\n",
        "* `insert()` Agrega un elemento en una posision especifica dentro de la lista.\n",
        "* `pop()` Quita el ultimo elemento de la lista\n",
        "* `remove()` Quita un elemento en una posision especifica dentro de la lista.\n",
        "* `reverse()` Podemos reorganizar el orden en reversa de los datos dentro de la lista.\n",
        "* `sort()` Reorganiza los datos dentro de tu lista en orden acendente\n"
      ],
      "metadata": {
        "id": "azwrt5DAWtgm"
      }
    },
    {
      "cell_type": "code",
      "source": [
        "ejemplo_lista = ['Mayra', 'Berrones', 21, 'Octubre', 1994]\n",
        "\n",
        "ejemplo_lista"
      ],
      "metadata": {
        "colab": {
          "base_uri": "https://localhost:8080/"
        },
        "id": "olx5qr1iYNOl",
        "outputId": "1e731454-b157-4cf1-874c-6cde1a768b81"
      },
      "execution_count": null,
      "outputs": [
        {
          "output_type": "execute_result",
          "data": {
            "text/plain": [
              "['Mayra', 'Berrones', 21, 'Octubre', 1994]"
            ]
          },
          "metadata": {},
          "execution_count": 20
        }
      ]
    },
    {
      "cell_type": "code",
      "source": [
        "#Agregar un elemento al final de la lista\n",
        "ejemplo_lista.append('Tamaulipas')\n",
        "\n",
        "ejemplo_lista"
      ],
      "metadata": {
        "colab": {
          "base_uri": "https://localhost:8080/"
        },
        "id": "F5sx8CTtYv9P",
        "outputId": "ed71dae3-c467-4073-cd2b-05ca1af075df"
      },
      "execution_count": null,
      "outputs": [
        {
          "output_type": "execute_result",
          "data": {
            "text/plain": [
              "['Mayra', 'Berrones', 21, 'Octubre', 1994, 'Tamaulipas']"
            ]
          },
          "metadata": {},
          "execution_count": 21
        }
      ]
    },
    {
      "cell_type": "code",
      "source": [
        "#Elimina el ultimo elemento de la lista\n",
        "ejemplo_lista.pop()\n",
        "\n",
        "ejemplo_lista"
      ],
      "metadata": {
        "colab": {
          "base_uri": "https://localhost:8080/"
        },
        "id": "FC1p1SQxYyhA",
        "outputId": "1cbe7e32-c8b9-4d44-a9c0-613929af37e4"
      },
      "execution_count": null,
      "outputs": [
        {
          "output_type": "execute_result",
          "data": {
            "text/plain": [
              "['Mayra', 'Berrones', 21, 'Octubre']"
            ]
          },
          "metadata": {},
          "execution_count": 34
        }
      ]
    },
    {
      "cell_type": "code",
      "source": [
        "# hacer una copia de la lista y extenderla con otra lista\n",
        "\n",
        "extension = [1, 2, 3, 'a', 'b']\n",
        "copia_lista = ejemplo_lista.copy()\n",
        "copia_lista.extend(extension)\n",
        "\n",
        "copia_lista"
      ],
      "metadata": {
        "colab": {
          "base_uri": "https://localhost:8080/"
        },
        "id": "uPBgxJDRZKL0",
        "outputId": "403d97d3-633f-4731-b13d-fd77f4a82032"
      },
      "execution_count": null,
      "outputs": [
        {
          "output_type": "execute_result",
          "data": {
            "text/plain": [
              "['Mayra', 'Berrones', 21, 'Octubre', 1, 2, 3, 'a', 'b']"
            ]
          },
          "metadata": {},
          "execution_count": 53
        }
      ]
    },
    {
      "cell_type": "code",
      "source": [
        "# Inserta un nuevo numero en el tercer puesto de la lista, y elimina los datos de texto\n",
        "\n",
        "copia_lista.insert(89, 2)\n",
        "\n",
        "copia_lista.remove('Mayra')\n",
        "copia_lista.remove('Octubre')\n",
        "copia_lista.remove('Berrones')\n",
        "copia_lista.remove('a')\n",
        "copia_lista.remove('b')\n",
        "\n",
        "copia_lista"
      ],
      "metadata": {
        "colab": {
          "base_uri": "https://localhost:8080/"
        },
        "id": "fp27HY82Z0u9",
        "outputId": "fe33cc6e-aedd-453c-d2db-8a07422c18db"
      },
      "execution_count": null,
      "outputs": [
        {
          "output_type": "execute_result",
          "data": {
            "text/plain": [
              "[21, 1, 2, 3, 2]"
            ]
          },
          "metadata": {},
          "execution_count": 54
        }
      ]
    },
    {
      "cell_type": "markdown",
      "source": [
        "## Tuplas"
      ],
      "metadata": {
        "id": "bpyde4Qfln-a"
      }
    },
    {
      "cell_type": "markdown",
      "source": [
        "Las tuplas , asi como los strings y las listas son parte de la categoria de datos secuenciales. Los datos secuenciales son los objetos iterativos dentro de un contenedor. Esto permite que, en combinacion con sentencias condicionales, podamos recorrer el contenido de estos objetos. Las tuplas a diferencia de las listas, son un poco mas rigidas con las reglas que se tienen para modificarlas ya que se consideran como datos inmutables (que no se pueden alterar, reemplazar un elemento con otro).\n",
        "\n",
        "Las ventajas de utilizar las tuplas es que cuidan la parte del consumo de memoria y el tiempo de corrida de la rutina.\n",
        "\n",
        "Para el uso que tendremos en esta clase que esta mas enfocada a la parte de inteligencia artificial, las tuplas no se van a utilizar mucho, pero pueden explorar su uso para formatos especificos de datos."
      ],
      "metadata": {
        "id": "VWaCZ8EvdT1A"
      }
    },
    {
      "cell_type": "code",
      "source": [
        "precios = (('tv', 2090), ('laptop', 879))\n",
        "print(type(precios))"
      ],
      "metadata": {
        "colab": {
          "base_uri": "https://localhost:8080/"
        },
        "id": "cyMTFYm8TqhV",
        "outputId": "9f532a07-a19d-4852-ae77-d76539d634cc"
      },
      "execution_count": null,
      "outputs": [
        {
          "output_type": "stream",
          "name": "stdout",
          "text": [
            "<class 'tuple'>\n"
          ]
        }
      ]
    },
    {
      "cell_type": "markdown",
      "source": [
        "## Diccionarios"
      ],
      "metadata": {
        "id": "coOO1IjkdTHu"
      }
    },
    {
      "cell_type": "markdown",
      "source": [
        "Otro tipo de contenedor de python son los diccionarios. En esta parte de la clase veremos los diccionarios como la base de los data fames con los que trabajaremos mas adelante. Los diccionarios tienen un formato de almacenamiento por medio de llaves, y la manera en que se relacionan es por medio de los dos puntos (:). Los diccionarios al igual que las listas si son mutables, sin embargo, no tienen la facilidad de las listas para hacerlo (no podemos usar las mismas funciones que tenemos para una lista que para un diccionario).\n",
        "\n"
      ],
      "metadata": {
        "id": "Ji616l2Blp52"
      }
    },
    {
      "cell_type": "code",
      "source": [
        "people_dataset = {\"Carlos\": {\"age\": 25,\n",
        "                             \"height\": 175,\n",
        "                             \"weight\": 68},\n",
        "                 \"Miguel\": { \"age\": 32,\n",
        "                              \"height\": 162,\n",
        "                               \"weight\": 55},\n",
        "                \"Jessica\": {\"age\": 41,\n",
        "                             \"height\": 180,\n",
        "                             \"weight\": 75},\n",
        "                \"Hugo\": {\"age\": 19,\n",
        "                             \"height\": 158,\n",
        "                             \"weight\": 52},\n",
        "                \"Cecilia\": {\"age\": 37,\n",
        "                             \"height\": 170,\n",
        "                             \"weight\": 70}}\n"
      ],
      "metadata": {
        "id": "kREnave2R8wk"
      },
      "execution_count": null,
      "outputs": []
    },
    {
      "cell_type": "code",
      "source": [
        "print(people_dataset[\"Carlos\"])"
      ],
      "metadata": {
        "colab": {
          "base_uri": "https://localhost:8080/"
        },
        "id": "oDz8LHbkSzC6",
        "outputId": "beab0498-fbf4-470d-ed05-b1126b60ded6"
      },
      "execution_count": null,
      "outputs": [
        {
          "output_type": "stream",
          "name": "stdout",
          "text": [
            "{'age': 25, 'height': 175, 'weight': 68}\n"
          ]
        }
      ]
    },
    {
      "cell_type": "code",
      "source": [
        "print(people_dataset[\"Cecilia\"]['age'])"
      ],
      "metadata": {
        "colab": {
          "base_uri": "https://localhost:8080/"
        },
        "id": "UQxJM_7nTF_H",
        "outputId": "6f7cac48-1712-470b-b365-bc010b1a6f92"
      },
      "execution_count": null,
      "outputs": [
        {
          "output_type": "stream",
          "name": "stdout",
          "text": [
            "37\n"
          ]
        }
      ]
    },
    {
      "cell_type": "markdown",
      "source": [
        "## Sets"
      ],
      "metadata": {
        "id": "DT6dy6a4qz6-"
      }
    },
    {
      "cell_type": "markdown",
      "source": [
        "Los sets son otra esturctura de python que probablemente no veremos mucho mas adelante, pero que por su funcionamiento puede ayudarnos en ciertos puntos. Es un tipo de estructura que no acepta duplicados dentro de sus datos. Al igual que en los diccionarios, los sets se encapsulan dentro de las llaves {}"
      ],
      "metadata": {
        "id": "NTIRsGzlq1NX"
      }
    },
    {
      "cell_type": "code",
      "source": [
        "set1 = {1, 32, 36, 4, 4, 51, 1, 12, 32, 44, 12, 2, 4 }\n",
        "\n",
        "type(set1)"
      ],
      "metadata": {
        "colab": {
          "base_uri": "https://localhost:8080/"
        },
        "id": "pq23mJBbrHxM",
        "outputId": "30ab99a7-3367-47a5-f2ef-eac7367d2944"
      },
      "execution_count": null,
      "outputs": [
        {
          "output_type": "execute_result",
          "data": {
            "text/plain": [
              "set"
            ]
          },
          "metadata": {},
          "execution_count": 56
        }
      ]
    },
    {
      "cell_type": "code",
      "source": [
        "len(set1)"
      ],
      "metadata": {
        "colab": {
          "base_uri": "https://localhost:8080/"
        },
        "id": "anwFeNamrjvc",
        "outputId": "9905ff72-7533-47f9-b049-dd8ac8d1a9f1"
      },
      "execution_count": null,
      "outputs": [
        {
          "output_type": "execute_result",
          "data": {
            "text/plain": [
              "8"
            ]
          },
          "metadata": {},
          "execution_count": 57
        }
      ]
    },
    {
      "cell_type": "code",
      "source": [
        "set1"
      ],
      "metadata": {
        "colab": {
          "base_uri": "https://localhost:8080/"
        },
        "id": "aZYapnNKroG_",
        "outputId": "860f6046-6b76-474a-812c-451c21ca5082"
      },
      "execution_count": null,
      "outputs": [
        {
          "output_type": "execute_result",
          "data": {
            "text/plain": [
              "{1, 2, 4, 12, 32, 36, 44, 51}"
            ]
          },
          "metadata": {},
          "execution_count": 58
        }
      ]
    },
    {
      "cell_type": "markdown",
      "source": [
        "# Condicionales en python\n",
        "\n",
        "Dentro de lo que hablamos de los contenedores, mencionamos que son iterativos, lo que nos permite explorarlos por medio de condicionales. En este caso, con ayuda de funciones, combinaremos los diferentes condicionales para la exploracion de los datos.\n",
        "\n",
        "En cualquier lenguaje de programacion se tienen estos condicionales, ya que son la parte base de la logica computacional que nos permite llevar a cabo tareas.\n",
        "\n",
        "En estos casos tenemos dos secciones, los condicionales y los loops.\n",
        "\n",
        "Para los condicionales tenemos:\n",
        "\n",
        "* If\n",
        "* If + else\n",
        "* Elif\n",
        "\n",
        "Y para los loops tenemos:\n",
        "\n",
        "* For\n",
        "* While\n",
        "* Continue and break"
      ],
      "metadata": {
        "id": "TTSidr2Vs22t"
      }
    },
    {
      "cell_type": "markdown",
      "source": [
        "## Operadores de comparacion\n",
        "\n",
        "|Comparadores|Significado|Ejemplo|Resultado|\n",
        "|---|---|---|---|\n",
        "|>|Mayor que|```5>3```|True|\n",
        "|>=|Mayor o igual que|```2>=7```|False|\n",
        "|<|Menor que|```rango[1]<trozos[2]```|False|\n",
        "|<=|Menor o igual que|```datos.iloc[1]['Height']<=datos.iloc[0]['Height']```|True|\n",
        "|==|Igual a|```'Perro'=='gato'```|False|\n",
        "|!=|Diferente a|```datos.iloc[1]['Gender']!=datos.iloc[0]['Gender']```|False|"
      ],
      "metadata": {
        "id": "rKBrFCSst90v"
      }
    },
    {
      "cell_type": "markdown",
      "source": [
        "## Operadores logicos\n",
        "\n",
        "|Lógicos|Significado|Ejemplo|Resultado|\n",
        "|---|---|---|---|\n",
        "|and|Verdadero si ambos son verdadero|```(5>3) and (2>=7)```|False|\n",
        "|or|Verdadero si alguno de los dos es verdadero|```(rango[1]<trozos[2]) or ('Perro'=='perro')```|False|\n",
        "|not|Contrario|```not datos.iloc[1]['Gender']<=datos.iloc[0]['Gender']```|True|"
      ],
      "metadata": {
        "id": "ZEtfFZzv0AND"
      }
    },
    {
      "cell_type": "markdown",
      "source": [
        "## Operadores de pertenencia\n",
        "\n",
        "|Pertenencia|Significado|Ejemplo|Resultado|\n",
        "|---|---|---|---|\n",
        "|```in```|Verdadero si pertenece|```7 in rango```|True|\n",
        "|```not in```|Verdadero si no pertenece|```'Male' not in datos['Gender'].unique()```|False|"
      ],
      "metadata": {
        "id": "nsjf3hjX0-JK"
      }
    },
    {
      "cell_type": "markdown",
      "source": [
        "## Condicional if, if else, elif"
      ],
      "metadata": {
        "id": "skXCqAhNBfdD"
      }
    },
    {
      "cell_type": "markdown",
      "source": [
        "Ahora que ya tenemos una idea de como podemos generar las condiciones, vemos cuales son las funciones que nos ayudaran a tomar el flujo de control. Iniciamos con una de las mas sencillas de interpretar: If.\n",
        "\n",
        "Esta condicion nos permite tomar dos caminos. Cuando se cumple y cuando no se cumple la funcion.\n",
        "\n"
      ],
      "metadata": {
        "id": "64UlUMuLu4pc"
      }
    },
    {
      "cell_type": "code",
      "source": [
        "edad = 18\n",
        "\n",
        "if edad >= 18:\n",
        "    print(\"Eres mayor de edad\")\n"
      ],
      "metadata": {
        "colab": {
          "base_uri": "https://localhost:8080/"
        },
        "id": "GvJ98OT88eZt",
        "outputId": "25812f53-3bf9-4994-cd85-13a701336fd8"
      },
      "execution_count": null,
      "outputs": [
        {
          "output_type": "stream",
          "name": "stdout",
          "text": [
            "Eres mayor de edad\n"
          ]
        }
      ]
    },
    {
      "cell_type": "code",
      "source": [
        "# agregar el else\n",
        "num1 = 891\n",
        "num2 = 87\n",
        "\n",
        "if num1 > num2:\n",
        "  print('num1 es mayor')\n",
        "else:\n",
        "  print('num2 es mayor')\n"
      ],
      "metadata": {
        "colab": {
          "base_uri": "https://localhost:8080/"
        },
        "id": "IcxFoZG99n8v",
        "outputId": "d416dca8-3f69-4a3d-b0ac-bc70610b1c15"
      },
      "execution_count": null,
      "outputs": [
        {
          "output_type": "stream",
          "name": "stdout",
          "text": [
            "num1 es mayor\n"
          ]
        }
      ]
    },
    {
      "cell_type": "markdown",
      "source": [
        "El if y else son unas de las estructuras mas sencillas de seguir, y no cuentan con mucho espacio computacional. En caso por ejemplo de que tengamos mas de una sentencia que nos gustaria comprobar, tenemos la opcion del elif en python."
      ],
      "metadata": {
        "id": "dBnFUxoR_9rt"
      }
    },
    {
      "cell_type": "code",
      "source": [
        "# agregar el elif\n",
        "\n",
        "calificacion = int(input())\n",
        "if 90 <= calificacion <= 100:\n",
        "  salida = 'Excelente'\n",
        "elif 80 <= calificacion <= 89:\n",
        "  salida = 'Buena'\n",
        "elif 70 <= calificacion <= 79:\n",
        "  salida = 'Regular'\n",
        "elif calificacion <= 69:\n",
        "  salida = 'Reprobado'\n",
        "else:\n",
        "  print('Introduce un valor entre 1 y 100')\n",
        "\n",
        "print('Tu resultado es ', salida)"
      ],
      "metadata": {
        "colab": {
          "base_uri": "https://localhost:8080/"
        },
        "id": "5ng2ytkI_Dpl",
        "outputId": "c0d138bd-89b4-4c59-a57b-553eaac8a742"
      },
      "execution_count": null,
      "outputs": [
        {
          "output_type": "stream",
          "name": "stdout",
          "text": [
            "78\n",
            "Tu resultado es  Regular\n"
          ]
        }
      ]
    },
    {
      "cell_type": "markdown",
      "source": [
        "## Loops"
      ],
      "metadata": {
        "id": "2hf1j7-fBdAF"
      }
    },
    {
      "cell_type": "markdown",
      "source": [
        "Los loops o ciclos son estructuras que nos permiten repetir cierta porcion del codigo dentro de ciertas condiciones o por un numero determinado de veces. Este tipo de estructuras son las que nos permiten revisar contenedores como listas, diccionarios y dataframes.\n",
        "\n",
        "En esta seccion de ciclos tenemos:\n",
        "* For\n",
        "* While\n",
        "* Continue and break\n",
        "\n",
        "La instrucción de for nos permite definir exactamente cuantas repeticiones necesitamos para nuestro ciclo. For es un iterador, por lo que es capaz de navegar una secuencia de acciones para realizar operaciones."
      ],
      "metadata": {
        "id": "Bow7mHH0Bmqo"
      }
    },
    {
      "cell_type": "code",
      "source": [
        "# ejemplo de for\n",
        "\n",
        "lista_prueba = [1, 2, 3, 4, 5, 6, 7]\n",
        "\n",
        "for i in lista_prueba:\n",
        "  print(i)"
      ],
      "metadata": {
        "colab": {
          "base_uri": "https://localhost:8080/"
        },
        "id": "jtybOsD50E7J",
        "outputId": "4d716a10-21f8-4cbb-be36-8d78ba09b948"
      },
      "execution_count": null,
      "outputs": [
        {
          "output_type": "stream",
          "name": "stdout",
          "text": [
            "1\n",
            "2\n",
            "3\n",
            "4\n",
            "5\n",
            "6\n",
            "7\n"
          ]
        }
      ]
    },
    {
      "cell_type": "code",
      "source": [
        "nombre = 'Mayra'\n",
        "\n",
        "for i in nombre:\n",
        "  print(i)"
      ],
      "metadata": {
        "colab": {
          "base_uri": "https://localhost:8080/"
        },
        "id": "Wg85JOXG0fRo",
        "outputId": "cf6b66f4-42e0-4fdb-98d2-0ed1a553f3ee"
      },
      "execution_count": null,
      "outputs": [
        {
          "output_type": "stream",
          "name": "stdout",
          "text": [
            "M\n",
            "a\n",
            "y\n",
            "r\n",
            "a\n"
          ]
        }
      ]
    },
    {
      "cell_type": "code",
      "source": [
        "lista_tuplas = [(1, 4), (2, 6), (3, 8)]\n",
        "\n",
        "for (i, j) in lista_tuplas:\n",
        "  print(i)"
      ],
      "metadata": {
        "colab": {
          "base_uri": "https://localhost:8080/"
        },
        "id": "EvCXqP-_0oMg",
        "outputId": "777cf524-40d9-434e-f419-563c88e743af"
      },
      "execution_count": null,
      "outputs": [
        {
          "output_type": "stream",
          "name": "stdout",
          "text": [
            "1\n",
            "2\n",
            "3\n"
          ]
        }
      ]
    },
    {
      "cell_type": "code",
      "source": [
        "# Uso de range en lugar de contenedor.\n",
        "\n",
        "for num in range(1, 7):\n",
        "    print(num)"
      ],
      "metadata": {
        "colab": {
          "base_uri": "https://localhost:8080/"
        },
        "id": "E0sHPGdF1QkU",
        "outputId": "e28c58e0-7e28-469b-e55c-51ea7f1ff745"
      },
      "execution_count": null,
      "outputs": [
        {
          "output_type": "stream",
          "name": "stdout",
          "text": [
            "1\n",
            "2\n",
            "3\n",
            "4\n",
            "5\n",
            "6\n"
          ]
        }
      ]
    },
    {
      "cell_type": "code",
      "source": [
        "calificaciones_finales = {\"Alice\": 90, \"Bianca\": 85, \"Carlos\": 92}\n",
        "\n",
        "for name, grade in calificaciones_finales.items():\n",
        "    print(f\"{name}: {grade}\")"
      ],
      "metadata": {
        "colab": {
          "base_uri": "https://localhost:8080/"
        },
        "id": "wRkLdm_g1Y5U",
        "outputId": "f3599989-c630-4119-b1a3-59bc5c1e1265"
      },
      "execution_count": null,
      "outputs": [
        {
          "output_type": "stream",
          "name": "stdout",
          "text": [
            "Alice: 90\n",
            "Bianca: 85\n",
            "Carlos: 92\n"
          ]
        }
      ]
    },
    {
      "cell_type": "code",
      "source": [
        "# Hacer una matriz de datos con un for\n",
        "\n",
        "filas = 3\n",
        "columnas = 3\n",
        "\n",
        "matrix = []\n",
        "\n",
        "for i in range(filas):\n",
        "    fila = []\n",
        "    for j in range(columnas):\n",
        "        elemento = i * columnas + j + 1\n",
        "        fila.append(elemento)\n",
        "    matrix.append(fila)\n",
        "\n",
        "# Print the matrix\n",
        "for fila in matrix:\n",
        "    print(fila)"
      ],
      "metadata": {
        "colab": {
          "base_uri": "https://localhost:8080/"
        },
        "id": "i85TB9RD1rNy",
        "outputId": "98b4c1ba-e2d7-4ea0-ff0e-8d268c29dc1c"
      },
      "execution_count": null,
      "outputs": [
        {
          "output_type": "stream",
          "name": "stdout",
          "text": [
            "[1, 2, 3]\n",
            "[4, 5, 6]\n",
            "[7, 8, 9]\n"
          ]
        }
      ]
    },
    {
      "cell_type": "markdown",
      "source": [
        "La complejidad computacional de los \"for\" anidados se refiere a la medida del tiempo y los recursos necesarios para ejecutar un conjunto de instrucciones repetidas en bucles anidados. La complejidad computacional se expresa comúnmente en términos de \"Big O\" notation.\n",
        "\n",
        "Cuando tienes \"for\" loops anidados, el número total de iteraciones aumenta rápidamente a medida que agregas más bucles. Esto puede llevar a un aumento significativo en el tiempo de ejecución y el uso de recursos de tu programa.\n",
        "\n",
        "Si el número de iteraciones aumenta exponencialmente en función del tamaño del problema, se dice que la complejidad es exponencial (por ejemplo, O(2^N)). Esto puede resultar en un tiempo de ejecución prolongado y puede no ser práctico para problemas grandes."
      ],
      "metadata": {
        "id": "6lRtb5iw3PWB"
      }
    },
    {
      "cell_type": "markdown",
      "source": [
        "Despues tenemos la instrucción `while` la cual ejecuta las acciones que le pidamos en la función hasta que cierta condicion se cumple. Esta se usa en los casos en los que no se tiene una certeza de cuantas iteraciones tiene que ser procesado el problema.\n",
        "\n",
        "**NOTA IMPORTANTE**: El while es una sentencia la cual tenemos que cerciorarnos que existe una salida del programa, ya que si no agregamos la condicion de salida, o agregamos una condicion que puede que no se cumpla, los recursos de memoria se veran seriamente afectados."
      ],
      "metadata": {
        "id": "bmMAMf6mB7s7"
      }
    },
    {
      "cell_type": "code",
      "source": [
        "count = 5\n",
        "\n",
        "while count > 0:\n",
        "    print(count)\n",
        "    count -= 1\n",
        "\n",
        "print(\"Blastoff!\")"
      ],
      "metadata": {
        "colab": {
          "base_uri": "https://localhost:8080/"
        },
        "id": "o_wAcJkS4TrD",
        "outputId": "037f3415-ce32-4fc5-d85b-c8680e144926"
      },
      "execution_count": null,
      "outputs": [
        {
          "output_type": "stream",
          "name": "stdout",
          "text": [
            "5\n",
            "4\n",
            "3\n",
            "2\n",
            "1\n",
            "Blastoff!\n"
          ]
        }
      ]
    },
    {
      "cell_type": "code",
      "source": [
        "a, b = 0, 1\n",
        "\n",
        "while a < 100:\n",
        "    print(a)\n",
        "    a, b = b, a + b"
      ],
      "metadata": {
        "colab": {
          "base_uri": "https://localhost:8080/"
        },
        "id": "yhdRCyYp9fg4",
        "outputId": "23ec685b-f717-48db-8c22-bb3a0e8b4682"
      },
      "execution_count": null,
      "outputs": [
        {
          "output_type": "stream",
          "name": "stdout",
          "text": [
            "0\n",
            "1\n",
            "1\n",
            "2\n",
            "3\n",
            "5\n",
            "8\n",
            "13\n",
            "21\n",
            "34\n",
            "55\n",
            "89\n"
          ]
        }
      ]
    },
    {
      "cell_type": "code",
      "source": [
        "password = \"\"\n",
        "\n",
        "while password != \"secret\":\n",
        "    password = input(\"Enter the password: \")\n",
        "\n",
        "print(\"Access granted!\")"
      ],
      "metadata": {
        "colab": {
          "base_uri": "https://localhost:8080/"
        },
        "id": "kitBVytJ9XIv",
        "outputId": "901659c7-7c6e-4df2-edd0-c709e23278b9"
      },
      "execution_count": null,
      "outputs": [
        {
          "output_type": "stream",
          "name": "stdout",
          "text": [
            "Enter the password: secret\n",
            "Access granted!\n"
          ]
        }
      ]
    },
    {
      "cell_type": "markdown",
      "source": [
        "Para el continue and break"
      ],
      "metadata": {
        "id": "Rx38N4JW34U2"
      }
    },
    {
      "cell_type": "code",
      "source": [
        "numbers = [1, 2, 3, 4, 5, 6, 7, 8, 9, 10]\n",
        "\n",
        "for num in numbers:\n",
        "    if num % 2 == 0:\n",
        "        continue\n",
        "    print(num)"
      ],
      "metadata": {
        "colab": {
          "base_uri": "https://localhost:8080/"
        },
        "id": "PomVfeoN-IG9",
        "outputId": "2bd6dcf7-55f6-4eff-9ee7-d7959af2866d"
      },
      "execution_count": null,
      "outputs": [
        {
          "output_type": "stream",
          "name": "stdout",
          "text": [
            "1\n",
            "3\n",
            "5\n",
            "7\n",
            "9\n"
          ]
        }
      ]
    },
    {
      "cell_type": "code",
      "source": [
        "\n",
        "for num in numbers:\n",
        "    print(num)\n",
        "    if num == 5:\n",
        "        break"
      ],
      "metadata": {
        "colab": {
          "base_uri": "https://localhost:8080/"
        },
        "id": "QVkHWpDW-JT1",
        "outputId": "a5b86482-9858-47b0-8f8e-6f4d21285314"
      },
      "execution_count": null,
      "outputs": [
        {
          "output_type": "stream",
          "name": "stdout",
          "text": [
            "1\n",
            "2\n",
            "3\n",
            "4\n",
            "5\n"
          ]
        }
      ]
    },
    {
      "cell_type": "code",
      "source": [
        "for num in numbers:\n",
        "    if num < 0:\n",
        "        continue\n",
        "    print(num)"
      ],
      "metadata": {
        "colab": {
          "base_uri": "https://localhost:8080/"
        },
        "id": "qoPB7nKn-NjV",
        "outputId": "c4c8ce87-a878-4658-d58e-d832c92900d3"
      },
      "execution_count": null,
      "outputs": [
        {
          "output_type": "stream",
          "name": "stdout",
          "text": [
            "1\n",
            "2\n",
            "3\n",
            "4\n",
            "5\n",
            "6\n",
            "7\n",
            "8\n",
            "9\n",
            "10\n"
          ]
        }
      ]
    },
    {
      "cell_type": "markdown",
      "source": [
        "# Practica 1"
      ],
      "metadata": {
        "id": "jcHBpCxmuzKT"
      }
    },
    {
      "cell_type": "markdown",
      "source": [
        "## Ejercicio 1: Par o impar\n",
        "\n",
        "Escribe una funcion que tome un entero como entrada y regrese como salida \"Par\" si el numero es par o \"Impar\" si el numero es impar. Utilizar condicionales logicos para obtener el resultado."
      ],
      "metadata": {
        "id": "0RJRIQ-CxgDg"
      }
    },
    {
      "cell_type": "code",
      "source": [
        "numero = int(input(\"Escribe un número: \"))  # Solicita el numero\n",
        "\n",
        "numbers = [numero]\n",
        "\n",
        "for num in numbers:\n",
        "    if num % 2 == 0:\n",
        "        print(num)\n",
        "        print(\"El numero es par\")\n",
        "    else:\n",
        "        print(num)\n",
        "        print(\"El numero es impar\")"
      ],
      "metadata": {
        "id": "YFgQTVzPxzz5",
        "colab": {
          "base_uri": "https://localhost:8080/"
        },
        "outputId": "c49e7e73-ef5c-4cc4-bd8a-7e82f183c074"
      },
      "execution_count": null,
      "outputs": [
        {
          "output_type": "stream",
          "name": "stdout",
          "text": [
            "Escribe un número: 5\n",
            "5\n",
            "impar\n"
          ]
        }
      ]
    },
    {
      "cell_type": "markdown",
      "source": [
        "## Ejercicio 2: Contador de palabras\n",
        "\n",
        "Escribe una función que tome una frase entera como entrada y devuelva como salida que contenga el recuento de cada palabra en la frase.\n",
        "\n",
        "Ejemplo: \"Este es el ejercicio dos de la practica uno\" como entrada y como salida 9.\n",
        "\n",
        "Utiliza listas y funciones.\n"
      ],
      "metadata": {
        "id": "BD1_pHxLx0Lg"
      }
    },
    {
      "cell_type": "code",
      "source": [
        "def contador_palabras(frase):\n",
        "    # Creamos un diccionario para almacenar las palabras y su recuento\n",
        "    contador = {}\n",
        "\n",
        "    # Dividimos la frase en palabras utilizando el espacio como separador\n",
        "    palabras = frase.split()\n",
        "\n",
        "    # Recorremos las palabras y construimos el contador\n",
        "    for palabra in palabras:\n",
        "        # Si la palabra ya está en el diccionario, incrementamos su recuento\n",
        "        if palabra in contador:\n",
        "            contador[palabra] += 1\n",
        "        else:\n",
        "            # Si la palabra no está en el diccionario, la agregamos con un recuento de 1\n",
        "            contador[palabra] = 1\n",
        "\n",
        "    # Calculamos la sumatoria total de palabras en la frase\n",
        "    total_palabras = sum(contador.values())\n",
        "\n",
        "    return total_palabras\n",
        "\n",
        "# Pedimos al usuario que ingrese una frase\n",
        "frase_usuario = input(\"Ingresa una frase: \")\n",
        "\n",
        "total_palabras = contador_palabras(frase_usuario)\n",
        "\n",
        "print(\"Total de palabras en la frase:\", total_palabras)\n"
      ],
      "metadata": {
        "id": "dqq2rRelyt9Q",
        "colab": {
          "base_uri": "https://localhost:8080/"
        },
        "outputId": "22c71eac-73ee-4f0e-d81f-af45ee6bb2ba"
      },
      "execution_count": null,
      "outputs": [
        {
          "output_type": "stream",
          "name": "stdout",
          "text": [
            "Ingresa una frase: hola hola hola\n",
            "Total de palabras en la frase: 3\n"
          ]
        }
      ]
    },
    {
      "cell_type": "markdown",
      "source": [
        "## Ejercicio 3: Sistema de inicio de sesión\n",
        "\n",
        "Escribe un programa que solicite al usuario ingresar su nombre de usuario y contraseña. Implementa un diccionario que almacene nombres de usuario y contraseñas válidos. Utiliza condicionales para verificar si el nombre de usuario y la contraseña ingresados coinciden con los valores almacenados y muestra un mensaje de éxito o un mensaje de error según corresponda."
      ],
      "metadata": {
        "id": "nR7wuwT8yuPg"
      }
    },
    {
      "cell_type": "code",
      "source": [],
      "metadata": {
        "id": "uqOqqPXRy4FL"
      },
      "execution_count": null,
      "outputs": []
    },
    {
      "cell_type": "markdown",
      "source": [
        "## Ejercicio 4: Lista invertida\n",
        "\n",
        "Escribe una función que tome una lista como entrada y devuelva una nueva lista con los elementos invertidos. Utiliza listas y funciones."
      ],
      "metadata": {
        "id": "HN6TBcRCy4WV"
      }
    },
    {
      "cell_type": "code",
      "source": [
        "def invertir_palabras(frase):\n",
        "    # Dividimos la frase en palabras utilizando el espacio como separador\n",
        "    palabras = frase.split()\n",
        "\n",
        "    # Invertimos cada palabra en la lista de palabras\n",
        "    palabras_invertidas = [palabra[::-1] for palabra in palabras]\n",
        "\n",
        "    # Unimos las palabras invertidas para obtener la frase invertida\n",
        "    frase_invertida = \" \".join(palabras_invertidas)\n",
        "\n",
        "    return frase_invertida\n",
        "\n",
        "# Pedimos al usuario que ingrese una frase\n",
        "frase_usuario = input(\"Ingresa una frase: \")\n",
        "\n",
        "resultado = invertir_palabras(frase_usuario)\n",
        "print(resultado)\n"
      ],
      "metadata": {
        "id": "RztfG7AmzLGh",
        "colab": {
          "base_uri": "https://localhost:8080/"
        },
        "outputId": "b85e70c7-07dc-4b17-f453-15f394a8d70e"
      },
      "execution_count": null,
      "outputs": [
        {
          "output_type": "stream",
          "name": "stdout",
          "text": [
            "Ingresa una frase: sewafweve\n",
            "evewfawes\n"
          ]
        }
      ]
    },
    {
      "cell_type": "markdown",
      "source": [
        "## Ejercicio 5: Carrito de compras\n",
        "\n",
        "Crea un programa que simule un carrito de compras. Implementa un diccionario para almacenar los elementos y sus precios correspondientes. Permite al usuario agregar elementos al carrito, calcular el precio total y mostrar los elementos en el carrito. Utiliza listas, diccionarios, funciones y condicionales para implementar la lógica."
      ],
      "metadata": {
        "id": "uVa3PlDfzLYn"
      }
    },
    {
      "cell_type": "code",
      "source": [],
      "metadata": {
        "id": "6DHb2Be_zVjd"
      },
      "execution_count": null,
      "outputs": []
    },
    {
      "cell_type": "markdown",
      "source": [
        "# Librerias de python para ciencia de datos\n"
      ],
      "metadata": {
        "id": "G_EQ-1pX_DIy"
      }
    },
    {
      "cell_type": "markdown",
      "source": [
        "## Numpy\n",
        "\n",
        " La librería NumPy (Numerical Python) es una de las librerías más utilizadas en Python para el procesamiento eficiente de datos numéricos y científicos.\n",
        "\n",
        " Algunos de los usos comunes de la librería son:\n",
        "\n",
        "**Arrays Numéricos Eficientes:**\n",
        "\n",
        " El objeto fundamental de NumPy es el ndarray, que es una estructura de datos multidimensional para almacenar y manipular datos numéricos de manera eficiente. Los arrays NumPy son más eficientes en términos de tiempo y memoria en comparación con las listas de Python estándar.\n",
        "\n"
      ],
      "metadata": {
        "id": "336y2K6z_IPC"
      }
    },
    {
      "cell_type": "code",
      "source": [
        "import numpy as np\n",
        "\n",
        "# Crear un array NumPy\n",
        "arr = np.array([1, 2, 3, 4, 5])\n",
        "\n",
        "# Realizar operaciones en el array\n",
        "result = arr * 2\n",
        "print(result)"
      ],
      "metadata": {
        "colab": {
          "base_uri": "https://localhost:8080/"
        },
        "id": "cBSxk5G9EfFu",
        "outputId": "31a529fc-c50c-4869-c646-5efa2fabd3aa"
      },
      "execution_count": null,
      "outputs": [
        {
          "output_type": "stream",
          "name": "stdout",
          "text": [
            "[ 2  4  6  8 10]\n"
          ]
        }
      ]
    },
    {
      "cell_type": "markdown",
      "source": [
        "![picture](https://drive.google.com/uc?id=1ey4OURcdsBuW5BGSPDRSxt07OZwYKvR5)"
      ],
      "metadata": {
        "id": "4eTNDD7PFcOf"
      }
    },
    {
      "cell_type": "markdown",
      "source": [
        "**Operaciones Matemáticas Eficientes:**\n",
        "\n",
        " NumPy ofrece una amplia gama de funciones y operaciones matemáticas eficientes y vectorizadas que se pueden aplicar a los arrays NumPy. Estas operaciones se aplican de manera eficiente a través de todos los elementos del array, lo que elimina la necesidad de bucles explícitos.\n",
        "\n"
      ],
      "metadata": {
        "id": "-2pjAOaHEfbX"
      }
    },
    {
      "cell_type": "code",
      "source": [
        "# Operaciones matemáticas con arrays\n",
        "arr1 = np.array([1, 2, 3])\n",
        "arr2 = np.array([4, 5, 6])\n",
        "\n",
        "result = arr1 + arr2\n",
        "print(result)\n",
        "\n",
        "result = np.sin(arr1)\n",
        "print(result)"
      ],
      "metadata": {
        "colab": {
          "base_uri": "https://localhost:8080/"
        },
        "id": "jV5LWXaOEi_f",
        "outputId": "2c04036c-1709-402e-843f-1b8f2f922f4e"
      },
      "execution_count": null,
      "outputs": [
        {
          "output_type": "stream",
          "name": "stdout",
          "text": [
            "[5 7 9]\n",
            "[0.84147098 0.90929743 0.14112001]\n"
          ]
        }
      ]
    },
    {
      "cell_type": "markdown",
      "source": [],
      "metadata": {
        "id": "vJ7J_7yv55Fq"
      }
    },
    {
      "cell_type": "markdown",
      "source": [
        "**Manipulación de Arrays:**\n",
        "\n",
        " NumPy proporciona métodos flexibles y eficientes para manipular y transformar arrays. Puedes realizar operaciones como redimensionamiento, transposición, indexación, división, concatenación, entre otros.\n",
        "\n"
      ],
      "metadata": {
        "id": "Ghiu83JlEjNH"
      }
    },
    {
      "cell_type": "code",
      "source": [
        "# Redimensionar un array\n",
        "arr = np.array([1, 2, 3, 4, 5, 6])\n",
        "reshaped_arr = arr.reshape(2, 3)\n",
        "print(reshaped_arr)\n",
        "\n",
        "\n",
        "# Transponer un array\n",
        "transposed_arr = arr.T\n",
        "print(transposed_arr)\n",
        "\n",
        "\n",
        "# Indexar y rebanar un array\n",
        "sliced_arr = arr[1:4]\n",
        "print(sliced_arr)"
      ],
      "metadata": {
        "colab": {
          "base_uri": "https://localhost:8080/"
        },
        "id": "dFpNPuwXElZv",
        "outputId": "1f1372e3-e9d3-4867-da78-b58e67139bcd"
      },
      "execution_count": null,
      "outputs": [
        {
          "output_type": "stream",
          "name": "stdout",
          "text": [
            "[[1 2 3]\n",
            " [4 5 6]]\n",
            "[1 2 3 4 5 6]\n",
            "[2 3 4]\n"
          ]
        }
      ]
    },
    {
      "cell_type": "markdown",
      "source": [
        "![picture](https://drive.google.com/uc?id=1lymTuQw8_3NrUAovbQzg2z-Y2nWSzhH0)"
      ],
      "metadata": {
        "id": "J_DJ4CkyGfFY"
      }
    },
    {
      "cell_type": "markdown",
      "source": [
        "**Funciones Estadísticas:**\n",
        "\n",
        " NumPy ofrece numerosas funciones estadísticas para el cálculo de medidas como la media, mediana, desviación estándar, correlación, entre otras. Estas funciones son especialmente útiles en el análisis de datos y el modelado estadístico.\n",
        "\n"
      ],
      "metadata": {
        "id": "5S3ZVMzIElq3"
      }
    },
    {
      "cell_type": "code",
      "source": [
        "# Calcular medidas estadísticas\n",
        "arr = np.array([1, 2, 3, 4, 5])\n",
        "mean = np.mean(arr)\n",
        "median = np.median(arr)\n",
        "std_dev = np.std(arr)\n",
        "\n",
        "print(mean)\n",
        "print(median)\n",
        "print(std_dev)"
      ],
      "metadata": {
        "colab": {
          "base_uri": "https://localhost:8080/"
        },
        "id": "wN3XFAKqEniP",
        "outputId": "8f4a1efc-8670-40f1-b1da-3eff94492361"
      },
      "execution_count": null,
      "outputs": [
        {
          "output_type": "stream",
          "name": "stdout",
          "text": [
            "3.0\n",
            "3.0\n",
            "1.4142135623730951\n"
          ]
        }
      ]
    },
    {
      "cell_type": "markdown",
      "source": [],
      "metadata": {
        "id": "uXG6E3102ief"
      }
    },
    {
      "cell_type": "markdown",
      "source": [
        "**Álgebra Lineal:**\n",
        "\n",
        " NumPy proporciona un conjunto completo de funciones para realizar operaciones de álgebra lineal, como la multiplicación de matrices, cálculo de valores propios y vectores propios, resolución de sistemas de ecuaciones lineales, entre otras. Estas capacidades son esenciales para tareas como la regresión lineal, el análisis de componentes principales (PCA), y otros métodos de aprendizaje automático.\n",
        "\n"
      ],
      "metadata": {
        "id": "aCfNgW7TEn02"
      }
    },
    {
      "cell_type": "code",
      "source": [
        "import numpy as np\n",
        "\n",
        "# Multiplicación de matrices\n",
        "matrix1 = np.array([[1, 2], [3, 4]])\n",
        "matrix2 = np.array([[5, 6], [7, 8]])\n",
        "\n",
        "result = np.dot(matrix1, matrix2)\n",
        "print(result)\n",
        "\n",
        "\n",
        "# Cálculo de valores propios y vectores propios\n",
        "eigenvalues, eigenvectors = np.linalg.eig(matrix1)\n",
        "print(eigenvalues)\n",
        "print(eigenvectors)\n",
        "\n",
        "# Resolver un sistema de ecuaciones lineales\n",
        "A = np.array([[2, 3], [4, 5]])\n",
        "b = np.array([6, 7])\n",
        "solution = np.linalg.solve(A, b)\n",
        "print(solution)\n"
      ],
      "metadata": {
        "colab": {
          "base_uri": "https://localhost:8080/"
        },
        "id": "3pga-1DiEpRn",
        "outputId": "eb0b1085-aa6a-4113-a437-b8a207bd8a9d"
      },
      "execution_count": null,
      "outputs": [
        {
          "output_type": "stream",
          "name": "stdout",
          "text": [
            "[[19 22]\n",
            " [43 50]]\n",
            "[-0.37228132  5.37228132]\n",
            "[[-0.82456484 -0.41597356]\n",
            " [ 0.56576746 -0.90937671]]\n",
            "[-4.5  5. ]\n"
          ]
        }
      ]
    },
    {
      "cell_type": "markdown",
      "source": [
        "**Integración con otras Librerías:**\n",
        "\n",
        " NumPy es una base importante para muchas otras librerías científicas y de análisis de datos en Python. Por ejemplo, librerías como Pandas y SciPy se basan en NumPy para realizar operaciones eficientes en datos estructurados y científicos."
      ],
      "metadata": {
        "id": "QfWw3uaOEpse"
      }
    },
    {
      "cell_type": "markdown",
      "source": [
        "## Pandas"
      ],
      "metadata": {
        "id": "DacyaOdrHUxx"
      }
    },
    {
      "cell_type": "markdown",
      "source": [
        "La biblioteca Pandas es una de las más utilizadas en Python para el análisis y manipulación de datos.\n",
        "\n",
        "La biblioteca Pandas proporciona un conjunto completo de herramientas para el análisis y manipulación de datos en Python. Su sintaxis intuitiva y potentes funcionalidades hacen que sea ampliamente utilizada en el campo de la ciencia de datos y análisis de datos."
      ],
      "metadata": {
        "id": "kT7BXa0SHXfR"
      }
    },
    {
      "cell_type": "markdown",
      "source": [
        "**Estructuras de Datos Eficientes:**\n",
        "\n",
        " Pandas proporciona dos estructuras de datos principales: Series y DataFrames. Una Serie es una estructura de datos unidimensional etiquetada que puede contener datos de cualquier tipo, similar a una columna en una tabla de base de datos. Un DataFrame es una estructura de datos bidimensional etiquetada que organiza las Series en una forma tabular, similar a una tabla de base de datos o una hoja de cálculo de Excel.\n",
        "\n",
        "Para crear un cuadro de datos desde cero se utilizan las siguientes instrucciones:\n",
        "* ```pd.DataFrame()``` Genera un cuadro de datos pandas vacío\n",
        "* ```pd.DataFrame({'nombre_columna':[elemento_1, elemento_2, ..., elemento_n],})``` Crear un cuadro de datos pandas con una columna cuyo nombre es ```'nombre_columna'``` compuesta por los elementos separados por comas ```,``` dentro de los corchetes cuadrados ```[]``` , el nombre de la columna siempre este separada de la lista de elementos que la forman por ```:``` ."
      ],
      "metadata": {
        "id": "MAJcRUZNJi9S"
      }
    },
    {
      "cell_type": "code",
      "source": [
        "import pandas as pd\n",
        "\n",
        "# Crear una Serie\n",
        "s = pd.Series([1, 2, 3, 4, 5])\n",
        "\n",
        "# Crear un DataFrame\n",
        "data = {'Name': ['John', 'Emma', 'Peter'],\n",
        "        'Age': [25, 28, 32],\n",
        "        'City': ['New York', 'London', 'Paris']}\n",
        "df = pd.DataFrame(data)\n",
        "df"
      ],
      "metadata": {
        "colab": {
          "base_uri": "https://localhost:8080/",
          "height": 143
        },
        "id": "Zl3Q-VLuKCeK",
        "outputId": "2274a99e-e5c0-41f5-d23a-bf197df8ee40"
      },
      "execution_count": null,
      "outputs": [
        {
          "output_type": "execute_result",
          "data": {
            "text/plain": [
              "    Name  Age      City\n",
              "0   John   25  New York\n",
              "1   Emma   28    London\n",
              "2  Peter   32     Paris"
            ],
            "text/html": [
              "\n",
              "\n",
              "  <div id=\"df-f12f018e-78d1-461e-88bd-65ca3ac1c194\">\n",
              "    <div class=\"colab-df-container\">\n",
              "      <div>\n",
              "<style scoped>\n",
              "    .dataframe tbody tr th:only-of-type {\n",
              "        vertical-align: middle;\n",
              "    }\n",
              "\n",
              "    .dataframe tbody tr th {\n",
              "        vertical-align: top;\n",
              "    }\n",
              "\n",
              "    .dataframe thead th {\n",
              "        text-align: right;\n",
              "    }\n",
              "</style>\n",
              "<table border=\"1\" class=\"dataframe\">\n",
              "  <thead>\n",
              "    <tr style=\"text-align: right;\">\n",
              "      <th></th>\n",
              "      <th>Name</th>\n",
              "      <th>Age</th>\n",
              "      <th>City</th>\n",
              "    </tr>\n",
              "  </thead>\n",
              "  <tbody>\n",
              "    <tr>\n",
              "      <th>0</th>\n",
              "      <td>John</td>\n",
              "      <td>25</td>\n",
              "      <td>New York</td>\n",
              "    </tr>\n",
              "    <tr>\n",
              "      <th>1</th>\n",
              "      <td>Emma</td>\n",
              "      <td>28</td>\n",
              "      <td>London</td>\n",
              "    </tr>\n",
              "    <tr>\n",
              "      <th>2</th>\n",
              "      <td>Peter</td>\n",
              "      <td>32</td>\n",
              "      <td>Paris</td>\n",
              "    </tr>\n",
              "  </tbody>\n",
              "</table>\n",
              "</div>\n",
              "      <button class=\"colab-df-convert\" onclick=\"convertToInteractive('df-f12f018e-78d1-461e-88bd-65ca3ac1c194')\"\n",
              "              title=\"Convert this dataframe to an interactive table.\"\n",
              "              style=\"display:none;\">\n",
              "\n",
              "  <svg xmlns=\"http://www.w3.org/2000/svg\" height=\"24px\"viewBox=\"0 0 24 24\"\n",
              "       width=\"24px\">\n",
              "    <path d=\"M0 0h24v24H0V0z\" fill=\"none\"/>\n",
              "    <path d=\"M18.56 5.44l.94 2.06.94-2.06 2.06-.94-2.06-.94-.94-2.06-.94 2.06-2.06.94zm-11 1L8.5 8.5l.94-2.06 2.06-.94-2.06-.94L8.5 2.5l-.94 2.06-2.06.94zm10 10l.94 2.06.94-2.06 2.06-.94-2.06-.94-.94-2.06-.94 2.06-2.06.94z\"/><path d=\"M17.41 7.96l-1.37-1.37c-.4-.4-.92-.59-1.43-.59-.52 0-1.04.2-1.43.59L10.3 9.45l-7.72 7.72c-.78.78-.78 2.05 0 2.83L4 21.41c.39.39.9.59 1.41.59.51 0 1.02-.2 1.41-.59l7.78-7.78 2.81-2.81c.8-.78.8-2.07 0-2.86zM5.41 20L4 18.59l7.72-7.72 1.47 1.35L5.41 20z\"/>\n",
              "  </svg>\n",
              "      </button>\n",
              "\n",
              "\n",
              "\n",
              "    <div id=\"df-4b142457-01d5-4923-9c73-2b6ac53b0cb4\">\n",
              "      <button class=\"colab-df-quickchart\" onclick=\"quickchart('df-4b142457-01d5-4923-9c73-2b6ac53b0cb4')\"\n",
              "              title=\"Suggest charts.\"\n",
              "              style=\"display:none;\">\n",
              "\n",
              "<svg xmlns=\"http://www.w3.org/2000/svg\" height=\"24px\"viewBox=\"0 0 24 24\"\n",
              "     width=\"24px\">\n",
              "    <g>\n",
              "        <path d=\"M19 3H5c-1.1 0-2 .9-2 2v14c0 1.1.9 2 2 2h14c1.1 0 2-.9 2-2V5c0-1.1-.9-2-2-2zM9 17H7v-7h2v7zm4 0h-2V7h2v10zm4 0h-2v-4h2v4z\"/>\n",
              "    </g>\n",
              "</svg>\n",
              "      </button>\n",
              "    </div>\n",
              "\n",
              "<style>\n",
              "  .colab-df-quickchart {\n",
              "    background-color: #E8F0FE;\n",
              "    border: none;\n",
              "    border-radius: 50%;\n",
              "    cursor: pointer;\n",
              "    display: none;\n",
              "    fill: #1967D2;\n",
              "    height: 32px;\n",
              "    padding: 0 0 0 0;\n",
              "    width: 32px;\n",
              "  }\n",
              "\n",
              "  .colab-df-quickchart:hover {\n",
              "    background-color: #E2EBFA;\n",
              "    box-shadow: 0px 1px 2px rgba(60, 64, 67, 0.3), 0px 1px 3px 1px rgba(60, 64, 67, 0.15);\n",
              "    fill: #174EA6;\n",
              "  }\n",
              "\n",
              "  [theme=dark] .colab-df-quickchart {\n",
              "    background-color: #3B4455;\n",
              "    fill: #D2E3FC;\n",
              "  }\n",
              "\n",
              "  [theme=dark] .colab-df-quickchart:hover {\n",
              "    background-color: #434B5C;\n",
              "    box-shadow: 0px 1px 3px 1px rgba(0, 0, 0, 0.15);\n",
              "    filter: drop-shadow(0px 1px 2px rgba(0, 0, 0, 0.3));\n",
              "    fill: #FFFFFF;\n",
              "  }\n",
              "</style>\n",
              "\n",
              "    <script>\n",
              "      async function quickchart(key) {\n",
              "        const containerElement = document.querySelector('#' + key);\n",
              "        const charts = await google.colab.kernel.invokeFunction(\n",
              "            'suggestCharts', [key], {});\n",
              "      }\n",
              "    </script>\n",
              "\n",
              "      <script>\n",
              "\n",
              "function displayQuickchartButton(domScope) {\n",
              "  let quickchartButtonEl =\n",
              "    domScope.querySelector('#df-4b142457-01d5-4923-9c73-2b6ac53b0cb4 button.colab-df-quickchart');\n",
              "  quickchartButtonEl.style.display =\n",
              "    google.colab.kernel.accessAllowed ? 'block' : 'none';\n",
              "}\n",
              "\n",
              "        displayQuickchartButton(document);\n",
              "      </script>\n",
              "      <style>\n",
              "    .colab-df-container {\n",
              "      display:flex;\n",
              "      flex-wrap:wrap;\n",
              "      gap: 12px;\n",
              "    }\n",
              "\n",
              "    .colab-df-convert {\n",
              "      background-color: #E8F0FE;\n",
              "      border: none;\n",
              "      border-radius: 50%;\n",
              "      cursor: pointer;\n",
              "      display: none;\n",
              "      fill: #1967D2;\n",
              "      height: 32px;\n",
              "      padding: 0 0 0 0;\n",
              "      width: 32px;\n",
              "    }\n",
              "\n",
              "    .colab-df-convert:hover {\n",
              "      background-color: #E2EBFA;\n",
              "      box-shadow: 0px 1px 2px rgba(60, 64, 67, 0.3), 0px 1px 3px 1px rgba(60, 64, 67, 0.15);\n",
              "      fill: #174EA6;\n",
              "    }\n",
              "\n",
              "    [theme=dark] .colab-df-convert {\n",
              "      background-color: #3B4455;\n",
              "      fill: #D2E3FC;\n",
              "    }\n",
              "\n",
              "    [theme=dark] .colab-df-convert:hover {\n",
              "      background-color: #434B5C;\n",
              "      box-shadow: 0px 1px 3px 1px rgba(0, 0, 0, 0.15);\n",
              "      filter: drop-shadow(0px 1px 2px rgba(0, 0, 0, 0.3));\n",
              "      fill: #FFFFFF;\n",
              "    }\n",
              "  </style>\n",
              "\n",
              "      <script>\n",
              "        const buttonEl =\n",
              "          document.querySelector('#df-f12f018e-78d1-461e-88bd-65ca3ac1c194 button.colab-df-convert');\n",
              "        buttonEl.style.display =\n",
              "          google.colab.kernel.accessAllowed ? 'block' : 'none';\n",
              "\n",
              "        async function convertToInteractive(key) {\n",
              "          const element = document.querySelector('#df-f12f018e-78d1-461e-88bd-65ca3ac1c194');\n",
              "          const dataTable =\n",
              "            await google.colab.kernel.invokeFunction('convertToInteractive',\n",
              "                                                     [key], {});\n",
              "          if (!dataTable) return;\n",
              "\n",
              "          const docLinkHtml = 'Like what you see? Visit the ' +\n",
              "            '<a target=\"_blank\" href=https://colab.research.google.com/notebooks/data_table.ipynb>data table notebook</a>'\n",
              "            + ' to learn more about interactive tables.';\n",
              "          element.innerHTML = '';\n",
              "          dataTable['output_type'] = 'display_data';\n",
              "          await google.colab.output.renderOutput(dataTable, element);\n",
              "          const docLink = document.createElement('div');\n",
              "          docLink.innerHTML = docLinkHtml;\n",
              "          element.appendChild(docLink);\n",
              "        }\n",
              "      </script>\n",
              "    </div>\n",
              "  </div>\n"
            ]
          },
          "metadata": {},
          "execution_count": 20
        }
      ]
    },
    {
      "cell_type": "code",
      "source": [
        "# Escribir un DataFrame en un archivo CSV\n",
        "df.to_csv('output.csv', index=False)"
      ],
      "metadata": {
        "id": "fC4cYHYOLQob"
      },
      "execution_count": null,
      "outputs": []
    },
    {
      "cell_type": "code",
      "source": [
        "datos1 = pd.DataFrame()\n",
        "rango = np.arange(5,9,1)\n",
        "datos1['valores'] = rango          #variable que se utilizo en la seccion de NumPy para guardar un rango de valores\n",
        "datos1['numpy'] = np.arange(10,14)\n",
        "datos1['fecha'] = pd.date_range('2020-01-01', periods=4, freq='y')\n",
        "datos1"
      ],
      "metadata": {
        "colab": {
          "base_uri": "https://localhost:8080/",
          "height": 175
        },
        "id": "IAeNAyfPKfDp",
        "outputId": "d0d0de48-65a2-46f2-f1e2-87fbe1d1fa68"
      },
      "execution_count": null,
      "outputs": [
        {
          "output_type": "execute_result",
          "data": {
            "text/plain": [
              "   valores  numpy      fecha\n",
              "0        5     10 2020-12-31\n",
              "1        6     11 2021-12-31\n",
              "2        7     12 2022-12-31\n",
              "3        8     13 2023-12-31"
            ],
            "text/html": [
              "\n",
              "\n",
              "  <div id=\"df-fda80f81-362c-4754-946d-4ad5f6a7e244\">\n",
              "    <div class=\"colab-df-container\">\n",
              "      <div>\n",
              "<style scoped>\n",
              "    .dataframe tbody tr th:only-of-type {\n",
              "        vertical-align: middle;\n",
              "    }\n",
              "\n",
              "    .dataframe tbody tr th {\n",
              "        vertical-align: top;\n",
              "    }\n",
              "\n",
              "    .dataframe thead th {\n",
              "        text-align: right;\n",
              "    }\n",
              "</style>\n",
              "<table border=\"1\" class=\"dataframe\">\n",
              "  <thead>\n",
              "    <tr style=\"text-align: right;\">\n",
              "      <th></th>\n",
              "      <th>valores</th>\n",
              "      <th>numpy</th>\n",
              "      <th>fecha</th>\n",
              "    </tr>\n",
              "  </thead>\n",
              "  <tbody>\n",
              "    <tr>\n",
              "      <th>0</th>\n",
              "      <td>5</td>\n",
              "      <td>10</td>\n",
              "      <td>2020-12-31</td>\n",
              "    </tr>\n",
              "    <tr>\n",
              "      <th>1</th>\n",
              "      <td>6</td>\n",
              "      <td>11</td>\n",
              "      <td>2021-12-31</td>\n",
              "    </tr>\n",
              "    <tr>\n",
              "      <th>2</th>\n",
              "      <td>7</td>\n",
              "      <td>12</td>\n",
              "      <td>2022-12-31</td>\n",
              "    </tr>\n",
              "    <tr>\n",
              "      <th>3</th>\n",
              "      <td>8</td>\n",
              "      <td>13</td>\n",
              "      <td>2023-12-31</td>\n",
              "    </tr>\n",
              "  </tbody>\n",
              "</table>\n",
              "</div>\n",
              "      <button class=\"colab-df-convert\" onclick=\"convertToInteractive('df-fda80f81-362c-4754-946d-4ad5f6a7e244')\"\n",
              "              title=\"Convert this dataframe to an interactive table.\"\n",
              "              style=\"display:none;\">\n",
              "\n",
              "  <svg xmlns=\"http://www.w3.org/2000/svg\" height=\"24px\"viewBox=\"0 0 24 24\"\n",
              "       width=\"24px\">\n",
              "    <path d=\"M0 0h24v24H0V0z\" fill=\"none\"/>\n",
              "    <path d=\"M18.56 5.44l.94 2.06.94-2.06 2.06-.94-2.06-.94-.94-2.06-.94 2.06-2.06.94zm-11 1L8.5 8.5l.94-2.06 2.06-.94-2.06-.94L8.5 2.5l-.94 2.06-2.06.94zm10 10l.94 2.06.94-2.06 2.06-.94-2.06-.94-.94-2.06-.94 2.06-2.06.94z\"/><path d=\"M17.41 7.96l-1.37-1.37c-.4-.4-.92-.59-1.43-.59-.52 0-1.04.2-1.43.59L10.3 9.45l-7.72 7.72c-.78.78-.78 2.05 0 2.83L4 21.41c.39.39.9.59 1.41.59.51 0 1.02-.2 1.41-.59l7.78-7.78 2.81-2.81c.8-.78.8-2.07 0-2.86zM5.41 20L4 18.59l7.72-7.72 1.47 1.35L5.41 20z\"/>\n",
              "  </svg>\n",
              "      </button>\n",
              "\n",
              "\n",
              "\n",
              "    <div id=\"df-b0bcfc68-eb34-49e6-b5f1-22affe53c2d3\">\n",
              "      <button class=\"colab-df-quickchart\" onclick=\"quickchart('df-b0bcfc68-eb34-49e6-b5f1-22affe53c2d3')\"\n",
              "              title=\"Suggest charts.\"\n",
              "              style=\"display:none;\">\n",
              "\n",
              "<svg xmlns=\"http://www.w3.org/2000/svg\" height=\"24px\"viewBox=\"0 0 24 24\"\n",
              "     width=\"24px\">\n",
              "    <g>\n",
              "        <path d=\"M19 3H5c-1.1 0-2 .9-2 2v14c0 1.1.9 2 2 2h14c1.1 0 2-.9 2-2V5c0-1.1-.9-2-2-2zM9 17H7v-7h2v7zm4 0h-2V7h2v10zm4 0h-2v-4h2v4z\"/>\n",
              "    </g>\n",
              "</svg>\n",
              "      </button>\n",
              "    </div>\n",
              "\n",
              "<style>\n",
              "  .colab-df-quickchart {\n",
              "    background-color: #E8F0FE;\n",
              "    border: none;\n",
              "    border-radius: 50%;\n",
              "    cursor: pointer;\n",
              "    display: none;\n",
              "    fill: #1967D2;\n",
              "    height: 32px;\n",
              "    padding: 0 0 0 0;\n",
              "    width: 32px;\n",
              "  }\n",
              "\n",
              "  .colab-df-quickchart:hover {\n",
              "    background-color: #E2EBFA;\n",
              "    box-shadow: 0px 1px 2px rgba(60, 64, 67, 0.3), 0px 1px 3px 1px rgba(60, 64, 67, 0.15);\n",
              "    fill: #174EA6;\n",
              "  }\n",
              "\n",
              "  [theme=dark] .colab-df-quickchart {\n",
              "    background-color: #3B4455;\n",
              "    fill: #D2E3FC;\n",
              "  }\n",
              "\n",
              "  [theme=dark] .colab-df-quickchart:hover {\n",
              "    background-color: #434B5C;\n",
              "    box-shadow: 0px 1px 3px 1px rgba(0, 0, 0, 0.15);\n",
              "    filter: drop-shadow(0px 1px 2px rgba(0, 0, 0, 0.3));\n",
              "    fill: #FFFFFF;\n",
              "  }\n",
              "</style>\n",
              "\n",
              "    <script>\n",
              "      async function quickchart(key) {\n",
              "        const containerElement = document.querySelector('#' + key);\n",
              "        const charts = await google.colab.kernel.invokeFunction(\n",
              "            'suggestCharts', [key], {});\n",
              "      }\n",
              "    </script>\n",
              "\n",
              "      <script>\n",
              "\n",
              "function displayQuickchartButton(domScope) {\n",
              "  let quickchartButtonEl =\n",
              "    domScope.querySelector('#df-b0bcfc68-eb34-49e6-b5f1-22affe53c2d3 button.colab-df-quickchart');\n",
              "  quickchartButtonEl.style.display =\n",
              "    google.colab.kernel.accessAllowed ? 'block' : 'none';\n",
              "}\n",
              "\n",
              "        displayQuickchartButton(document);\n",
              "      </script>\n",
              "      <style>\n",
              "    .colab-df-container {\n",
              "      display:flex;\n",
              "      flex-wrap:wrap;\n",
              "      gap: 12px;\n",
              "    }\n",
              "\n",
              "    .colab-df-convert {\n",
              "      background-color: #E8F0FE;\n",
              "      border: none;\n",
              "      border-radius: 50%;\n",
              "      cursor: pointer;\n",
              "      display: none;\n",
              "      fill: #1967D2;\n",
              "      height: 32px;\n",
              "      padding: 0 0 0 0;\n",
              "      width: 32px;\n",
              "    }\n",
              "\n",
              "    .colab-df-convert:hover {\n",
              "      background-color: #E2EBFA;\n",
              "      box-shadow: 0px 1px 2px rgba(60, 64, 67, 0.3), 0px 1px 3px 1px rgba(60, 64, 67, 0.15);\n",
              "      fill: #174EA6;\n",
              "    }\n",
              "\n",
              "    [theme=dark] .colab-df-convert {\n",
              "      background-color: #3B4455;\n",
              "      fill: #D2E3FC;\n",
              "    }\n",
              "\n",
              "    [theme=dark] .colab-df-convert:hover {\n",
              "      background-color: #434B5C;\n",
              "      box-shadow: 0px 1px 3px 1px rgba(0, 0, 0, 0.15);\n",
              "      filter: drop-shadow(0px 1px 2px rgba(0, 0, 0, 0.3));\n",
              "      fill: #FFFFFF;\n",
              "    }\n",
              "  </style>\n",
              "\n",
              "      <script>\n",
              "        const buttonEl =\n",
              "          document.querySelector('#df-fda80f81-362c-4754-946d-4ad5f6a7e244 button.colab-df-convert');\n",
              "        buttonEl.style.display =\n",
              "          google.colab.kernel.accessAllowed ? 'block' : 'none';\n",
              "\n",
              "        async function convertToInteractive(key) {\n",
              "          const element = document.querySelector('#df-fda80f81-362c-4754-946d-4ad5f6a7e244');\n",
              "          const dataTable =\n",
              "            await google.colab.kernel.invokeFunction('convertToInteractive',\n",
              "                                                     [key], {});\n",
              "          if (!dataTable) return;\n",
              "\n",
              "          const docLinkHtml = 'Like what you see? Visit the ' +\n",
              "            '<a target=\"_blank\" href=https://colab.research.google.com/notebooks/data_table.ipynb>data table notebook</a>'\n",
              "            + ' to learn more about interactive tables.';\n",
              "          element.innerHTML = '';\n",
              "          dataTable['output_type'] = 'display_data';\n",
              "          await google.colab.output.renderOutput(dataTable, element);\n",
              "          const docLink = document.createElement('div');\n",
              "          docLink.innerHTML = docLinkHtml;\n",
              "          element.appendChild(docLink);\n",
              "        }\n",
              "      </script>\n",
              "    </div>\n",
              "  </div>\n"
            ]
          },
          "metadata": {},
          "execution_count": 23
        }
      ]
    },
    {
      "cell_type": "markdown",
      "source": [
        "**Lectura y Escritura de Datos:**\n",
        "\n",
        " Pandas ofrece funciones para leer y escribir datos en varios formatos, como CSV, Excel, SQL, JSON, entre otros. Puedes importar datos desde diferentes fuentes y exportarlos en varios formatos para su análisis y manipulación.\n",
        "\n",
        "Como se menciono al inicio de esta sección pandas puede manejar una gran variedad de formatos en las que se encuentran las bases de datos, en esta [**liga**]( https://pandas.pydata.org/docs/user_guide/io.html) muestra todos los formatos y como manejar cada uno de ellos.\n",
        "\n",
        "La gran mayoría de las bases de datos enfocadas para el uso de inteligencia artificial se encuentran en formato ```.csv```, por tal motivo veremos como leer estos archivos con pandas y como guardar un cuadro de datos pandas en este formato.\n",
        "* ```pd.read_csv('nombre_archivo.csv')``` Para leer un archivo csv\n",
        "* ```pd.to_csv('nombre_archivo.csv')``` Para guardar un cuadro de datos pandas en un archivo csv"
      ],
      "metadata": {
        "id": "Eud9ixwgJp86"
      }
    },
    {
      "cell_type": "code",
      "source": [
        "\n",
        "datos = pd.read_csv('/content/drive/MyDrive/Datasets/Datos_curso/altura_peso.csv')\n",
        "datos"
      ],
      "metadata": {
        "colab": {
          "base_uri": "https://localhost:8080/",
          "height": 423
        },
        "id": "Q4a_P4ScKCvz",
        "outputId": "d0b97ea7-d909-4875-bbaa-15bc341968aa"
      },
      "execution_count": null,
      "outputs": [
        {
          "output_type": "execute_result",
          "data": {
            "text/plain": [
              "      Gender     Height      Weight\n",
              "0       Male  73.847017  241.893563\n",
              "1       Male  68.781904  162.310473\n",
              "2       Male  74.110105  212.740856\n",
              "3       Male  71.730978  220.042470\n",
              "4       Male  69.881796  206.349801\n",
              "...      ...        ...         ...\n",
              "9995  Female  66.172652  136.777454\n",
              "9996  Female  67.067155  170.867906\n",
              "9997  Female  63.867992  128.475319\n",
              "9998  Female  69.034243  163.852461\n",
              "9999  Female  61.944246  113.649103\n",
              "\n",
              "[10000 rows x 3 columns]"
            ],
            "text/html": [
              "\n",
              "\n",
              "  <div id=\"df-0dedd050-f137-48fc-8ef7-4a04bb4f662b\">\n",
              "    <div class=\"colab-df-container\">\n",
              "      <div>\n",
              "<style scoped>\n",
              "    .dataframe tbody tr th:only-of-type {\n",
              "        vertical-align: middle;\n",
              "    }\n",
              "\n",
              "    .dataframe tbody tr th {\n",
              "        vertical-align: top;\n",
              "    }\n",
              "\n",
              "    .dataframe thead th {\n",
              "        text-align: right;\n",
              "    }\n",
              "</style>\n",
              "<table border=\"1\" class=\"dataframe\">\n",
              "  <thead>\n",
              "    <tr style=\"text-align: right;\">\n",
              "      <th></th>\n",
              "      <th>Gender</th>\n",
              "      <th>Height</th>\n",
              "      <th>Weight</th>\n",
              "    </tr>\n",
              "  </thead>\n",
              "  <tbody>\n",
              "    <tr>\n",
              "      <th>0</th>\n",
              "      <td>Male</td>\n",
              "      <td>73.847017</td>\n",
              "      <td>241.893563</td>\n",
              "    </tr>\n",
              "    <tr>\n",
              "      <th>1</th>\n",
              "      <td>Male</td>\n",
              "      <td>68.781904</td>\n",
              "      <td>162.310473</td>\n",
              "    </tr>\n",
              "    <tr>\n",
              "      <th>2</th>\n",
              "      <td>Male</td>\n",
              "      <td>74.110105</td>\n",
              "      <td>212.740856</td>\n",
              "    </tr>\n",
              "    <tr>\n",
              "      <th>3</th>\n",
              "      <td>Male</td>\n",
              "      <td>71.730978</td>\n",
              "      <td>220.042470</td>\n",
              "    </tr>\n",
              "    <tr>\n",
              "      <th>4</th>\n",
              "      <td>Male</td>\n",
              "      <td>69.881796</td>\n",
              "      <td>206.349801</td>\n",
              "    </tr>\n",
              "    <tr>\n",
              "      <th>...</th>\n",
              "      <td>...</td>\n",
              "      <td>...</td>\n",
              "      <td>...</td>\n",
              "    </tr>\n",
              "    <tr>\n",
              "      <th>9995</th>\n",
              "      <td>Female</td>\n",
              "      <td>66.172652</td>\n",
              "      <td>136.777454</td>\n",
              "    </tr>\n",
              "    <tr>\n",
              "      <th>9996</th>\n",
              "      <td>Female</td>\n",
              "      <td>67.067155</td>\n",
              "      <td>170.867906</td>\n",
              "    </tr>\n",
              "    <tr>\n",
              "      <th>9997</th>\n",
              "      <td>Female</td>\n",
              "      <td>63.867992</td>\n",
              "      <td>128.475319</td>\n",
              "    </tr>\n",
              "    <tr>\n",
              "      <th>9998</th>\n",
              "      <td>Female</td>\n",
              "      <td>69.034243</td>\n",
              "      <td>163.852461</td>\n",
              "    </tr>\n",
              "    <tr>\n",
              "      <th>9999</th>\n",
              "      <td>Female</td>\n",
              "      <td>61.944246</td>\n",
              "      <td>113.649103</td>\n",
              "    </tr>\n",
              "  </tbody>\n",
              "</table>\n",
              "<p>10000 rows × 3 columns</p>\n",
              "</div>\n",
              "      <button class=\"colab-df-convert\" onclick=\"convertToInteractive('df-0dedd050-f137-48fc-8ef7-4a04bb4f662b')\"\n",
              "              title=\"Convert this dataframe to an interactive table.\"\n",
              "              style=\"display:none;\">\n",
              "\n",
              "  <svg xmlns=\"http://www.w3.org/2000/svg\" height=\"24px\"viewBox=\"0 0 24 24\"\n",
              "       width=\"24px\">\n",
              "    <path d=\"M0 0h24v24H0V0z\" fill=\"none\"/>\n",
              "    <path d=\"M18.56 5.44l.94 2.06.94-2.06 2.06-.94-2.06-.94-.94-2.06-.94 2.06-2.06.94zm-11 1L8.5 8.5l.94-2.06 2.06-.94-2.06-.94L8.5 2.5l-.94 2.06-2.06.94zm10 10l.94 2.06.94-2.06 2.06-.94-2.06-.94-.94-2.06-.94 2.06-2.06.94z\"/><path d=\"M17.41 7.96l-1.37-1.37c-.4-.4-.92-.59-1.43-.59-.52 0-1.04.2-1.43.59L10.3 9.45l-7.72 7.72c-.78.78-.78 2.05 0 2.83L4 21.41c.39.39.9.59 1.41.59.51 0 1.02-.2 1.41-.59l7.78-7.78 2.81-2.81c.8-.78.8-2.07 0-2.86zM5.41 20L4 18.59l7.72-7.72 1.47 1.35L5.41 20z\"/>\n",
              "  </svg>\n",
              "      </button>\n",
              "\n",
              "\n",
              "\n",
              "    <div id=\"df-59f84546-1521-42cd-8f9f-ebab29614e60\">\n",
              "      <button class=\"colab-df-quickchart\" onclick=\"quickchart('df-59f84546-1521-42cd-8f9f-ebab29614e60')\"\n",
              "              title=\"Suggest charts.\"\n",
              "              style=\"display:none;\">\n",
              "\n",
              "<svg xmlns=\"http://www.w3.org/2000/svg\" height=\"24px\"viewBox=\"0 0 24 24\"\n",
              "     width=\"24px\">\n",
              "    <g>\n",
              "        <path d=\"M19 3H5c-1.1 0-2 .9-2 2v14c0 1.1.9 2 2 2h14c1.1 0 2-.9 2-2V5c0-1.1-.9-2-2-2zM9 17H7v-7h2v7zm4 0h-2V7h2v10zm4 0h-2v-4h2v4z\"/>\n",
              "    </g>\n",
              "</svg>\n",
              "      </button>\n",
              "    </div>\n",
              "\n",
              "<style>\n",
              "  .colab-df-quickchart {\n",
              "    background-color: #E8F0FE;\n",
              "    border: none;\n",
              "    border-radius: 50%;\n",
              "    cursor: pointer;\n",
              "    display: none;\n",
              "    fill: #1967D2;\n",
              "    height: 32px;\n",
              "    padding: 0 0 0 0;\n",
              "    width: 32px;\n",
              "  }\n",
              "\n",
              "  .colab-df-quickchart:hover {\n",
              "    background-color: #E2EBFA;\n",
              "    box-shadow: 0px 1px 2px rgba(60, 64, 67, 0.3), 0px 1px 3px 1px rgba(60, 64, 67, 0.15);\n",
              "    fill: #174EA6;\n",
              "  }\n",
              "\n",
              "  [theme=dark] .colab-df-quickchart {\n",
              "    background-color: #3B4455;\n",
              "    fill: #D2E3FC;\n",
              "  }\n",
              "\n",
              "  [theme=dark] .colab-df-quickchart:hover {\n",
              "    background-color: #434B5C;\n",
              "    box-shadow: 0px 1px 3px 1px rgba(0, 0, 0, 0.15);\n",
              "    filter: drop-shadow(0px 1px 2px rgba(0, 0, 0, 0.3));\n",
              "    fill: #FFFFFF;\n",
              "  }\n",
              "</style>\n",
              "\n",
              "    <script>\n",
              "      async function quickchart(key) {\n",
              "        const containerElement = document.querySelector('#' + key);\n",
              "        const charts = await google.colab.kernel.invokeFunction(\n",
              "            'suggestCharts', [key], {});\n",
              "      }\n",
              "    </script>\n",
              "\n",
              "      <script>\n",
              "\n",
              "function displayQuickchartButton(domScope) {\n",
              "  let quickchartButtonEl =\n",
              "    domScope.querySelector('#df-59f84546-1521-42cd-8f9f-ebab29614e60 button.colab-df-quickchart');\n",
              "  quickchartButtonEl.style.display =\n",
              "    google.colab.kernel.accessAllowed ? 'block' : 'none';\n",
              "}\n",
              "\n",
              "        displayQuickchartButton(document);\n",
              "      </script>\n",
              "      <style>\n",
              "    .colab-df-container {\n",
              "      display:flex;\n",
              "      flex-wrap:wrap;\n",
              "      gap: 12px;\n",
              "    }\n",
              "\n",
              "    .colab-df-convert {\n",
              "      background-color: #E8F0FE;\n",
              "      border: none;\n",
              "      border-radius: 50%;\n",
              "      cursor: pointer;\n",
              "      display: none;\n",
              "      fill: #1967D2;\n",
              "      height: 32px;\n",
              "      padding: 0 0 0 0;\n",
              "      width: 32px;\n",
              "    }\n",
              "\n",
              "    .colab-df-convert:hover {\n",
              "      background-color: #E2EBFA;\n",
              "      box-shadow: 0px 1px 2px rgba(60, 64, 67, 0.3), 0px 1px 3px 1px rgba(60, 64, 67, 0.15);\n",
              "      fill: #174EA6;\n",
              "    }\n",
              "\n",
              "    [theme=dark] .colab-df-convert {\n",
              "      background-color: #3B4455;\n",
              "      fill: #D2E3FC;\n",
              "    }\n",
              "\n",
              "    [theme=dark] .colab-df-convert:hover {\n",
              "      background-color: #434B5C;\n",
              "      box-shadow: 0px 1px 3px 1px rgba(0, 0, 0, 0.15);\n",
              "      filter: drop-shadow(0px 1px 2px rgba(0, 0, 0, 0.3));\n",
              "      fill: #FFFFFF;\n",
              "    }\n",
              "  </style>\n",
              "\n",
              "      <script>\n",
              "        const buttonEl =\n",
              "          document.querySelector('#df-0dedd050-f137-48fc-8ef7-4a04bb4f662b button.colab-df-convert');\n",
              "        buttonEl.style.display =\n",
              "          google.colab.kernel.accessAllowed ? 'block' : 'none';\n",
              "\n",
              "        async function convertToInteractive(key) {\n",
              "          const element = document.querySelector('#df-0dedd050-f137-48fc-8ef7-4a04bb4f662b');\n",
              "          const dataTable =\n",
              "            await google.colab.kernel.invokeFunction('convertToInteractive',\n",
              "                                                     [key], {});\n",
              "          if (!dataTable) return;\n",
              "\n",
              "          const docLinkHtml = 'Like what you see? Visit the ' +\n",
              "            '<a target=\"_blank\" href=https://colab.research.google.com/notebooks/data_table.ipynb>data table notebook</a>'\n",
              "            + ' to learn more about interactive tables.';\n",
              "          element.innerHTML = '';\n",
              "          dataTable['output_type'] = 'display_data';\n",
              "          await google.colab.output.renderOutput(dataTable, element);\n",
              "          const docLink = document.createElement('div');\n",
              "          docLink.innerHTML = docLinkHtml;\n",
              "          element.appendChild(docLink);\n",
              "        }\n",
              "      </script>\n",
              "    </div>\n",
              "  </div>\n"
            ]
          },
          "metadata": {},
          "execution_count": 24
        }
      ]
    },
    {
      "cell_type": "markdown",
      "source": [
        "**Manipulación y Limpieza de Datos:**\n",
        "\n",
        "Pandas proporciona métodos para realizar tareas comunes de manipulación y limpieza de datos, como filtrado, selección, agregación, transformación y eliminación de valores duplicados o faltantes. Estas operaciones son esenciales para preparar y limpiar los datos antes de realizar análisis más avanzados.\n",
        "\n"
      ],
      "metadata": {
        "id": "UAkOeCKeJuHq"
      }
    },
    {
      "cell_type": "code",
      "source": [
        "# Filtrar filas basado en una condición\n",
        "filtered_df = df[df['Age'] > 30]\n",
        "\n",
        "# Eliminar valores duplicados\n",
        "deduplicated_df = df.drop_duplicates()\n",
        "\n",
        "# Rellenar valores faltantes con la media\n",
        "df['Age'].fillna(df['Age'].mean(), inplace=True)\n",
        "\n",
        "print(filtered_df)\n",
        "print(deduplicated_df)\n",
        "df"
      ],
      "metadata": {
        "colab": {
          "base_uri": "https://localhost:8080/",
          "height": 250
        },
        "id": "sfHR9tbeKDUq",
        "outputId": "0d53d30d-50ca-4369-d778-c81732d12a9a"
      },
      "execution_count": null,
      "outputs": [
        {
          "output_type": "stream",
          "name": "stdout",
          "text": [
            "    Name  Age   City\n",
            "2  Peter   32  Paris\n",
            "    Name  Age      City\n",
            "0   John   25  New York\n",
            "1   Emma   28    London\n",
            "2  Peter   32     Paris\n"
          ]
        },
        {
          "output_type": "execute_result",
          "data": {
            "text/plain": [
              "    Name  Age      City\n",
              "0   John   25  New York\n",
              "1   Emma   28    London\n",
              "2  Peter   32     Paris"
            ],
            "text/html": [
              "\n",
              "\n",
              "  <div id=\"df-7f4c8212-1e37-4ef4-9d19-c671c05fbc08\">\n",
              "    <div class=\"colab-df-container\">\n",
              "      <div>\n",
              "<style scoped>\n",
              "    .dataframe tbody tr th:only-of-type {\n",
              "        vertical-align: middle;\n",
              "    }\n",
              "\n",
              "    .dataframe tbody tr th {\n",
              "        vertical-align: top;\n",
              "    }\n",
              "\n",
              "    .dataframe thead th {\n",
              "        text-align: right;\n",
              "    }\n",
              "</style>\n",
              "<table border=\"1\" class=\"dataframe\">\n",
              "  <thead>\n",
              "    <tr style=\"text-align: right;\">\n",
              "      <th></th>\n",
              "      <th>Name</th>\n",
              "      <th>Age</th>\n",
              "      <th>City</th>\n",
              "    </tr>\n",
              "  </thead>\n",
              "  <tbody>\n",
              "    <tr>\n",
              "      <th>0</th>\n",
              "      <td>John</td>\n",
              "      <td>25</td>\n",
              "      <td>New York</td>\n",
              "    </tr>\n",
              "    <tr>\n",
              "      <th>1</th>\n",
              "      <td>Emma</td>\n",
              "      <td>28</td>\n",
              "      <td>London</td>\n",
              "    </tr>\n",
              "    <tr>\n",
              "      <th>2</th>\n",
              "      <td>Peter</td>\n",
              "      <td>32</td>\n",
              "      <td>Paris</td>\n",
              "    </tr>\n",
              "  </tbody>\n",
              "</table>\n",
              "</div>\n",
              "      <button class=\"colab-df-convert\" onclick=\"convertToInteractive('df-7f4c8212-1e37-4ef4-9d19-c671c05fbc08')\"\n",
              "              title=\"Convert this dataframe to an interactive table.\"\n",
              "              style=\"display:none;\">\n",
              "\n",
              "  <svg xmlns=\"http://www.w3.org/2000/svg\" height=\"24px\"viewBox=\"0 0 24 24\"\n",
              "       width=\"24px\">\n",
              "    <path d=\"M0 0h24v24H0V0z\" fill=\"none\"/>\n",
              "    <path d=\"M18.56 5.44l.94 2.06.94-2.06 2.06-.94-2.06-.94-.94-2.06-.94 2.06-2.06.94zm-11 1L8.5 8.5l.94-2.06 2.06-.94-2.06-.94L8.5 2.5l-.94 2.06-2.06.94zm10 10l.94 2.06.94-2.06 2.06-.94-2.06-.94-.94-2.06-.94 2.06-2.06.94z\"/><path d=\"M17.41 7.96l-1.37-1.37c-.4-.4-.92-.59-1.43-.59-.52 0-1.04.2-1.43.59L10.3 9.45l-7.72 7.72c-.78.78-.78 2.05 0 2.83L4 21.41c.39.39.9.59 1.41.59.51 0 1.02-.2 1.41-.59l7.78-7.78 2.81-2.81c.8-.78.8-2.07 0-2.86zM5.41 20L4 18.59l7.72-7.72 1.47 1.35L5.41 20z\"/>\n",
              "  </svg>\n",
              "      </button>\n",
              "\n",
              "\n",
              "\n",
              "    <div id=\"df-83bc4453-7ea8-4707-9677-b465f43e9938\">\n",
              "      <button class=\"colab-df-quickchart\" onclick=\"quickchart('df-83bc4453-7ea8-4707-9677-b465f43e9938')\"\n",
              "              title=\"Suggest charts.\"\n",
              "              style=\"display:none;\">\n",
              "\n",
              "<svg xmlns=\"http://www.w3.org/2000/svg\" height=\"24px\"viewBox=\"0 0 24 24\"\n",
              "     width=\"24px\">\n",
              "    <g>\n",
              "        <path d=\"M19 3H5c-1.1 0-2 .9-2 2v14c0 1.1.9 2 2 2h14c1.1 0 2-.9 2-2V5c0-1.1-.9-2-2-2zM9 17H7v-7h2v7zm4 0h-2V7h2v10zm4 0h-2v-4h2v4z\"/>\n",
              "    </g>\n",
              "</svg>\n",
              "      </button>\n",
              "    </div>\n",
              "\n",
              "<style>\n",
              "  .colab-df-quickchart {\n",
              "    background-color: #E8F0FE;\n",
              "    border: none;\n",
              "    border-radius: 50%;\n",
              "    cursor: pointer;\n",
              "    display: none;\n",
              "    fill: #1967D2;\n",
              "    height: 32px;\n",
              "    padding: 0 0 0 0;\n",
              "    width: 32px;\n",
              "  }\n",
              "\n",
              "  .colab-df-quickchart:hover {\n",
              "    background-color: #E2EBFA;\n",
              "    box-shadow: 0px 1px 2px rgba(60, 64, 67, 0.3), 0px 1px 3px 1px rgba(60, 64, 67, 0.15);\n",
              "    fill: #174EA6;\n",
              "  }\n",
              "\n",
              "  [theme=dark] .colab-df-quickchart {\n",
              "    background-color: #3B4455;\n",
              "    fill: #D2E3FC;\n",
              "  }\n",
              "\n",
              "  [theme=dark] .colab-df-quickchart:hover {\n",
              "    background-color: #434B5C;\n",
              "    box-shadow: 0px 1px 3px 1px rgba(0, 0, 0, 0.15);\n",
              "    filter: drop-shadow(0px 1px 2px rgba(0, 0, 0, 0.3));\n",
              "    fill: #FFFFFF;\n",
              "  }\n",
              "</style>\n",
              "\n",
              "    <script>\n",
              "      async function quickchart(key) {\n",
              "        const containerElement = document.querySelector('#' + key);\n",
              "        const charts = await google.colab.kernel.invokeFunction(\n",
              "            'suggestCharts', [key], {});\n",
              "      }\n",
              "    </script>\n",
              "\n",
              "      <script>\n",
              "\n",
              "function displayQuickchartButton(domScope) {\n",
              "  let quickchartButtonEl =\n",
              "    domScope.querySelector('#df-83bc4453-7ea8-4707-9677-b465f43e9938 button.colab-df-quickchart');\n",
              "  quickchartButtonEl.style.display =\n",
              "    google.colab.kernel.accessAllowed ? 'block' : 'none';\n",
              "}\n",
              "\n",
              "        displayQuickchartButton(document);\n",
              "      </script>\n",
              "      <style>\n",
              "    .colab-df-container {\n",
              "      display:flex;\n",
              "      flex-wrap:wrap;\n",
              "      gap: 12px;\n",
              "    }\n",
              "\n",
              "    .colab-df-convert {\n",
              "      background-color: #E8F0FE;\n",
              "      border: none;\n",
              "      border-radius: 50%;\n",
              "      cursor: pointer;\n",
              "      display: none;\n",
              "      fill: #1967D2;\n",
              "      height: 32px;\n",
              "      padding: 0 0 0 0;\n",
              "      width: 32px;\n",
              "    }\n",
              "\n",
              "    .colab-df-convert:hover {\n",
              "      background-color: #E2EBFA;\n",
              "      box-shadow: 0px 1px 2px rgba(60, 64, 67, 0.3), 0px 1px 3px 1px rgba(60, 64, 67, 0.15);\n",
              "      fill: #174EA6;\n",
              "    }\n",
              "\n",
              "    [theme=dark] .colab-df-convert {\n",
              "      background-color: #3B4455;\n",
              "      fill: #D2E3FC;\n",
              "    }\n",
              "\n",
              "    [theme=dark] .colab-df-convert:hover {\n",
              "      background-color: #434B5C;\n",
              "      box-shadow: 0px 1px 3px 1px rgba(0, 0, 0, 0.15);\n",
              "      filter: drop-shadow(0px 1px 2px rgba(0, 0, 0, 0.3));\n",
              "      fill: #FFFFFF;\n",
              "    }\n",
              "  </style>\n",
              "\n",
              "      <script>\n",
              "        const buttonEl =\n",
              "          document.querySelector('#df-7f4c8212-1e37-4ef4-9d19-c671c05fbc08 button.colab-df-convert');\n",
              "        buttonEl.style.display =\n",
              "          google.colab.kernel.accessAllowed ? 'block' : 'none';\n",
              "\n",
              "        async function convertToInteractive(key) {\n",
              "          const element = document.querySelector('#df-7f4c8212-1e37-4ef4-9d19-c671c05fbc08');\n",
              "          const dataTable =\n",
              "            await google.colab.kernel.invokeFunction('convertToInteractive',\n",
              "                                                     [key], {});\n",
              "          if (!dataTable) return;\n",
              "\n",
              "          const docLinkHtml = 'Like what you see? Visit the ' +\n",
              "            '<a target=\"_blank\" href=https://colab.research.google.com/notebooks/data_table.ipynb>data table notebook</a>'\n",
              "            + ' to learn more about interactive tables.';\n",
              "          element.innerHTML = '';\n",
              "          dataTable['output_type'] = 'display_data';\n",
              "          await google.colab.output.renderOutput(dataTable, element);\n",
              "          const docLink = document.createElement('div');\n",
              "          docLink.innerHTML = docLinkHtml;\n",
              "          element.appendChild(docLink);\n",
              "        }\n",
              "      </script>\n",
              "    </div>\n",
              "  </div>\n"
            ]
          },
          "metadata": {},
          "execution_count": 30
        }
      ]
    },
    {
      "cell_type": "markdown",
      "source": [
        "Existen muchas funciones de pandas que permiten manipular los cuadros de datos, la gran mayoría se pueden encontrar en esta [**liga**]( https://pandas.pydata.org/docs/getting_started/basics.html#dropping-labels-from-an-axis), entre ellas se encuentran opciones para ordenar, eliminar columnas, renombrar columnas, descripción estadística, manejo de datos faltantes, unión de cuadros de datos, agrupamiento, entre muchas más. A continuación se mencionaran los que se utilizaran en el curso:\n",
        "* ```pd.head(k)``` Muestra los primeros ```k``` renglones del cuadro de datos\n",
        "* ```pd.tail(k)``` Muestra los últimos ```k``` renglones del cuadro de datos\n",
        "* ```pd.drop(columns=[lista_columnas]``` Elimina las columnas que están en la lista ```lista_columnas```\n",
        "* ```pd.describe()``` Genera una tabla de medidas muestrales"
      ],
      "metadata": {
        "id": "L76Oox92L-px"
      }
    },
    {
      "cell_type": "code",
      "source": [
        "datos.drop(columns = ['Gender'])"
      ],
      "metadata": {
        "colab": {
          "base_uri": "https://localhost:8080/",
          "height": 423
        },
        "id": "HnTM3P9LMBKi",
        "outputId": "65b8da8d-fabf-406c-9003-a736e6b24fb7"
      },
      "execution_count": null,
      "outputs": [
        {
          "output_type": "execute_result",
          "data": {
            "text/plain": [
              "         Height      Weight\n",
              "0     73.847017  241.893563\n",
              "1     68.781904  162.310473\n",
              "2     74.110105  212.740856\n",
              "3     71.730978  220.042470\n",
              "4     69.881796  206.349801\n",
              "...         ...         ...\n",
              "9995  66.172652  136.777454\n",
              "9996  67.067155  170.867906\n",
              "9997  63.867992  128.475319\n",
              "9998  69.034243  163.852461\n",
              "9999  61.944246  113.649103\n",
              "\n",
              "[10000 rows x 2 columns]"
            ],
            "text/html": [
              "\n",
              "\n",
              "  <div id=\"df-7e86e773-a9c4-4af9-8f03-44118c197931\">\n",
              "    <div class=\"colab-df-container\">\n",
              "      <div>\n",
              "<style scoped>\n",
              "    .dataframe tbody tr th:only-of-type {\n",
              "        vertical-align: middle;\n",
              "    }\n",
              "\n",
              "    .dataframe tbody tr th {\n",
              "        vertical-align: top;\n",
              "    }\n",
              "\n",
              "    .dataframe thead th {\n",
              "        text-align: right;\n",
              "    }\n",
              "</style>\n",
              "<table border=\"1\" class=\"dataframe\">\n",
              "  <thead>\n",
              "    <tr style=\"text-align: right;\">\n",
              "      <th></th>\n",
              "      <th>Height</th>\n",
              "      <th>Weight</th>\n",
              "    </tr>\n",
              "  </thead>\n",
              "  <tbody>\n",
              "    <tr>\n",
              "      <th>0</th>\n",
              "      <td>73.847017</td>\n",
              "      <td>241.893563</td>\n",
              "    </tr>\n",
              "    <tr>\n",
              "      <th>1</th>\n",
              "      <td>68.781904</td>\n",
              "      <td>162.310473</td>\n",
              "    </tr>\n",
              "    <tr>\n",
              "      <th>2</th>\n",
              "      <td>74.110105</td>\n",
              "      <td>212.740856</td>\n",
              "    </tr>\n",
              "    <tr>\n",
              "      <th>3</th>\n",
              "      <td>71.730978</td>\n",
              "      <td>220.042470</td>\n",
              "    </tr>\n",
              "    <tr>\n",
              "      <th>4</th>\n",
              "      <td>69.881796</td>\n",
              "      <td>206.349801</td>\n",
              "    </tr>\n",
              "    <tr>\n",
              "      <th>...</th>\n",
              "      <td>...</td>\n",
              "      <td>...</td>\n",
              "    </tr>\n",
              "    <tr>\n",
              "      <th>9995</th>\n",
              "      <td>66.172652</td>\n",
              "      <td>136.777454</td>\n",
              "    </tr>\n",
              "    <tr>\n",
              "      <th>9996</th>\n",
              "      <td>67.067155</td>\n",
              "      <td>170.867906</td>\n",
              "    </tr>\n",
              "    <tr>\n",
              "      <th>9997</th>\n",
              "      <td>63.867992</td>\n",
              "      <td>128.475319</td>\n",
              "    </tr>\n",
              "    <tr>\n",
              "      <th>9998</th>\n",
              "      <td>69.034243</td>\n",
              "      <td>163.852461</td>\n",
              "    </tr>\n",
              "    <tr>\n",
              "      <th>9999</th>\n",
              "      <td>61.944246</td>\n",
              "      <td>113.649103</td>\n",
              "    </tr>\n",
              "  </tbody>\n",
              "</table>\n",
              "<p>10000 rows × 2 columns</p>\n",
              "</div>\n",
              "      <button class=\"colab-df-convert\" onclick=\"convertToInteractive('df-7e86e773-a9c4-4af9-8f03-44118c197931')\"\n",
              "              title=\"Convert this dataframe to an interactive table.\"\n",
              "              style=\"display:none;\">\n",
              "\n",
              "  <svg xmlns=\"http://www.w3.org/2000/svg\" height=\"24px\"viewBox=\"0 0 24 24\"\n",
              "       width=\"24px\">\n",
              "    <path d=\"M0 0h24v24H0V0z\" fill=\"none\"/>\n",
              "    <path d=\"M18.56 5.44l.94 2.06.94-2.06 2.06-.94-2.06-.94-.94-2.06-.94 2.06-2.06.94zm-11 1L8.5 8.5l.94-2.06 2.06-.94-2.06-.94L8.5 2.5l-.94 2.06-2.06.94zm10 10l.94 2.06.94-2.06 2.06-.94-2.06-.94-.94-2.06-.94 2.06-2.06.94z\"/><path d=\"M17.41 7.96l-1.37-1.37c-.4-.4-.92-.59-1.43-.59-.52 0-1.04.2-1.43.59L10.3 9.45l-7.72 7.72c-.78.78-.78 2.05 0 2.83L4 21.41c.39.39.9.59 1.41.59.51 0 1.02-.2 1.41-.59l7.78-7.78 2.81-2.81c.8-.78.8-2.07 0-2.86zM5.41 20L4 18.59l7.72-7.72 1.47 1.35L5.41 20z\"/>\n",
              "  </svg>\n",
              "      </button>\n",
              "\n",
              "\n",
              "\n",
              "    <div id=\"df-2e11d09f-03c5-409e-a489-d967eccef94e\">\n",
              "      <button class=\"colab-df-quickchart\" onclick=\"quickchart('df-2e11d09f-03c5-409e-a489-d967eccef94e')\"\n",
              "              title=\"Suggest charts.\"\n",
              "              style=\"display:none;\">\n",
              "\n",
              "<svg xmlns=\"http://www.w3.org/2000/svg\" height=\"24px\"viewBox=\"0 0 24 24\"\n",
              "     width=\"24px\">\n",
              "    <g>\n",
              "        <path d=\"M19 3H5c-1.1 0-2 .9-2 2v14c0 1.1.9 2 2 2h14c1.1 0 2-.9 2-2V5c0-1.1-.9-2-2-2zM9 17H7v-7h2v7zm4 0h-2V7h2v10zm4 0h-2v-4h2v4z\"/>\n",
              "    </g>\n",
              "</svg>\n",
              "      </button>\n",
              "    </div>\n",
              "\n",
              "<style>\n",
              "  .colab-df-quickchart {\n",
              "    background-color: #E8F0FE;\n",
              "    border: none;\n",
              "    border-radius: 50%;\n",
              "    cursor: pointer;\n",
              "    display: none;\n",
              "    fill: #1967D2;\n",
              "    height: 32px;\n",
              "    padding: 0 0 0 0;\n",
              "    width: 32px;\n",
              "  }\n",
              "\n",
              "  .colab-df-quickchart:hover {\n",
              "    background-color: #E2EBFA;\n",
              "    box-shadow: 0px 1px 2px rgba(60, 64, 67, 0.3), 0px 1px 3px 1px rgba(60, 64, 67, 0.15);\n",
              "    fill: #174EA6;\n",
              "  }\n",
              "\n",
              "  [theme=dark] .colab-df-quickchart {\n",
              "    background-color: #3B4455;\n",
              "    fill: #D2E3FC;\n",
              "  }\n",
              "\n",
              "  [theme=dark] .colab-df-quickchart:hover {\n",
              "    background-color: #434B5C;\n",
              "    box-shadow: 0px 1px 3px 1px rgba(0, 0, 0, 0.15);\n",
              "    filter: drop-shadow(0px 1px 2px rgba(0, 0, 0, 0.3));\n",
              "    fill: #FFFFFF;\n",
              "  }\n",
              "</style>\n",
              "\n",
              "    <script>\n",
              "      async function quickchart(key) {\n",
              "        const containerElement = document.querySelector('#' + key);\n",
              "        const charts = await google.colab.kernel.invokeFunction(\n",
              "            'suggestCharts', [key], {});\n",
              "      }\n",
              "    </script>\n",
              "\n",
              "      <script>\n",
              "\n",
              "function displayQuickchartButton(domScope) {\n",
              "  let quickchartButtonEl =\n",
              "    domScope.querySelector('#df-2e11d09f-03c5-409e-a489-d967eccef94e button.colab-df-quickchart');\n",
              "  quickchartButtonEl.style.display =\n",
              "    google.colab.kernel.accessAllowed ? 'block' : 'none';\n",
              "}\n",
              "\n",
              "        displayQuickchartButton(document);\n",
              "      </script>\n",
              "      <style>\n",
              "    .colab-df-container {\n",
              "      display:flex;\n",
              "      flex-wrap:wrap;\n",
              "      gap: 12px;\n",
              "    }\n",
              "\n",
              "    .colab-df-convert {\n",
              "      background-color: #E8F0FE;\n",
              "      border: none;\n",
              "      border-radius: 50%;\n",
              "      cursor: pointer;\n",
              "      display: none;\n",
              "      fill: #1967D2;\n",
              "      height: 32px;\n",
              "      padding: 0 0 0 0;\n",
              "      width: 32px;\n",
              "    }\n",
              "\n",
              "    .colab-df-convert:hover {\n",
              "      background-color: #E2EBFA;\n",
              "      box-shadow: 0px 1px 2px rgba(60, 64, 67, 0.3), 0px 1px 3px 1px rgba(60, 64, 67, 0.15);\n",
              "      fill: #174EA6;\n",
              "    }\n",
              "\n",
              "    [theme=dark] .colab-df-convert {\n",
              "      background-color: #3B4455;\n",
              "      fill: #D2E3FC;\n",
              "    }\n",
              "\n",
              "    [theme=dark] .colab-df-convert:hover {\n",
              "      background-color: #434B5C;\n",
              "      box-shadow: 0px 1px 3px 1px rgba(0, 0, 0, 0.15);\n",
              "      filter: drop-shadow(0px 1px 2px rgba(0, 0, 0, 0.3));\n",
              "      fill: #FFFFFF;\n",
              "    }\n",
              "  </style>\n",
              "\n",
              "      <script>\n",
              "        const buttonEl =\n",
              "          document.querySelector('#df-7e86e773-a9c4-4af9-8f03-44118c197931 button.colab-df-convert');\n",
              "        buttonEl.style.display =\n",
              "          google.colab.kernel.accessAllowed ? 'block' : 'none';\n",
              "\n",
              "        async function convertToInteractive(key) {\n",
              "          const element = document.querySelector('#df-7e86e773-a9c4-4af9-8f03-44118c197931');\n",
              "          const dataTable =\n",
              "            await google.colab.kernel.invokeFunction('convertToInteractive',\n",
              "                                                     [key], {});\n",
              "          if (!dataTable) return;\n",
              "\n",
              "          const docLinkHtml = 'Like what you see? Visit the ' +\n",
              "            '<a target=\"_blank\" href=https://colab.research.google.com/notebooks/data_table.ipynb>data table notebook</a>'\n",
              "            + ' to learn more about interactive tables.';\n",
              "          element.innerHTML = '';\n",
              "          dataTable['output_type'] = 'display_data';\n",
              "          await google.colab.output.renderOutput(dataTable, element);\n",
              "          const docLink = document.createElement('div');\n",
              "          docLink.innerHTML = docLinkHtml;\n",
              "          element.appendChild(docLink);\n",
              "        }\n",
              "      </script>\n",
              "    </div>\n",
              "  </div>\n"
            ]
          },
          "metadata": {},
          "execution_count": 31
        }
      ]
    },
    {
      "cell_type": "code",
      "source": [
        "datos.describe()"
      ],
      "metadata": {
        "colab": {
          "base_uri": "https://localhost:8080/",
          "height": 171
        },
        "id": "zK3IhTWcMFGR",
        "outputId": "a1451be4-2c93-4d92-81f4-95b1b1399942"
      },
      "execution_count": null,
      "outputs": [
        {
          "output_type": "error",
          "ename": "NameError",
          "evalue": "ignored",
          "traceback": [
            "\u001b[0;31m---------------------------------------------------------------------------\u001b[0m",
            "\u001b[0;31mNameError\u001b[0m                                 Traceback (most recent call last)",
            "\u001b[0;32m<ipython-input-15-e05101d9a1ae>\u001b[0m in \u001b[0;36m<cell line: 1>\u001b[0;34m()\u001b[0m\n\u001b[0;32m----> 1\u001b[0;31m \u001b[0mdatos\u001b[0m\u001b[0;34m.\u001b[0m\u001b[0mdescribe\u001b[0m\u001b[0;34m(\u001b[0m\u001b[0;34m)\u001b[0m\u001b[0;34m\u001b[0m\u001b[0;34m\u001b[0m\u001b[0m\n\u001b[0m",
            "\u001b[0;31mNameError\u001b[0m: name 'datos' is not defined"
          ]
        }
      ]
    },
    {
      "cell_type": "markdown",
      "source": [
        "**Indexación y Selección de Datos:**\n",
        "\n",
        " Pandas ofrece varias técnicas para indexar y seleccionar datos de forma eficiente. Puedes utilizar etiquetas, índices enteros o condiciones booleanas para realizar selecciones de filas y columnas en un DataFrame.\n",
        "\n"
      ],
      "metadata": {
        "id": "mZjoeCXMJxbD"
      }
    },
    {
      "cell_type": "code",
      "source": [
        "# Seleccionar una columna\n",
        "column = df['Age']\n",
        "\n",
        "# Seleccionar filas basado en una condición\n",
        "filtered_rows = df[df['City'] == 'New York']\n",
        "\n",
        "# Seleccionar filas y columnas usando etiquetas o índices\n",
        "subset = df.loc[1:3, ['Name', 'Age']]\n",
        "\n",
        "print(column)"
      ],
      "metadata": {
        "colab": {
          "base_uri": "https://localhost:8080/"
        },
        "id": "jaOHXZRYL716",
        "outputId": "f20173ad-0a17-41a0-b2b9-2ab86cb6a658"
      },
      "execution_count": null,
      "outputs": [
        {
          "output_type": "stream",
          "name": "stdout",
          "text": [
            "0    25\n",
            "1    28\n",
            "2    32\n",
            "Name: Age, dtype: int64\n"
          ]
        }
      ]
    },
    {
      "cell_type": "code",
      "source": [
        "print(filtered_rows)"
      ],
      "metadata": {
        "colab": {
          "base_uri": "https://localhost:8080/"
        },
        "id": "zIatCfWLMRz5",
        "outputId": "096d8a85-1537-4d5e-8753-17807f6e3dda"
      },
      "execution_count": null,
      "outputs": [
        {
          "output_type": "stream",
          "name": "stdout",
          "text": [
            "   Name  Age      City\n",
            "0  John   25  New York\n"
          ]
        }
      ]
    },
    {
      "cell_type": "code",
      "source": [
        "subset"
      ],
      "metadata": {
        "colab": {
          "base_uri": "https://localhost:8080/",
          "height": 112
        },
        "id": "Tsndj90BMURi",
        "outputId": "c2aca5e9-06c6-48ac-b96b-1f3cfc5b8c2b"
      },
      "execution_count": null,
      "outputs": [
        {
          "output_type": "execute_result",
          "data": {
            "text/plain": [
              "    Name  Age\n",
              "1   Emma   28\n",
              "2  Peter   32"
            ],
            "text/html": [
              "\n",
              "\n",
              "  <div id=\"df-ee3583de-be99-46ae-af08-c3fc3416965f\">\n",
              "    <div class=\"colab-df-container\">\n",
              "      <div>\n",
              "<style scoped>\n",
              "    .dataframe tbody tr th:only-of-type {\n",
              "        vertical-align: middle;\n",
              "    }\n",
              "\n",
              "    .dataframe tbody tr th {\n",
              "        vertical-align: top;\n",
              "    }\n",
              "\n",
              "    .dataframe thead th {\n",
              "        text-align: right;\n",
              "    }\n",
              "</style>\n",
              "<table border=\"1\" class=\"dataframe\">\n",
              "  <thead>\n",
              "    <tr style=\"text-align: right;\">\n",
              "      <th></th>\n",
              "      <th>Name</th>\n",
              "      <th>Age</th>\n",
              "    </tr>\n",
              "  </thead>\n",
              "  <tbody>\n",
              "    <tr>\n",
              "      <th>1</th>\n",
              "      <td>Emma</td>\n",
              "      <td>28</td>\n",
              "    </tr>\n",
              "    <tr>\n",
              "      <th>2</th>\n",
              "      <td>Peter</td>\n",
              "      <td>32</td>\n",
              "    </tr>\n",
              "  </tbody>\n",
              "</table>\n",
              "</div>\n",
              "      <button class=\"colab-df-convert\" onclick=\"convertToInteractive('df-ee3583de-be99-46ae-af08-c3fc3416965f')\"\n",
              "              title=\"Convert this dataframe to an interactive table.\"\n",
              "              style=\"display:none;\">\n",
              "\n",
              "  <svg xmlns=\"http://www.w3.org/2000/svg\" height=\"24px\"viewBox=\"0 0 24 24\"\n",
              "       width=\"24px\">\n",
              "    <path d=\"M0 0h24v24H0V0z\" fill=\"none\"/>\n",
              "    <path d=\"M18.56 5.44l.94 2.06.94-2.06 2.06-.94-2.06-.94-.94-2.06-.94 2.06-2.06.94zm-11 1L8.5 8.5l.94-2.06 2.06-.94-2.06-.94L8.5 2.5l-.94 2.06-2.06.94zm10 10l.94 2.06.94-2.06 2.06-.94-2.06-.94-.94-2.06-.94 2.06-2.06.94z\"/><path d=\"M17.41 7.96l-1.37-1.37c-.4-.4-.92-.59-1.43-.59-.52 0-1.04.2-1.43.59L10.3 9.45l-7.72 7.72c-.78.78-.78 2.05 0 2.83L4 21.41c.39.39.9.59 1.41.59.51 0 1.02-.2 1.41-.59l7.78-7.78 2.81-2.81c.8-.78.8-2.07 0-2.86zM5.41 20L4 18.59l7.72-7.72 1.47 1.35L5.41 20z\"/>\n",
              "  </svg>\n",
              "      </button>\n",
              "\n",
              "\n",
              "\n",
              "    <div id=\"df-46eb8d49-636e-4d94-ab42-7caf4eebf850\">\n",
              "      <button class=\"colab-df-quickchart\" onclick=\"quickchart('df-46eb8d49-636e-4d94-ab42-7caf4eebf850')\"\n",
              "              title=\"Suggest charts.\"\n",
              "              style=\"display:none;\">\n",
              "\n",
              "<svg xmlns=\"http://www.w3.org/2000/svg\" height=\"24px\"viewBox=\"0 0 24 24\"\n",
              "     width=\"24px\">\n",
              "    <g>\n",
              "        <path d=\"M19 3H5c-1.1 0-2 .9-2 2v14c0 1.1.9 2 2 2h14c1.1 0 2-.9 2-2V5c0-1.1-.9-2-2-2zM9 17H7v-7h2v7zm4 0h-2V7h2v10zm4 0h-2v-4h2v4z\"/>\n",
              "    </g>\n",
              "</svg>\n",
              "      </button>\n",
              "    </div>\n",
              "\n",
              "<style>\n",
              "  .colab-df-quickchart {\n",
              "    background-color: #E8F0FE;\n",
              "    border: none;\n",
              "    border-radius: 50%;\n",
              "    cursor: pointer;\n",
              "    display: none;\n",
              "    fill: #1967D2;\n",
              "    height: 32px;\n",
              "    padding: 0 0 0 0;\n",
              "    width: 32px;\n",
              "  }\n",
              "\n",
              "  .colab-df-quickchart:hover {\n",
              "    background-color: #E2EBFA;\n",
              "    box-shadow: 0px 1px 2px rgba(60, 64, 67, 0.3), 0px 1px 3px 1px rgba(60, 64, 67, 0.15);\n",
              "    fill: #174EA6;\n",
              "  }\n",
              "\n",
              "  [theme=dark] .colab-df-quickchart {\n",
              "    background-color: #3B4455;\n",
              "    fill: #D2E3FC;\n",
              "  }\n",
              "\n",
              "  [theme=dark] .colab-df-quickchart:hover {\n",
              "    background-color: #434B5C;\n",
              "    box-shadow: 0px 1px 3px 1px rgba(0, 0, 0, 0.15);\n",
              "    filter: drop-shadow(0px 1px 2px rgba(0, 0, 0, 0.3));\n",
              "    fill: #FFFFFF;\n",
              "  }\n",
              "</style>\n",
              "\n",
              "    <script>\n",
              "      async function quickchart(key) {\n",
              "        const containerElement = document.querySelector('#' + key);\n",
              "        const charts = await google.colab.kernel.invokeFunction(\n",
              "            'suggestCharts', [key], {});\n",
              "      }\n",
              "    </script>\n",
              "\n",
              "      <script>\n",
              "\n",
              "function displayQuickchartButton(domScope) {\n",
              "  let quickchartButtonEl =\n",
              "    domScope.querySelector('#df-46eb8d49-636e-4d94-ab42-7caf4eebf850 button.colab-df-quickchart');\n",
              "  quickchartButtonEl.style.display =\n",
              "    google.colab.kernel.accessAllowed ? 'block' : 'none';\n",
              "}\n",
              "\n",
              "        displayQuickchartButton(document);\n",
              "      </script>\n",
              "      <style>\n",
              "    .colab-df-container {\n",
              "      display:flex;\n",
              "      flex-wrap:wrap;\n",
              "      gap: 12px;\n",
              "    }\n",
              "\n",
              "    .colab-df-convert {\n",
              "      background-color: #E8F0FE;\n",
              "      border: none;\n",
              "      border-radius: 50%;\n",
              "      cursor: pointer;\n",
              "      display: none;\n",
              "      fill: #1967D2;\n",
              "      height: 32px;\n",
              "      padding: 0 0 0 0;\n",
              "      width: 32px;\n",
              "    }\n",
              "\n",
              "    .colab-df-convert:hover {\n",
              "      background-color: #E2EBFA;\n",
              "      box-shadow: 0px 1px 2px rgba(60, 64, 67, 0.3), 0px 1px 3px 1px rgba(60, 64, 67, 0.15);\n",
              "      fill: #174EA6;\n",
              "    }\n",
              "\n",
              "    [theme=dark] .colab-df-convert {\n",
              "      background-color: #3B4455;\n",
              "      fill: #D2E3FC;\n",
              "    }\n",
              "\n",
              "    [theme=dark] .colab-df-convert:hover {\n",
              "      background-color: #434B5C;\n",
              "      box-shadow: 0px 1px 3px 1px rgba(0, 0, 0, 0.15);\n",
              "      filter: drop-shadow(0px 1px 2px rgba(0, 0, 0, 0.3));\n",
              "      fill: #FFFFFF;\n",
              "    }\n",
              "  </style>\n",
              "\n",
              "      <script>\n",
              "        const buttonEl =\n",
              "          document.querySelector('#df-ee3583de-be99-46ae-af08-c3fc3416965f button.colab-df-convert');\n",
              "        buttonEl.style.display =\n",
              "          google.colab.kernel.accessAllowed ? 'block' : 'none';\n",
              "\n",
              "        async function convertToInteractive(key) {\n",
              "          const element = document.querySelector('#df-ee3583de-be99-46ae-af08-c3fc3416965f');\n",
              "          const dataTable =\n",
              "            await google.colab.kernel.invokeFunction('convertToInteractive',\n",
              "                                                     [key], {});\n",
              "          if (!dataTable) return;\n",
              "\n",
              "          const docLinkHtml = 'Like what you see? Visit the ' +\n",
              "            '<a target=\"_blank\" href=https://colab.research.google.com/notebooks/data_table.ipynb>data table notebook</a>'\n",
              "            + ' to learn more about interactive tables.';\n",
              "          element.innerHTML = '';\n",
              "          dataTable['output_type'] = 'display_data';\n",
              "          await google.colab.output.renderOutput(dataTable, element);\n",
              "          const docLink = document.createElement('div');\n",
              "          docLink.innerHTML = docLinkHtml;\n",
              "          element.appendChild(docLink);\n",
              "        }\n",
              "      </script>\n",
              "    </div>\n",
              "  </div>\n"
            ]
          },
          "metadata": {},
          "execution_count": 36
        }
      ]
    },
    {
      "cell_type": "markdown",
      "source": [
        "**Operaciones y Cálculos:**\n",
        "\n",
        " Pandas proporciona numerosas funciones y métodos para realizar operaciones y cálculos en los datos. Puedes realizar operaciones aritméticas, estadísticas y lógicas en columnas o en todo el DataFrame. Además, Pandas ofrece la capacidad de aplicar funciones personalizadas a los datos utilizando funciones lambda o funciones definidas por el usuario.\n",
        "\n"
      ],
      "metadata": {
        "id": "bbJSw56PJ3Hr"
      }
    },
    {
      "cell_type": "code",
      "source": [
        "\n",
        "# Realizar una operación aritmética en una columna\n",
        "df['Age_doubled'] = df['Age'] * 2\n",
        "\n",
        "# Aplicar una función lambda a una columna\n",
        "df['Name_uppercase'] = df['Name'].apply(lambda x: x.upper())\n",
        "\n",
        "# Realizar una operación estadística en una columna\n",
        "average_age = df['Age'].mean()\n",
        "\n",
        "print(average_age)\n",
        "df"
      ],
      "metadata": {
        "colab": {
          "base_uri": "https://localhost:8080/",
          "height": 161
        },
        "id": "hCXmlnalMffB",
        "outputId": "4ca3a24e-2e68-4f33-a9ec-06a89bb305a0"
      },
      "execution_count": null,
      "outputs": [
        {
          "output_type": "stream",
          "name": "stdout",
          "text": [
            "28.333333333333332\n"
          ]
        },
        {
          "output_type": "execute_result",
          "data": {
            "text/plain": [
              "    Name  Age      City  Age_doubled Name_uppercase\n",
              "0   John   25  New York           50           JOHN\n",
              "1   Emma   28    London           56           EMMA\n",
              "2  Peter   32     Paris           64          PETER"
            ],
            "text/html": [
              "\n",
              "\n",
              "  <div id=\"df-dc73dd4f-c032-4c5c-990d-d5a8484ebfae\">\n",
              "    <div class=\"colab-df-container\">\n",
              "      <div>\n",
              "<style scoped>\n",
              "    .dataframe tbody tr th:only-of-type {\n",
              "        vertical-align: middle;\n",
              "    }\n",
              "\n",
              "    .dataframe tbody tr th {\n",
              "        vertical-align: top;\n",
              "    }\n",
              "\n",
              "    .dataframe thead th {\n",
              "        text-align: right;\n",
              "    }\n",
              "</style>\n",
              "<table border=\"1\" class=\"dataframe\">\n",
              "  <thead>\n",
              "    <tr style=\"text-align: right;\">\n",
              "      <th></th>\n",
              "      <th>Name</th>\n",
              "      <th>Age</th>\n",
              "      <th>City</th>\n",
              "      <th>Age_doubled</th>\n",
              "      <th>Name_uppercase</th>\n",
              "    </tr>\n",
              "  </thead>\n",
              "  <tbody>\n",
              "    <tr>\n",
              "      <th>0</th>\n",
              "      <td>John</td>\n",
              "      <td>25</td>\n",
              "      <td>New York</td>\n",
              "      <td>50</td>\n",
              "      <td>JOHN</td>\n",
              "    </tr>\n",
              "    <tr>\n",
              "      <th>1</th>\n",
              "      <td>Emma</td>\n",
              "      <td>28</td>\n",
              "      <td>London</td>\n",
              "      <td>56</td>\n",
              "      <td>EMMA</td>\n",
              "    </tr>\n",
              "    <tr>\n",
              "      <th>2</th>\n",
              "      <td>Peter</td>\n",
              "      <td>32</td>\n",
              "      <td>Paris</td>\n",
              "      <td>64</td>\n",
              "      <td>PETER</td>\n",
              "    </tr>\n",
              "  </tbody>\n",
              "</table>\n",
              "</div>\n",
              "      <button class=\"colab-df-convert\" onclick=\"convertToInteractive('df-dc73dd4f-c032-4c5c-990d-d5a8484ebfae')\"\n",
              "              title=\"Convert this dataframe to an interactive table.\"\n",
              "              style=\"display:none;\">\n",
              "\n",
              "  <svg xmlns=\"http://www.w3.org/2000/svg\" height=\"24px\"viewBox=\"0 0 24 24\"\n",
              "       width=\"24px\">\n",
              "    <path d=\"M0 0h24v24H0V0z\" fill=\"none\"/>\n",
              "    <path d=\"M18.56 5.44l.94 2.06.94-2.06 2.06-.94-2.06-.94-.94-2.06-.94 2.06-2.06.94zm-11 1L8.5 8.5l.94-2.06 2.06-.94-2.06-.94L8.5 2.5l-.94 2.06-2.06.94zm10 10l.94 2.06.94-2.06 2.06-.94-2.06-.94-.94-2.06-.94 2.06-2.06.94z\"/><path d=\"M17.41 7.96l-1.37-1.37c-.4-.4-.92-.59-1.43-.59-.52 0-1.04.2-1.43.59L10.3 9.45l-7.72 7.72c-.78.78-.78 2.05 0 2.83L4 21.41c.39.39.9.59 1.41.59.51 0 1.02-.2 1.41-.59l7.78-7.78 2.81-2.81c.8-.78.8-2.07 0-2.86zM5.41 20L4 18.59l7.72-7.72 1.47 1.35L5.41 20z\"/>\n",
              "  </svg>\n",
              "      </button>\n",
              "\n",
              "\n",
              "\n",
              "    <div id=\"df-9b0fa85f-1598-4d2d-b0ed-cdeb4d0f6702\">\n",
              "      <button class=\"colab-df-quickchart\" onclick=\"quickchart('df-9b0fa85f-1598-4d2d-b0ed-cdeb4d0f6702')\"\n",
              "              title=\"Suggest charts.\"\n",
              "              style=\"display:none;\">\n",
              "\n",
              "<svg xmlns=\"http://www.w3.org/2000/svg\" height=\"24px\"viewBox=\"0 0 24 24\"\n",
              "     width=\"24px\">\n",
              "    <g>\n",
              "        <path d=\"M19 3H5c-1.1 0-2 .9-2 2v14c0 1.1.9 2 2 2h14c1.1 0 2-.9 2-2V5c0-1.1-.9-2-2-2zM9 17H7v-7h2v7zm4 0h-2V7h2v10zm4 0h-2v-4h2v4z\"/>\n",
              "    </g>\n",
              "</svg>\n",
              "      </button>\n",
              "    </div>\n",
              "\n",
              "<style>\n",
              "  .colab-df-quickchart {\n",
              "    background-color: #E8F0FE;\n",
              "    border: none;\n",
              "    border-radius: 50%;\n",
              "    cursor: pointer;\n",
              "    display: none;\n",
              "    fill: #1967D2;\n",
              "    height: 32px;\n",
              "    padding: 0 0 0 0;\n",
              "    width: 32px;\n",
              "  }\n",
              "\n",
              "  .colab-df-quickchart:hover {\n",
              "    background-color: #E2EBFA;\n",
              "    box-shadow: 0px 1px 2px rgba(60, 64, 67, 0.3), 0px 1px 3px 1px rgba(60, 64, 67, 0.15);\n",
              "    fill: #174EA6;\n",
              "  }\n",
              "\n",
              "  [theme=dark] .colab-df-quickchart {\n",
              "    background-color: #3B4455;\n",
              "    fill: #D2E3FC;\n",
              "  }\n",
              "\n",
              "  [theme=dark] .colab-df-quickchart:hover {\n",
              "    background-color: #434B5C;\n",
              "    box-shadow: 0px 1px 3px 1px rgba(0, 0, 0, 0.15);\n",
              "    filter: drop-shadow(0px 1px 2px rgba(0, 0, 0, 0.3));\n",
              "    fill: #FFFFFF;\n",
              "  }\n",
              "</style>\n",
              "\n",
              "    <script>\n",
              "      async function quickchart(key) {\n",
              "        const containerElement = document.querySelector('#' + key);\n",
              "        const charts = await google.colab.kernel.invokeFunction(\n",
              "            'suggestCharts', [key], {});\n",
              "      }\n",
              "    </script>\n",
              "\n",
              "      <script>\n",
              "\n",
              "function displayQuickchartButton(domScope) {\n",
              "  let quickchartButtonEl =\n",
              "    domScope.querySelector('#df-9b0fa85f-1598-4d2d-b0ed-cdeb4d0f6702 button.colab-df-quickchart');\n",
              "  quickchartButtonEl.style.display =\n",
              "    google.colab.kernel.accessAllowed ? 'block' : 'none';\n",
              "}\n",
              "\n",
              "        displayQuickchartButton(document);\n",
              "      </script>\n",
              "      <style>\n",
              "    .colab-df-container {\n",
              "      display:flex;\n",
              "      flex-wrap:wrap;\n",
              "      gap: 12px;\n",
              "    }\n",
              "\n",
              "    .colab-df-convert {\n",
              "      background-color: #E8F0FE;\n",
              "      border: none;\n",
              "      border-radius: 50%;\n",
              "      cursor: pointer;\n",
              "      display: none;\n",
              "      fill: #1967D2;\n",
              "      height: 32px;\n",
              "      padding: 0 0 0 0;\n",
              "      width: 32px;\n",
              "    }\n",
              "\n",
              "    .colab-df-convert:hover {\n",
              "      background-color: #E2EBFA;\n",
              "      box-shadow: 0px 1px 2px rgba(60, 64, 67, 0.3), 0px 1px 3px 1px rgba(60, 64, 67, 0.15);\n",
              "      fill: #174EA6;\n",
              "    }\n",
              "\n",
              "    [theme=dark] .colab-df-convert {\n",
              "      background-color: #3B4455;\n",
              "      fill: #D2E3FC;\n",
              "    }\n",
              "\n",
              "    [theme=dark] .colab-df-convert:hover {\n",
              "      background-color: #434B5C;\n",
              "      box-shadow: 0px 1px 3px 1px rgba(0, 0, 0, 0.15);\n",
              "      filter: drop-shadow(0px 1px 2px rgba(0, 0, 0, 0.3));\n",
              "      fill: #FFFFFF;\n",
              "    }\n",
              "  </style>\n",
              "\n",
              "      <script>\n",
              "        const buttonEl =\n",
              "          document.querySelector('#df-dc73dd4f-c032-4c5c-990d-d5a8484ebfae button.colab-df-convert');\n",
              "        buttonEl.style.display =\n",
              "          google.colab.kernel.accessAllowed ? 'block' : 'none';\n",
              "\n",
              "        async function convertToInteractive(key) {\n",
              "          const element = document.querySelector('#df-dc73dd4f-c032-4c5c-990d-d5a8484ebfae');\n",
              "          const dataTable =\n",
              "            await google.colab.kernel.invokeFunction('convertToInteractive',\n",
              "                                                     [key], {});\n",
              "          if (!dataTable) return;\n",
              "\n",
              "          const docLinkHtml = 'Like what you see? Visit the ' +\n",
              "            '<a target=\"_blank\" href=https://colab.research.google.com/notebooks/data_table.ipynb>data table notebook</a>'\n",
              "            + ' to learn more about interactive tables.';\n",
              "          element.innerHTML = '';\n",
              "          dataTable['output_type'] = 'display_data';\n",
              "          await google.colab.output.renderOutput(dataTable, element);\n",
              "          const docLink = document.createElement('div');\n",
              "          docLink.innerHTML = docLinkHtml;\n",
              "          element.appendChild(docLink);\n",
              "        }\n",
              "      </script>\n",
              "    </div>\n",
              "  </div>\n"
            ]
          },
          "metadata": {},
          "execution_count": 39
        }
      ]
    },
    {
      "cell_type": "markdown",
      "source": [
        "**Agrupación y Agregación de Datos:**\n",
        "\n",
        " Pandas permite agrupar datos basándose en una o varias columnas y aplicar funciones de agregación, como sumas, promedios, conteos, entre otros. Esto es útil para realizar análisis estadísticos y resumir datos de manera efectiva.\n",
        "\n"
      ],
      "metadata": {
        "id": "EjHHqvM3J6fS"
      }
    },
    {
      "cell_type": "code",
      "source": [
        "# Crear un DataFrame con una columna adicional \"Income\"\n",
        "data = {'Name': ['John', 'Emma', 'Peter', 'Alice', 'Bob'],\n",
        "        'Age': [25, 28, 32, 35, 30],\n",
        "        'City': ['New York', 'London', 'Paris', 'New York', 'London'],\n",
        "        'Income': [50000, 60000, 70000, 55000, 65000]}\n",
        "df = pd.DataFrame(data)\n",
        "\n",
        "# Agrupar por una columna y calcular el promedio\n",
        "grouped_df = df.groupby('City').mean()\n",
        "\n",
        "# Calcular varias estadísticas en columnas agrupadas\n",
        "aggregated_df = df.groupby('City').agg({'Age': 'mean', 'Income': 'sum'})\n",
        "\n",
        "print(grouped_df)\n",
        "print(aggregated_df)"
      ],
      "metadata": {
        "colab": {
          "base_uri": "https://localhost:8080/"
        },
        "id": "xDQo6ZX7Muzj",
        "outputId": "912808aa-ef4a-4830-bb3f-03d4bf712194"
      },
      "execution_count": null,
      "outputs": [
        {
          "output_type": "stream",
          "name": "stdout",
          "text": [
            "           Age   Income\n",
            "City                   \n",
            "London    29.0  62500.0\n",
            "New York  30.0  52500.0\n",
            "Paris     32.0  70000.0\n",
            "           Age  Income\n",
            "City                  \n",
            "London    29.0  125000\n",
            "New York  30.0  105000\n",
            "Paris     32.0   70000\n"
          ]
        },
        {
          "output_type": "stream",
          "name": "stderr",
          "text": [
            "<ipython-input-41-35636a669e9f>:9: FutureWarning: The default value of numeric_only in DataFrameGroupBy.mean is deprecated. In a future version, numeric_only will default to False. Either specify numeric_only or select only columns which should be valid for the function.\n",
            "  grouped_df = df.groupby('City').mean()\n"
          ]
        }
      ]
    },
    {
      "cell_type": "markdown",
      "source": [
        "**Visualización de Datos:**\n",
        "\n",
        " Pandas integra la funcionalidad de visualización de datos con otras bibliotecas populares, como Matplotlib y Seaborn. Esto permite la creación de gráficos y visualizaciones interactivas para explorar y comunicar los datos de manera efectiva."
      ],
      "metadata": {
        "id": "R8N64r6JJ9tz"
      }
    },
    {
      "cell_type": "code",
      "source": [
        "import matplotlib.pyplot as plt\n",
        "\n",
        "# Graficar una columna\n",
        "df['Age'].plot(kind='hist')\n",
        "\n",
        "# Graficar múltiples columnas\n",
        "df.plot(x='Name', y=['Age', 'Income'], kind='bar')\n",
        "\n",
        "plt.show()"
      ],
      "metadata": {
        "colab": {
          "base_uri": "https://localhost:8080/",
          "height": 244
        },
        "id": "5YaBOO9KNQ5w",
        "outputId": "69900010-45d6-428e-c841-8a21e00854a9"
      },
      "execution_count": null,
      "outputs": [
        {
          "output_type": "error",
          "ename": "NameError",
          "evalue": "ignored",
          "traceback": [
            "\u001b[0;31m---------------------------------------------------------------------------\u001b[0m",
            "\u001b[0;31mNameError\u001b[0m                                 Traceback (most recent call last)",
            "\u001b[0;32m<ipython-input-14-8a2f4c15aca9>\u001b[0m in \u001b[0;36m<cell line: 4>\u001b[0;34m()\u001b[0m\n\u001b[1;32m      2\u001b[0m \u001b[0;34m\u001b[0m\u001b[0m\n\u001b[1;32m      3\u001b[0m \u001b[0;31m# Graficar una columna\u001b[0m\u001b[0;34m\u001b[0m\u001b[0;34m\u001b[0m\u001b[0m\n\u001b[0;32m----> 4\u001b[0;31m \u001b[0mdf\u001b[0m\u001b[0;34m[\u001b[0m\u001b[0;34m'Age'\u001b[0m\u001b[0;34m]\u001b[0m\u001b[0;34m.\u001b[0m\u001b[0mplot\u001b[0m\u001b[0;34m(\u001b[0m\u001b[0mkind\u001b[0m\u001b[0;34m=\u001b[0m\u001b[0;34m'hist'\u001b[0m\u001b[0;34m)\u001b[0m\u001b[0;34m\u001b[0m\u001b[0;34m\u001b[0m\u001b[0m\n\u001b[0m\u001b[1;32m      5\u001b[0m \u001b[0;34m\u001b[0m\u001b[0m\n\u001b[1;32m      6\u001b[0m \u001b[0;31m# Graficar múltiples columnas\u001b[0m\u001b[0;34m\u001b[0m\u001b[0;34m\u001b[0m\u001b[0m\n",
            "\u001b[0;31mNameError\u001b[0m: name 'df' is not defined"
          ]
        }
      ]
    },
    {
      "cell_type": "markdown",
      "source": [
        "## Matplotlib"
      ],
      "metadata": {
        "id": "4XRaeddYJPZ6"
      }
    },
    {
      "cell_type": "markdown",
      "source": [
        "La biblioteca Matplotlib es una de las bibliotecas más populares y ampliamente utilizadas en Python para la visualización de datos. Proporciona un conjunto completo de herramientas para crear una amplia variedad de gráficos, desde simples hasta altamente personalizados."
      ],
      "metadata": {
        "id": "pGIJz0ArOBEh"
      }
    },
    {
      "cell_type": "markdown",
      "source": [
        "Algunas de las graficas mas populares:\n"
      ],
      "metadata": {
        "id": "pGUJYFdrOCGg"
      }
    },
    {
      "cell_type": "code",
      "source": [
        "# Gráfico de Dispersión (Scatter Plot):\n",
        "\n",
        "import matplotlib.pyplot as plt\n",
        "from sklearn.datasets import load_iris\n",
        "\n",
        "# Cargar el conjunto de datos de Iris\n",
        "iris = load_iris()\n",
        "X = iris.data[:, 0]  # Longitud del sépalo\n",
        "Y = iris.data[:, 1]  # Ancho del sépalo\n",
        "target_names = iris.target_names\n",
        "\n",
        "# Graficar los puntos de dispersión\n",
        "plt.scatter(X, Y, c=iris.target)\n",
        "plt.xlabel('Longitud del sépalo (cm)')\n",
        "plt.ylabel('Ancho del sépalo (cm)')\n",
        "plt.title('Gráfico de Dispersión del Iris Dataset')\n",
        "plt.show()\n",
        "\n"
      ],
      "metadata": {
        "colab": {
          "base_uri": "https://localhost:8080/",
          "height": 473
        },
        "id": "-17fm-rXONyp",
        "outputId": "50dbf074-dc84-478a-d7ba-3511d20ec52b"
      },
      "execution_count": null,
      "outputs": [
        {
          "output_type": "display_data",
          "data": {
            "text/plain": [
              "<Figure size 640x480 with 1 Axes>"
            ],
            "image/png": "[encoded data removed]"
          },
          "metadata": {}
        }
      ]
    },
    {
      "cell_type": "code",
      "source": [
        "# Histograma\n",
        "\n",
        "# Cargar el conjunto de datos de Iris\n",
        "iris = load_iris()\n",
        "sepal_lengths = iris.data[:, 0]  # Longitud del sépalo\n",
        "\n",
        "# Graficar el histograma\n",
        "plt.hist(sepal_lengths, bins=20, color='skyblue')\n",
        "plt.xlabel('Longitud del sépalo (cm)')\n",
        "plt.ylabel('Frecuencia')\n",
        "plt.title('Histograma de la Longitud del Sépalo en el Iris Dataset')\n",
        "plt.show()"
      ],
      "metadata": {
        "colab": {
          "base_uri": "https://localhost:8080/",
          "height": 473
        },
        "id": "WjYUQNLuOSLZ",
        "outputId": "d4014dcb-90fb-44ed-9cca-bc9524b0d8e5"
      },
      "execution_count": null,
      "outputs": [
        {
          "output_type": "display_data",
          "data": {
            "text/plain": [
              "<Figure size 640x480 with 1 Axes>"
            ],
            "image/png": "[encoded data removed]"
          },
          "metadata": {}
        }
      ]
    },
    {
      "cell_type": "code",
      "source": [
        "#Grafico de barras\n",
        "\n",
        "# Cargar el conjunto de datos de Iris\n",
        "iris = load_iris()\n",
        "target_names = iris.target_names\n",
        "target_counts = [len(iris.target[iris.target == i]) for i in range(len(target_names))]\n",
        "\n",
        "# Graficar el gráfico de barras\n",
        "plt.bar(target_names, target_counts)\n",
        "plt.xlabel('Clases')\n",
        "plt.ylabel('Número de muestras')\n",
        "plt.title('Gráfico de Barras del Iris Dataset')\n",
        "plt.show()"
      ],
      "metadata": {
        "colab": {
          "base_uri": "https://localhost:8080/",
          "height": 472
        },
        "id": "pn_4GOMgOdgR",
        "outputId": "06b121f7-4120-4514-9435-089f353df90a"
      },
      "execution_count": null,
      "outputs": [
        {
          "output_type": "display_data",
          "data": {
            "text/plain": [
              "<Figure size 640x480 with 1 Axes>"
            ],
            "image/png": "[encoded data removed]"
          },
          "metadata": {}
        }
      ]
    },
    {
      "cell_type": "code",
      "source": [
        "# Grafico de linea\n",
        "\n",
        "import matplotlib.pyplot as plt\n",
        "import numpy as np\n",
        "\n",
        "# Generar datos para el gráfico de línea\n",
        "x = np.linspace(0, 10, 100)\n",
        "y = np.sin(x)\n",
        "\n",
        "# Graficar el gráfico de línea\n",
        "plt.plot(x, y)\n",
        "plt.xlabel('Eje x')\n",
        "plt.ylabel('Eje y')\n",
        "plt.title('Gráfico de Línea')\n",
        "plt.show()"
      ],
      "metadata": {
        "colab": {
          "base_uri": "https://localhost:8080/",
          "height": 472
        },
        "id": "p9ZIBv7TOmKI",
        "outputId": "d1bc6887-cf58-4552-e851-b2ef9846d5f5"
      },
      "execution_count": null,
      "outputs": [
        {
          "output_type": "display_data",
          "data": {
            "text/plain": [
              "<Figure size 640x480 with 1 Axes>"
            ],
            "image/png": "[encoded data removed]"
          },
          "metadata": {}
        }
      ]
    },
    {
      "cell_type": "code",
      "source": [
        "# Grafico boxplot\n",
        "\n",
        "# Cargar el conjunto de datos de Iris\n",
        "iris = load_iris()\n",
        "data = [iris.data[iris.target == i, 0] for i in range(len(iris.target_names))]\n",
        "\n",
        "# Graficar el gráfico de cajas\n",
        "plt.boxplot(data, labels=iris.target_names)\n",
        "plt.xlabel('Clases')\n",
        "plt.ylabel('Longitud del sépalo (cm)')\n",
        "plt.title('Gráfico de Cajas del Iris Dataset')\n",
        "plt.show()"
      ],
      "metadata": {
        "colab": {
          "base_uri": "https://localhost:8080/",
          "height": 472
        },
        "id": "anr8kjQrOsBg",
        "outputId": "490d2ac5-60c7-4a02-8976-5de7ad32840d"
      },
      "execution_count": null,
      "outputs": [
        {
          "output_type": "display_data",
          "data": {
            "text/plain": [
              "<Figure size 640x480 with 1 Axes>"
            ],
            "image/png": "[encoded data removed]"
          },
          "metadata": {}
        }
      ]
    },
    {
      "cell_type": "markdown",
      "source": [
        "## Practica 2:\n",
        "\n",
        "Utiliza Pandas para cargar un conjunto de datos de scikit-learn, realiza un análisis exploratorio de datos utilizando métodos como head(), describe() y value_counts(). Luego, utiliza Matplotlib para visualizar características clave del conjunto de datos, como histogramas, gráficos de barras y gráficos de dispersión.\n"
      ],
      "metadata": {
        "id": "N2SVf6TePRpB"
      }
    },
    {
      "cell_type": "code",
      "source": [
        "from sklearn.datasets import load_iris\n",
        "import pandas as pd\n",
        "import matplotlib.pyplot as plt\n",
        "\n",
        "# Cargar el conjunto de datos Iris\n",
        "iris = load_iris()\n",
        "\n",
        "# Imprimir información sobre los conjuntos de datos cargados\n",
        "print(\"Información del conjunto de datos Iris:\")\n",
        "print(iris.DESCR)\n",
        "\n",
        "# Convertir los datos en un DataFrame de pandas\n",
        "iris_df = pd.DataFrame(data=iris.data, columns=iris.feature_names)\n",
        "iris_df['species'] = iris.target\n",
        "\n",
        "# Mostrar las primeras k filas del DataFrame\n",
        "k = 5\n",
        "print(f\"Primeras {k} filas del DataFrame:\")\n",
        "print(iris_df.head(k))\n",
        "\n",
        "# Mostrar estadísticas descriptivas del DataFrame\n",
        "print(\"Estadísticas descriptivas del DataFrame:\")\n",
        "print(iris_df.describe())\n",
        "\n",
        "# Contar los valores únicos en la columna \"species\"\n",
        "print(\"Conteo de valores en la columna 'species':\")\n",
        "print(iris_df['species'].value_counts())\n",
        "\n",
        "# Visualizar histogramas de las características\n",
        "print(\"Histogramas de las características:\")\n",
        "iris_df.hist()\n",
        "plt.tight_layout()\n",
        "plt.show()\n",
        "\n",
        "# Visualizar gráfico de barras de la columna \"species\"\n",
        "print(\"Gráfico de barras de la columna 'species':\")\n",
        "iris_df['species'].value_counts().plot(kind='bar')\n",
        "plt.xlabel('Especies')\n",
        "plt.ylabel('Cantidad')\n",
        "plt.title('Distribución de especies')\n",
        "plt.show()\n",
        "\n",
        "# Cargar el conjunto de datos de Iris\n",
        "iris = load_iris()\n",
        "X = iris.data[:, 0]  # Longitud del sépalo\n",
        "Y = iris.data[:, 1]  # Ancho del sépalo\n",
        "target_names = iris.target_names\n",
        "\n",
        "# Graficar los puntos de dispersión\n",
        "plt.scatter(X, Y, c=iris.target)\n",
        "plt.xlabel('Longitud del sépalo (cm)')\n",
        "plt.ylabel('Ancho del sépalo (cm)')\n",
        "plt.title('Gráfico de Dispersión del Iris Dataset')\n",
        "plt.show()\n",
        "\n",
        "# Cargar el conjunto de datos de Iris\n",
        "iris = load_iris()\n",
        "data = [iris.data[iris.target == i, 0] for i in range(len(iris.target_names))]\n",
        "\n",
        "# Graficar el gráfico de cajas\n",
        "plt.boxplot(data, labels=iris.target_names)\n",
        "plt.xlabel('Clases')\n",
        "plt.ylabel('Longitud del sépalo (cm)')\n",
        "plt.title('Gráfico de Cajas del Iris Dataset')\n",
        "plt.show()"
      ],
      "metadata": {
        "colab": {
          "base_uri": "https://localhost:8080/",
          "height": 1000
        },
        "id": "2G7tNeHAPYm4",
        "outputId": "ef802c50-4563-4b61-b2fc-371f14766eac"
      },
      "execution_count": null,
      "outputs": [
        {
          "output_type": "stream",
          "name": "stdout",
          "text": [
            "Información del conjunto de datos Iris:\n",
            ".. _iris_dataset:\n",
            "\n",
            "Iris plants dataset\n",
            "--------------------\n",
            "\n",
            "**Data Set Characteristics:**\n",
            "\n",
            "    :Number of Instances: 150 (50 in each of three classes)\n",
            "    :Number of Attributes: 4 numeric, predictive attributes and the class\n",
            "    :Attribute Information:\n",
            "        - sepal length in cm\n",
            "        - sepal width in cm\n",
            "        - petal length in cm\n",
            "        - petal width in cm\n",
            "        - class:\n",
            "                - Iris-Setosa\n",
            "                - Iris-Versicolour\n",
            "                - Iris-Virginica\n",
            "                \n",
            "    :Summary Statistics:\n",
            "\n",
            "    ============== ==== ==== ======= ===== ====================\n",
            "                    Min  Max   Mean    SD   Class Correlation\n",
            "    ============== ==== ==== ======= ===== ====================\n",
            "    sepal length:   4.3  7.9   5.84   0.83    0.7826\n",
            "    sepal width:    2.0  4.4   3.05   0.43   -0.4194\n",
            "    petal length:   1.0  6.9   3.76   1.76    0.9490  (high!)\n",
            "    petal width:    0.1  2.5   1.20   0.76    0.9565  (high!)\n",
            "    ============== ==== ==== ======= ===== ====================\n",
            "\n",
            "    :Missing Attribute Values: None\n",
            "    :Class Distribution: 33.3% for each of 3 classes.\n",
            "    :Creator: R.A. Fisher\n",
            "    :Donor: Michael Marshall (MARSHALL%PLU@io.arc.nasa.gov)\n",
            "    :Date: July, 1988\n",
            "\n",
            "The famous Iris database, first used by Sir R.A. Fisher. The dataset is taken\n",
            "from Fisher's paper. Note that it's the same as in R, but not as in the UCI\n",
            "Machine Learning Repository, which has two wrong data points.\n",
            "\n",
            "This is perhaps the best known database to be found in the\n",
            "pattern recognition literature.  Fisher's paper is a classic in the field and\n",
            "is referenced frequently to this day.  (See Duda & Hart, for example.)  The\n",
            "data set contains 3 classes of 50 instances each, where each class refers to a\n",
            "type of iris plant.  One class is linearly separable from the other 2; the\n",
            "latter are NOT linearly separable from each other.\n",
            "\n",
            ".. topic:: References\n",
            "\n",
            "   - Fisher, R.A. \"The use of multiple measurements in taxonomic problems\"\n",
            "     Annual Eugenics, 7, Part II, 179-188 (1936); also in \"Contributions to\n",
            "     Mathematical Statistics\" (John Wiley, NY, 1950).\n",
            "   - Duda, R.O., & Hart, P.E. (1973) Pattern Classification and Scene Analysis.\n",
            "     (Q327.D83) John Wiley & Sons.  ISBN 0-471-22361-1.  See page 218.\n",
            "   - Dasarathy, B.V. (1980) \"Nosing Around the Neighborhood: A New System\n",
            "     Structure and Classification Rule for Recognition in Partially Exposed\n",
            "     Environments\".  IEEE Transactions on Pattern Analysis and Machine\n",
            "     Intelligence, Vol. PAMI-2, No. 1, 67-71.\n",
            "   - Gates, G.W. (1972) \"The Reduced Nearest Neighbor Rule\".  IEEE Transactions\n",
            "     on Information Theory, May 1972, 431-433.\n",
            "   - See also: 1988 MLC Proceedings, 54-64.  Cheeseman et al\"s AUTOCLASS II\n",
            "     conceptual clustering system finds 3 classes in the data.\n",
            "   - Many, many more ...\n",
            "Primeras 5 filas del DataFrame:\n",
            "   sepal length (cm)  sepal width (cm)  petal length (cm)  petal width (cm)  \\\n",
            "0                5.1               3.5                1.4               0.2   \n",
            "1                4.9               3.0                1.4               0.2   \n",
            "2                4.7               3.2                1.3               0.2   \n",
            "3                4.6               3.1                1.5               0.2   \n",
            "4                5.0               3.6                1.4               0.2   \n",
            "\n",
            "   species  \n",
            "0        0  \n",
            "1        0  \n",
            "2        0  \n",
            "3        0  \n",
            "4        0  \n",
            "Estadísticas descriptivas del DataFrame:\n",
            "       sepal length (cm)  sepal width (cm)  petal length (cm)  \\\n",
            "count         150.000000        150.000000         150.000000   \n",
            "mean            5.843333          3.057333           3.758000   \n",
            "std             0.828066          0.435866           1.765298   \n",
            "min             4.300000          2.000000           1.000000   \n",
            "25%             5.100000          2.800000           1.600000   \n",
            "50%             5.800000          3.000000           4.350000   \n",
            "75%             6.400000          3.300000           5.100000   \n",
            "max             7.900000          4.400000           6.900000   \n",
            "\n",
            "       petal width (cm)     species  \n",
            "count        150.000000  150.000000  \n",
            "mean           1.199333    1.000000  \n",
            "std            0.762238    0.819232  \n",
            "min            0.100000    0.000000  \n",
            "25%            0.300000    0.000000  \n",
            "50%            1.300000    1.000000  \n",
            "75%            1.800000    2.000000  \n",
            "max            2.500000    2.000000  \n",
            "Conteo de valores en la columna 'species':\n",
            "0    50\n",
            "1    50\n",
            "2    50\n",
            "Name: species, dtype: int64\n",
            "Histogramas de las características:\n"
          ]
        },
        {
          "output_type": "display_data",
          "data": {
            "text/plain": [
              "<Figure size 640x480 with 6 Axes>"
            ],
            "image/png": "[encoded data removed]"
          },
          "metadata": {}
        },
        {
          "output_type": "stream",
          "name": "stdout",
          "text": [
            "Gráfico de barras de la columna 'species':\n"
          ]
        },
        {
          "output_type": "display_data",
          "data": {
            "text/plain": [
              "<Figure size 640x480 with 1 Axes>"
            ],
            "image/png": "[encoded data removed]"
          },
          "metadata": {}
        },
        {
          "output_type": "display_data",
          "data": {
            "text/plain": [
              "<Figure size 640x480 with 1 Axes>"
            ],
            "image/png": "[encoded data removed]"
          },
          "metadata": {}
        },
        {
          "output_type": "display_data",
          "data": {
            "text/plain": [
              "<Figure size 640x480 with 1 Axes>"
            ],
            "image/png": "[encoded data removed]"
          },
          "metadata": {}
        }
      ]
    },
    {
      "cell_type": "markdown",
      "source": [
        "## SKlearn"
      ],
      "metadata": {
        "id": "BsGRpz3u5qK9"
      }
    },
    {
      "cell_type": "markdown",
      "source": [
        "El problema de regresión consiste en pronosticar una variable de salida $y$ que es continua en todo el rango a partir de las variables independientes (atributos).\n",
        "\n",
        "Como se comentó en clase, un modelo lineal se forma por la suma lineal de las variables independientes ponderadas por coeficientes desconocidos. El modelo se llama lineal porque es una suma lineal de términos que son independientes entre si, de modo que cada uno de los términos puede tener un comportamiento diferente al lineal. A continuación, se expresa la ecuación matemática cuando se tiene una variable independiente $x$ (un atributo) y una variable de salida (comúnmente denotada por $y$):"
      ],
      "metadata": {
        "id": "wSxpiVt75wrX"
      }
    },
    {
      "cell_type": "markdown",
      "source": [
        "\\begin{equation}\n",
        "\\hat{y}=a_{0}+a_{1}x\n",
        "\\end{equation}"
      ],
      "metadata": {
        "id": "BmAFYuaX57aI"
      }
    },
    {
      "cell_type": "markdown",
      "source": [
        "Es importante dejar claro que la variable $y$ representa el valor real de los datos, mientras que $\\hat{y}$ representa el pronóstico de $y$ a partir del modelo lineal junto con los atributos reales, es decir, $x$. A continuación, se carga la base de datos ```regresión.csv``` y se grafica en forma de dispersión."
      ],
      "metadata": {
        "id": "cJ_QbjEh5_w_"
      }
    },
    {
      "cell_type": "code",
      "source": [
        "datos = pd.read_csv('/content/drive/MyDrive/Datasets/Datos_curso/altura_peso.csv')\n",
        "\n",
        "\n",
        "regresion = datos.drop(columns = ['Gender'])\n",
        "regresion.head()"
      ],
      "metadata": {
        "colab": {
          "base_uri": "https://localhost:8080/",
          "height": 206
        },
        "id": "-Oqx67fI7ApM",
        "outputId": "909b0e7b-e7ba-41d7-9388-3b076eb00f18"
      },
      "execution_count": null,
      "outputs": [
        {
          "output_type": "execute_result",
          "data": {
            "text/plain": [
              "      Height      Weight\n",
              "0  73.847017  241.893563\n",
              "1  68.781904  162.310473\n",
              "2  74.110105  212.740856\n",
              "3  71.730978  220.042470\n",
              "4  69.881796  206.349801"
            ],
            "text/html": [
              "\n",
              "\n",
              "  <div id=\"df-ea8134b5-98ec-4c47-bca4-b35d125f35eb\">\n",
              "    <div class=\"colab-df-container\">\n",
              "      <div>\n",
              "<style scoped>\n",
              "    .dataframe tbody tr th:only-of-type {\n",
              "        vertical-align: middle;\n",
              "    }\n",
              "\n",
              "    .dataframe tbody tr th {\n",
              "        vertical-align: top;\n",
              "    }\n",
              "\n",
              "    .dataframe thead th {\n",
              "        text-align: right;\n",
              "    }\n",
              "</style>\n",
              "<table border=\"1\" class=\"dataframe\">\n",
              "  <thead>\n",
              "    <tr style=\"text-align: right;\">\n",
              "      <th></th>\n",
              "      <th>Height</th>\n",
              "      <th>Weight</th>\n",
              "    </tr>\n",
              "  </thead>\n",
              "  <tbody>\n",
              "    <tr>\n",
              "      <th>0</th>\n",
              "      <td>73.847017</td>\n",
              "      <td>241.893563</td>\n",
              "    </tr>\n",
              "    <tr>\n",
              "      <th>1</th>\n",
              "      <td>68.781904</td>\n",
              "      <td>162.310473</td>\n",
              "    </tr>\n",
              "    <tr>\n",
              "      <th>2</th>\n",
              "      <td>74.110105</td>\n",
              "      <td>212.740856</td>\n",
              "    </tr>\n",
              "    <tr>\n",
              "      <th>3</th>\n",
              "      <td>71.730978</td>\n",
              "      <td>220.042470</td>\n",
              "    </tr>\n",
              "    <tr>\n",
              "      <th>4</th>\n",
              "      <td>69.881796</td>\n",
              "      <td>206.349801</td>\n",
              "    </tr>\n",
              "  </tbody>\n",
              "</table>\n",
              "</div>\n",
              "      <button class=\"colab-df-convert\" onclick=\"convertToInteractive('df-ea8134b5-98ec-4c47-bca4-b35d125f35eb')\"\n",
              "              title=\"Convert this dataframe to an interactive table.\"\n",
              "              style=\"display:none;\">\n",
              "\n",
              "  <svg xmlns=\"http://www.w3.org/2000/svg\" height=\"24px\"viewBox=\"0 0 24 24\"\n",
              "       width=\"24px\">\n",
              "    <path d=\"M0 0h24v24H0V0z\" fill=\"none\"/>\n",
              "    <path d=\"M18.56 5.44l.94 2.06.94-2.06 2.06-.94-2.06-.94-.94-2.06-.94 2.06-2.06.94zm-11 1L8.5 8.5l.94-2.06 2.06-.94-2.06-.94L8.5 2.5l-.94 2.06-2.06.94zm10 10l.94 2.06.94-2.06 2.06-.94-2.06-.94-.94-2.06-.94 2.06-2.06.94z\"/><path d=\"M17.41 7.96l-1.37-1.37c-.4-.4-.92-.59-1.43-.59-.52 0-1.04.2-1.43.59L10.3 9.45l-7.72 7.72c-.78.78-.78 2.05 0 2.83L4 21.41c.39.39.9.59 1.41.59.51 0 1.02-.2 1.41-.59l7.78-7.78 2.81-2.81c.8-.78.8-2.07 0-2.86zM5.41 20L4 18.59l7.72-7.72 1.47 1.35L5.41 20z\"/>\n",
              "  </svg>\n",
              "      </button>\n",
              "\n",
              "\n",
              "\n",
              "    <div id=\"df-99b233af-4b6c-4a49-9521-d4821b7fcb98\">\n",
              "      <button class=\"colab-df-quickchart\" onclick=\"quickchart('df-99b233af-4b6c-4a49-9521-d4821b7fcb98')\"\n",
              "              title=\"Suggest charts.\"\n",
              "              style=\"display:none;\">\n",
              "\n",
              "<svg xmlns=\"http://www.w3.org/2000/svg\" height=\"24px\"viewBox=\"0 0 24 24\"\n",
              "     width=\"24px\">\n",
              "    <g>\n",
              "        <path d=\"M19 3H5c-1.1 0-2 .9-2 2v14c0 1.1.9 2 2 2h14c1.1 0 2-.9 2-2V5c0-1.1-.9-2-2-2zM9 17H7v-7h2v7zm4 0h-2V7h2v10zm4 0h-2v-4h2v4z\"/>\n",
              "    </g>\n",
              "</svg>\n",
              "      </button>\n",
              "    </div>\n",
              "\n",
              "<style>\n",
              "  .colab-df-quickchart {\n",
              "    background-color: #E8F0FE;\n",
              "    border: none;\n",
              "    border-radius: 50%;\n",
              "    cursor: pointer;\n",
              "    display: none;\n",
              "    fill: #1967D2;\n",
              "    height: 32px;\n",
              "    padding: 0 0 0 0;\n",
              "    width: 32px;\n",
              "  }\n",
              "\n",
              "  .colab-df-quickchart:hover {\n",
              "    background-color: #E2EBFA;\n",
              "    box-shadow: 0px 1px 2px rgba(60, 64, 67, 0.3), 0px 1px 3px 1px rgba(60, 64, 67, 0.15);\n",
              "    fill: #174EA6;\n",
              "  }\n",
              "\n",
              "  [theme=dark] .colab-df-quickchart {\n",
              "    background-color: #3B4455;\n",
              "    fill: #D2E3FC;\n",
              "  }\n",
              "\n",
              "  [theme=dark] .colab-df-quickchart:hover {\n",
              "    background-color: #434B5C;\n",
              "    box-shadow: 0px 1px 3px 1px rgba(0, 0, 0, 0.15);\n",
              "    filter: drop-shadow(0px 1px 2px rgba(0, 0, 0, 0.3));\n",
              "    fill: #FFFFFF;\n",
              "  }\n",
              "</style>\n",
              "\n",
              "    <script>\n",
              "      async function quickchart(key) {\n",
              "        const containerElement = document.querySelector('#' + key);\n",
              "        const charts = await google.colab.kernel.invokeFunction(\n",
              "            'suggestCharts', [key], {});\n",
              "      }\n",
              "    </script>\n",
              "\n",
              "      <script>\n",
              "\n",
              "function displayQuickchartButton(domScope) {\n",
              "  let quickchartButtonEl =\n",
              "    domScope.querySelector('#df-99b233af-4b6c-4a49-9521-d4821b7fcb98 button.colab-df-quickchart');\n",
              "  quickchartButtonEl.style.display =\n",
              "    google.colab.kernel.accessAllowed ? 'block' : 'none';\n",
              "}\n",
              "\n",
              "        displayQuickchartButton(document);\n",
              "      </script>\n",
              "      <style>\n",
              "    .colab-df-container {\n",
              "      display:flex;\n",
              "      flex-wrap:wrap;\n",
              "      gap: 12px;\n",
              "    }\n",
              "\n",
              "    .colab-df-convert {\n",
              "      background-color: #E8F0FE;\n",
              "      border: none;\n",
              "      border-radius: 50%;\n",
              "      cursor: pointer;\n",
              "      display: none;\n",
              "      fill: #1967D2;\n",
              "      height: 32px;\n",
              "      padding: 0 0 0 0;\n",
              "      width: 32px;\n",
              "    }\n",
              "\n",
              "    .colab-df-convert:hover {\n",
              "      background-color: #E2EBFA;\n",
              "      box-shadow: 0px 1px 2px rgba(60, 64, 67, 0.3), 0px 1px 3px 1px rgba(60, 64, 67, 0.15);\n",
              "      fill: #174EA6;\n",
              "    }\n",
              "\n",
              "    [theme=dark] .colab-df-convert {\n",
              "      background-color: #3B4455;\n",
              "      fill: #D2E3FC;\n",
              "    }\n",
              "\n",
              "    [theme=dark] .colab-df-convert:hover {\n",
              "      background-color: #434B5C;\n",
              "      box-shadow: 0px 1px 3px 1px rgba(0, 0, 0, 0.15);\n",
              "      filter: drop-shadow(0px 1px 2px rgba(0, 0, 0, 0.3));\n",
              "      fill: #FFFFFF;\n",
              "    }\n",
              "  </style>\n",
              "\n",
              "      <script>\n",
              "        const buttonEl =\n",
              "          document.querySelector('#df-ea8134b5-98ec-4c47-bca4-b35d125f35eb button.colab-df-convert');\n",
              "        buttonEl.style.display =\n",
              "          google.colab.kernel.accessAllowed ? 'block' : 'none';\n",
              "\n",
              "        async function convertToInteractive(key) {\n",
              "          const element = document.querySelector('#df-ea8134b5-98ec-4c47-bca4-b35d125f35eb');\n",
              "          const dataTable =\n",
              "            await google.colab.kernel.invokeFunction('convertToInteractive',\n",
              "                                                     [key], {});\n",
              "          if (!dataTable) return;\n",
              "\n",
              "          const docLinkHtml = 'Like what you see? Visit the ' +\n",
              "            '<a target=\"_blank\" href=https://colab.research.google.com/notebooks/data_table.ipynb>data table notebook</a>'\n",
              "            + ' to learn more about interactive tables.';\n",
              "          element.innerHTML = '';\n",
              "          dataTable['output_type'] = 'display_data';\n",
              "          await google.colab.output.renderOutput(dataTable, element);\n",
              "          const docLink = document.createElement('div');\n",
              "          docLink.innerHTML = docLinkHtml;\n",
              "          element.appendChild(docLink);\n",
              "        }\n",
              "      </script>\n",
              "    </div>\n",
              "  </div>\n"
            ]
          },
          "metadata": {},
          "execution_count": 52
        }
      ]
    },
    {
      "cell_type": "code",
      "source": [
        "fig,ax=plt.subplots()\n",
        "ax.scatter(regresion['Height'],regresion['Weight'])\n",
        "plt.show()"
      ],
      "metadata": {
        "colab": {
          "base_uri": "https://localhost:8080/",
          "height": 430
        },
        "id": "bXTvkw3T8BSJ",
        "outputId": "294feb07-c560-4751-a54c-1e413eabf34a"
      },
      "execution_count": null,
      "outputs": [
        {
          "output_type": "display_data",
          "data": {
            "text/plain": [
              "<Figure size 640x480 with 1 Axes>"
            ],
            "image/png": "[encoded data removed]"
          },
          "metadata": {}
        }
      ]
    },
    {
      "cell_type": "markdown",
      "source": [
        "Solo como explicación, el objetivo es encontrar los valores de los coeficientes $a_{0}$ y $a_{1}$ que hagan que una línea recta pase de la mejor manera por en medio de los puntos, así que de forma burda le daremos valores aleatorios a estos coeficientes desconocidos solo para dejar claro cual es el propósito."
      ],
      "metadata": {
        "id": "Wb9FeH-29dMR"
      }
    },
    {
      "cell_type": "code",
      "source": [
        "a0=-400\n",
        "a1=8\n",
        "fig,ax=plt.subplots()\n",
        "ax.plot(regresion['Height'],regresion['Weight'],marker='o',linestyle='')\n",
        "ax.plot(regresion['Height'], a0 + a1*regresion['Height'])\n",
        "plt.show()"
      ],
      "metadata": {
        "colab": {
          "base_uri": "https://localhost:8080/",
          "height": 430
        },
        "id": "ChPCZeo287x-",
        "outputId": "f9d28707-c03f-4e65-95f2-5e4ca2126d31"
      },
      "execution_count": null,
      "outputs": [
        {
          "output_type": "display_data",
          "data": {
            "text/plain": [
              "<Figure size 640x480 with 1 Axes>"
            ],
            "image/png": "[encoded data removed]"
          },
          "metadata": {}
        }
      ]
    },
    {
      "cell_type": "markdown",
      "source": [
        "A continuación, se verá el primer algoritmo de inteligencia artificial aplicado a regresión llamado ***mínimos cuadrados ordinario*** (MCO), el cual encuentra los coeficientes desconocidos de un modelo lineal, $a_{0}$ y $a_{1}$ en nuestro caso. El MCO obtiene los valores desconocidos de tal forma que la suma de la diferencia entre el pronóstico $\\hat{y}$ y el valor verdadero $y$ sea lo menor posible. Para importar el MCO se utiliza la instrucción ``` sklearn.linear_model.LinearRegression```"
      ],
      "metadata": {
        "id": "vXPIy-409el2"
      }
    },
    {
      "cell_type": "code",
      "source": [
        "from sklearn.linear_model import LinearRegression as MCO\n",
        "algoritmo = MCO()"
      ],
      "metadata": {
        "id": "dipbIdaJ9YOR"
      },
      "execution_count": null,
      "outputs": []
    },
    {
      "cell_type": "markdown",
      "source": [
        "Antes de utilizar el MCO es necesario separar los datos en ***conjuntos de prueba y entrenamiento*** para ello se utiliza se importa la instrucción ``` from sklearn.model_selection import train_test_split```, esta función permite separar un conjunto completo de datos en conjuntos de entrenamiento y prueba de la siguiente manera, acontinuació, se explica su funcionamiento.\n",
        "* ```train_test_split( atributos_independientes, variable_salida, test_size=k )```: ```atributos_independientes``` son las columnas donde se ubican los atributos ($x$) que se utilizaran para pronosticar $y$, ```variable_salida``` es la columna donde se ubica la variable de salida $y$ y ```k``` es el porcentaje de los datos dado entre [0,1] que formaran el conjunto de prueba."
      ],
      "metadata": {
        "id": "Rz53p8Zq9jfJ"
      }
    },
    {
      "cell_type": "code",
      "source": [
        "from sklearn.model_selection import train_test_split as split\n",
        "x_train, x_test, y_train, y_test = split(regresion['Height'] , regresion['Weight'], test_size=0.2)"
      ],
      "metadata": {
        "id": "T48vMpKc9m3q"
      },
      "execution_count": null,
      "outputs": []
    },
    {
      "cell_type": "markdown",
      "source": [
        "A continuación, se presenta como entrenar, probar y pronosticar con un algoritmo de inteligencia artificial\n",
        "* ```varibel.fit(x_train,y_train)``` esta instrucción indica que el algoritmo guardado en ```variable``` se entrenara utilizando ```x_train``` y ```y_train```, es decir encontrara los valores de los coeficientes $a_{0}$ y $a_{1}$ de tal manera que al utilizarlos con ```x_train``` en la ecuación del modelo lineal el resultado se parezcan lo más posible a ```y_train```\n",
        "* ```variable.predict(x_test)``` Después de entrenar el algoritmo con la instrucción anterior y ya se conocen los valores de $a_{0}$ y $a_{1}$, esta instrucción pronostica los valores de ```y_test``` a partir de ```x_test```\n",
        "* ```variable.score(x_test,y_test)``` esta instrucción obtiene el rendimiento del algoritmo al comparar el pronóstico en el conjunto de prueba, hecho con ```x_test```, es decir $\\hat{y}$, con sus valores reales del conjunto de prueba ```y_test```, es decir $y$."
      ],
      "metadata": {
        "id": "rli6Fkn59wIM"
      }
    },
    {
      "cell_type": "code",
      "source": [
        "algoritmo.fit(np.array(x_train).reshape(-1,1),y_train)\n",
        "print('rendimiento',algoritmo.score(np.array(x_test).reshape(-1,1),y_test))\n",
        "algoritmo.predict(np.array(x_test).reshape(-1,1))"
      ],
      "metadata": {
        "colab": {
          "base_uri": "https://localhost:8080/"
        },
        "id": "kwjW-4939xXT",
        "outputId": "839dd1d7-73e5-4d10-9671-6758b1b48962"
      },
      "execution_count": null,
      "outputs": [
        {
          "output_type": "stream",
          "name": "stdout",
          "text": [
            "rendimiento 0.854657419130429\n"
          ]
        },
        {
          "output_type": "execute_result",
          "data": {
            "text/plain": [
              "array([141.68010879, 146.9546836 , 173.64114479, ..., 188.41186819,\n",
              "       116.73306573, 207.039854  ])"
            ]
          },
          "metadata": {},
          "execution_count": 57
        }
      ]
    },
    {
      "cell_type": "code",
      "source": [
        "regresion['pronostico']=algoritmo.predict(np.array(regresion['Height']).reshape(-1,1))\n",
        "regresion.head()"
      ],
      "metadata": {
        "colab": {
          "base_uri": "https://localhost:8080/",
          "height": 206
        },
        "id": "cj7vGKye92Ob",
        "outputId": "4852ce70-826b-4aa7-b654-8c9960a4e79c"
      },
      "execution_count": null,
      "outputs": [
        {
          "output_type": "execute_result",
          "data": {
            "text/plain": [
              "      Height      Weight  pronostico\n",
              "0  73.847017  241.893563  219.439257\n",
              "1  68.781904  162.310473  180.231892\n",
              "2  74.110105  212.740856  221.475737\n",
              "3  71.730978  220.042470  203.059702\n",
              "4  69.881796  206.349801  188.745791"
            ],
            "text/html": [
              "\n",
              "\n",
              "  <div id=\"df-65bc1b27-fc4d-4c78-b187-1b192e8d5b28\">\n",
              "    <div class=\"colab-df-container\">\n",
              "      <div>\n",
              "<style scoped>\n",
              "    .dataframe tbody tr th:only-of-type {\n",
              "        vertical-align: middle;\n",
              "    }\n",
              "\n",
              "    .dataframe tbody tr th {\n",
              "        vertical-align: top;\n",
              "    }\n",
              "\n",
              "    .dataframe thead th {\n",
              "        text-align: right;\n",
              "    }\n",
              "</style>\n",
              "<table border=\"1\" class=\"dataframe\">\n",
              "  <thead>\n",
              "    <tr style=\"text-align: right;\">\n",
              "      <th></th>\n",
              "      <th>Height</th>\n",
              "      <th>Weight</th>\n",
              "      <th>pronostico</th>\n",
              "    </tr>\n",
              "  </thead>\n",
              "  <tbody>\n",
              "    <tr>\n",
              "      <th>0</th>\n",
              "      <td>73.847017</td>\n",
              "      <td>241.893563</td>\n",
              "      <td>219.439257</td>\n",
              "    </tr>\n",
              "    <tr>\n",
              "      <th>1</th>\n",
              "      <td>68.781904</td>\n",
              "      <td>162.310473</td>\n",
              "      <td>180.231892</td>\n",
              "    </tr>\n",
              "    <tr>\n",
              "      <th>2</th>\n",
              "      <td>74.110105</td>\n",
              "      <td>212.740856</td>\n",
              "      <td>221.475737</td>\n",
              "    </tr>\n",
              "    <tr>\n",
              "      <th>3</th>\n",
              "      <td>71.730978</td>\n",
              "      <td>220.042470</td>\n",
              "      <td>203.059702</td>\n",
              "    </tr>\n",
              "    <tr>\n",
              "      <th>4</th>\n",
              "      <td>69.881796</td>\n",
              "      <td>206.349801</td>\n",
              "      <td>188.745791</td>\n",
              "    </tr>\n",
              "  </tbody>\n",
              "</table>\n",
              "</div>\n",
              "      <button class=\"colab-df-convert\" onclick=\"convertToInteractive('df-65bc1b27-fc4d-4c78-b187-1b192e8d5b28')\"\n",
              "              title=\"Convert this dataframe to an interactive table.\"\n",
              "              style=\"display:none;\">\n",
              "\n",
              "  <svg xmlns=\"http://www.w3.org/2000/svg\" height=\"24px\"viewBox=\"0 0 24 24\"\n",
              "       width=\"24px\">\n",
              "    <path d=\"M0 0h24v24H0V0z\" fill=\"none\"/>\n",
              "    <path d=\"M18.56 5.44l.94 2.06.94-2.06 2.06-.94-2.06-.94-.94-2.06-.94 2.06-2.06.94zm-11 1L8.5 8.5l.94-2.06 2.06-.94-2.06-.94L8.5 2.5l-.94 2.06-2.06.94zm10 10l.94 2.06.94-2.06 2.06-.94-2.06-.94-.94-2.06-.94 2.06-2.06.94z\"/><path d=\"M17.41 7.96l-1.37-1.37c-.4-.4-.92-.59-1.43-.59-.52 0-1.04.2-1.43.59L10.3 9.45l-7.72 7.72c-.78.78-.78 2.05 0 2.83L4 21.41c.39.39.9.59 1.41.59.51 0 1.02-.2 1.41-.59l7.78-7.78 2.81-2.81c.8-.78.8-2.07 0-2.86zM5.41 20L4 18.59l7.72-7.72 1.47 1.35L5.41 20z\"/>\n",
              "  </svg>\n",
              "      </button>\n",
              "\n",
              "\n",
              "\n",
              "    <div id=\"df-855215b5-81da-4cc4-8c06-d39424c8e8ca\">\n",
              "      <button class=\"colab-df-quickchart\" onclick=\"quickchart('df-855215b5-81da-4cc4-8c06-d39424c8e8ca')\"\n",
              "              title=\"Suggest charts.\"\n",
              "              style=\"display:none;\">\n",
              "\n",
              "<svg xmlns=\"http://www.w3.org/2000/svg\" height=\"24px\"viewBox=\"0 0 24 24\"\n",
              "     width=\"24px\">\n",
              "    <g>\n",
              "        <path d=\"M19 3H5c-1.1 0-2 .9-2 2v14c0 1.1.9 2 2 2h14c1.1 0 2-.9 2-2V5c0-1.1-.9-2-2-2zM9 17H7v-7h2v7zm4 0h-2V7h2v10zm4 0h-2v-4h2v4z\"/>\n",
              "    </g>\n",
              "</svg>\n",
              "      </button>\n",
              "    </div>\n",
              "\n",
              "<style>\n",
              "  .colab-df-quickchart {\n",
              "    background-color: #E8F0FE;\n",
              "    border: none;\n",
              "    border-radius: 50%;\n",
              "    cursor: pointer;\n",
              "    display: none;\n",
              "    fill: #1967D2;\n",
              "    height: 32px;\n",
              "    padding: 0 0 0 0;\n",
              "    width: 32px;\n",
              "  }\n",
              "\n",
              "  .colab-df-quickchart:hover {\n",
              "    background-color: #E2EBFA;\n",
              "    box-shadow: 0px 1px 2px rgba(60, 64, 67, 0.3), 0px 1px 3px 1px rgba(60, 64, 67, 0.15);\n",
              "    fill: #174EA6;\n",
              "  }\n",
              "\n",
              "  [theme=dark] .colab-df-quickchart {\n",
              "    background-color: #3B4455;\n",
              "    fill: #D2E3FC;\n",
              "  }\n",
              "\n",
              "  [theme=dark] .colab-df-quickchart:hover {\n",
              "    background-color: #434B5C;\n",
              "    box-shadow: 0px 1px 3px 1px rgba(0, 0, 0, 0.15);\n",
              "    filter: drop-shadow(0px 1px 2px rgba(0, 0, 0, 0.3));\n",
              "    fill: #FFFFFF;\n",
              "  }\n",
              "</style>\n",
              "\n",
              "    <script>\n",
              "      async function quickchart(key) {\n",
              "        const containerElement = document.querySelector('#' + key);\n",
              "        const charts = await google.colab.kernel.invokeFunction(\n",
              "            'suggestCharts', [key], {});\n",
              "      }\n",
              "    </script>\n",
              "\n",
              "      <script>\n",
              "\n",
              "function displayQuickchartButton(domScope) {\n",
              "  let quickchartButtonEl =\n",
              "    domScope.querySelector('#df-855215b5-81da-4cc4-8c06-d39424c8e8ca button.colab-df-quickchart');\n",
              "  quickchartButtonEl.style.display =\n",
              "    google.colab.kernel.accessAllowed ? 'block' : 'none';\n",
              "}\n",
              "\n",
              "        displayQuickchartButton(document);\n",
              "      </script>\n",
              "      <style>\n",
              "    .colab-df-container {\n",
              "      display:flex;\n",
              "      flex-wrap:wrap;\n",
              "      gap: 12px;\n",
              "    }\n",
              "\n",
              "    .colab-df-convert {\n",
              "      background-color: #E8F0FE;\n",
              "      border: none;\n",
              "      border-radius: 50%;\n",
              "      cursor: pointer;\n",
              "      display: none;\n",
              "      fill: #1967D2;\n",
              "      height: 32px;\n",
              "      padding: 0 0 0 0;\n",
              "      width: 32px;\n",
              "    }\n",
              "\n",
              "    .colab-df-convert:hover {\n",
              "      background-color: #E2EBFA;\n",
              "      box-shadow: 0px 1px 2px rgba(60, 64, 67, 0.3), 0px 1px 3px 1px rgba(60, 64, 67, 0.15);\n",
              "      fill: #174EA6;\n",
              "    }\n",
              "\n",
              "    [theme=dark] .colab-df-convert {\n",
              "      background-color: #3B4455;\n",
              "      fill: #D2E3FC;\n",
              "    }\n",
              "\n",
              "    [theme=dark] .colab-df-convert:hover {\n",
              "      background-color: #434B5C;\n",
              "      box-shadow: 0px 1px 3px 1px rgba(0, 0, 0, 0.15);\n",
              "      filter: drop-shadow(0px 1px 2px rgba(0, 0, 0, 0.3));\n",
              "      fill: #FFFFFF;\n",
              "    }\n",
              "  </style>\n",
              "\n",
              "      <script>\n",
              "        const buttonEl =\n",
              "          document.querySelector('#df-65bc1b27-fc4d-4c78-b187-1b192e8d5b28 button.colab-df-convert');\n",
              "        buttonEl.style.display =\n",
              "          google.colab.kernel.accessAllowed ? 'block' : 'none';\n",
              "\n",
              "        async function convertToInteractive(key) {\n",
              "          const element = document.querySelector('#df-65bc1b27-fc4d-4c78-b187-1b192e8d5b28');\n",
              "          const dataTable =\n",
              "            await google.colab.kernel.invokeFunction('convertToInteractive',\n",
              "                                                     [key], {});\n",
              "          if (!dataTable) return;\n",
              "\n",
              "          const docLinkHtml = 'Like what you see? Visit the ' +\n",
              "            '<a target=\"_blank\" href=https://colab.research.google.com/notebooks/data_table.ipynb>data table notebook</a>'\n",
              "            + ' to learn more about interactive tables.';\n",
              "          element.innerHTML = '';\n",
              "          dataTable['output_type'] = 'display_data';\n",
              "          await google.colab.output.renderOutput(dataTable, element);\n",
              "          const docLink = document.createElement('div');\n",
              "          docLink.innerHTML = docLinkHtml;\n",
              "          element.appendChild(docLink);\n",
              "        }\n",
              "      </script>\n",
              "    </div>\n",
              "  </div>\n"
            ]
          },
          "metadata": {},
          "execution_count": 58
        }
      ]
    },
    {
      "cell_type": "code",
      "source": [
        "fig,ax=plt.subplots()\n",
        "ax.plot(regresion['Height'],regresion['Weight'],marker='o',linestyle='')\n",
        "ax.plot(regresion['Height'],regresion['pronostico'],marker='o',linestyle='')\n",
        "plt.show()"
      ],
      "metadata": {
        "colab": {
          "base_uri": "https://localhost:8080/",
          "height": 430
        },
        "id": "4BcJxxdK94u-",
        "outputId": "47fe5ae0-b770-4cd1-964f-a48eb9c82eec"
      },
      "execution_count": null,
      "outputs": [
        {
          "output_type": "display_data",
          "data": {
            "text/plain": [
              "<Figure size 640x480 with 1 Axes>"
            ],
            "image/png": "[encoded data removed]"
          },
          "metadata": {}
        }
      ]
    },
    {
      "cell_type": "markdown",
      "source": [
        "### Practica 3:\n",
        "\n",
        "Utilizando cualquiera de los datos que mencionamos anteriormente de la libreria de sklearn, repetir el analisis sencillo de los datos y realizar una regresion en los datos. Ejemplo:"
      ],
      "metadata": {
        "id": "BfaJbspAH5Qz"
      }
    },
    {
      "cell_type": "code",
      "source": [
        "from sklearn.datasets import load_iris\n",
        "import pandas as pd\n",
        "import matplotlib.pyplot as plt\n",
        "import numpy as np\n",
        "\n",
        "# Cargar el conjunto de datos Iris\n",
        "iris = load_iris()\n",
        "\n",
        "# Imprimir información sobre los conjuntos de datos cargados\n",
        "print(\"Información del conjunto de datos Iris:\")\n",
        "print(iris.DESCR)\n",
        "\n",
        "# Convertir los datos en un DataFrame de pandas\n",
        "iris_df = pd.DataFrame(data=iris.data, columns=iris.feature_names)\n",
        "iris_df['species'] = iris.target\n",
        "\n",
        "# Mostrar las primeras k filas del DataFrame\n",
        "k = 5\n",
        "print(f\"Primeras {k} filas del DataFrame:\")\n",
        "print(iris_df.head(k))\n",
        "\n",
        "# Mostrar estadísticas descriptivas del DataFrame\n",
        "print(\"Estadísticas descriptivas del DataFrame:\")\n",
        "print(iris_df.describe())\n",
        "\n",
        "# Contar los valores únicos en la columna \"species\"\n",
        "print(\"Conteo de valores en la columna 'species':\")\n",
        "print(iris_df['species'].value_counts())\n",
        "\n",
        "# Visualizar histogramas de las características\n",
        "print(\"Histogramas de las características:\")\n",
        "iris_df.hist()\n",
        "plt.tight_layout()\n",
        "plt.show()\n",
        "\n",
        "# Visualizar gráfico de barras de la columna \"species\"\n",
        "print(\"Gráfico de barras de la columna 'species':\")\n",
        "iris_df['species'].value_counts().plot(kind='bar')\n",
        "plt.xlabel('Especies')\n",
        "plt.ylabel('Cantidad')\n",
        "plt.title('Distribución de especies')\n",
        "plt.show()\n",
        "\n",
        "# Cargar el conjunto de datos de Iris\n",
        "iris = load_iris()\n",
        "X = iris.data[:, 0]  # Longitud del sépalo\n",
        "Y = iris.data[:, 1]  # Ancho del sépalo\n",
        "target_names = iris.target_names\n",
        "\n",
        "# Graficar los puntos de dispersión\n",
        "fig, ax = plt.subplots()\n",
        "ax.scatter(X, Y, c=iris.target)\n",
        "plt.xlabel('Longitud del sépalo (cm)')\n",
        "plt.ylabel('Ancho del sépalo (cm)')\n",
        "plt.title('Gráfico de Dispersión del Iris Dataset')\n",
        "\n",
        "# Realizar regresión lineal utilizando Mínimos Cuadrados Ordinarios (MCO)\n",
        "# Tomar las dos primeras características como X\n",
        "X = iris.data[:, :2]\n",
        "# Tomar la tercera característica (ancho del pétalo) como la variable objetivo Y\n",
        "Y = iris.data[:, 2]\n",
        "\n",
        "# Agregar una columna de unos a X para tener en cuenta el término independiente en la regresión\n",
        "X = np.c_[np.ones((X.shape[0], 1)), X]\n",
        "\n",
        "# Calcular los coeficientes de la regresión utilizando MCO\n",
        "coefficients = np.linalg.inv(X.T.dot(X)).dot(X.T).dot(Y)\n",
        "\n",
        "# Imprimir los coeficientes\n",
        "print(\"Coeficientes de la regresión:\")\n",
        "print(coefficients)\n",
        "\n",
        "# Calcular los valores predichos utilizando los coeficientes\n",
        "predicted_Y = X.dot(coefficients)\n",
        "\n",
        "# Agregar la línea de regresión a la gráfica de dispersión\n",
        "ax.plot(X[:, 1], predicted_Y, color='red')\n",
        "\n",
        "plt.show()\n"
      ],
      "metadata": {
        "id": "8vggXkf8IYlv",
        "colab": {
          "base_uri": "https://localhost:8080/",
          "height": 1000
        },
        "outputId": "c517c7fc-1f87-4346-f0ec-98b78ffa63ec"
      },
      "execution_count": null,
      "outputs": [
        {
          "output_type": "stream",
          "name": "stdout",
          "text": [
            "Información del conjunto de datos Iris:\n",
            ".. _iris_dataset:\n",
            "\n",
            "Iris plants dataset\n",
            "--------------------\n",
            "\n",
            "**Data Set Characteristics:**\n",
            "\n",
            "    :Number of Instances: 150 (50 in each of three classes)\n",
            "    :Number of Attributes: 4 numeric, predictive attributes and the class\n",
            "    :Attribute Information:\n",
            "        - sepal length in cm\n",
            "        - sepal width in cm\n",
            "        - petal length in cm\n",
            "        - petal width in cm\n",
            "        - class:\n",
            "                - Iris-Setosa\n",
            "                - Iris-Versicolour\n",
            "                - Iris-Virginica\n",
            "                \n",
            "    :Summary Statistics:\n",
            "\n",
            "    ============== ==== ==== ======= ===== ====================\n",
            "                    Min  Max   Mean    SD   Class Correlation\n",
            "    ============== ==== ==== ======= ===== ====================\n",
            "    sepal length:   4.3  7.9   5.84   0.83    0.7826\n",
            "    sepal width:    2.0  4.4   3.05   0.43   -0.4194\n",
            "    petal length:   1.0  6.9   3.76   1.76    0.9490  (high!)\n",
            "    petal width:    0.1  2.5   1.20   0.76    0.9565  (high!)\n",
            "    ============== ==== ==== ======= ===== ====================\n",
            "\n",
            "    :Missing Attribute Values: None\n",
            "    :Class Distribution: 33.3% for each of 3 classes.\n",
            "    :Creator: R.A. Fisher\n",
            "    :Donor: Michael Marshall (MARSHALL%PLU@io.arc.nasa.gov)\n",
            "    :Date: July, 1988\n",
            "\n",
            "The famous Iris database, first used by Sir R.A. Fisher. The dataset is taken\n",
            "from Fisher's paper. Note that it's the same as in R, but not as in the UCI\n",
            "Machine Learning Repository, which has two wrong data points.\n",
            "\n",
            "This is perhaps the best known database to be found in the\n",
            "pattern recognition literature.  Fisher's paper is a classic in the field and\n",
            "is referenced frequently to this day.  (See Duda & Hart, for example.)  The\n",
            "data set contains 3 classes of 50 instances each, where each class refers to a\n",
            "type of iris plant.  One class is linearly separable from the other 2; the\n",
            "latter are NOT linearly separable from each other.\n",
            "\n",
            ".. topic:: References\n",
            "\n",
            "   - Fisher, R.A. \"The use of multiple measurements in taxonomic problems\"\n",
            "     Annual Eugenics, 7, Part II, 179-188 (1936); also in \"Contributions to\n",
            "     Mathematical Statistics\" (John Wiley, NY, 1950).\n",
            "   - Duda, R.O., & Hart, P.E. (1973) Pattern Classification and Scene Analysis.\n",
            "     (Q327.D83) John Wiley & Sons.  ISBN 0-471-22361-1.  See page 218.\n",
            "   - Dasarathy, B.V. (1980) \"Nosing Around the Neighborhood: A New System\n",
            "     Structure and Classification Rule for Recognition in Partially Exposed\n",
            "     Environments\".  IEEE Transactions on Pattern Analysis and Machine\n",
            "     Intelligence, Vol. PAMI-2, No. 1, 67-71.\n",
            "   - Gates, G.W. (1972) \"The Reduced Nearest Neighbor Rule\".  IEEE Transactions\n",
            "     on Information Theory, May 1972, 431-433.\n",
            "   - See also: 1988 MLC Proceedings, 54-64.  Cheeseman et al\"s AUTOCLASS II\n",
            "     conceptual clustering system finds 3 classes in the data.\n",
            "   - Many, many more ...\n",
            "Primeras 5 filas del DataFrame:\n",
            "   sepal length (cm)  sepal width (cm)  petal length (cm)  petal width (cm)  \\\n",
            "0                5.1               3.5                1.4               0.2   \n",
            "1                4.9               3.0                1.4               0.2   \n",
            "2                4.7               3.2                1.3               0.2   \n",
            "3                4.6               3.1                1.5               0.2   \n",
            "4                5.0               3.6                1.4               0.2   \n",
            "\n",
            "   species  \n",
            "0        0  \n",
            "1        0  \n",
            "2        0  \n",
            "3        0  \n",
            "4        0  \n",
            "Estadísticas descriptivas del DataFrame:\n",
            "       sepal length (cm)  sepal width (cm)  petal length (cm)  \\\n",
            "count         150.000000        150.000000         150.000000   \n",
            "mean            5.843333          3.057333           3.758000   \n",
            "std             0.828066          0.435866           1.765298   \n",
            "min             4.300000          2.000000           1.000000   \n",
            "25%             5.100000          2.800000           1.600000   \n",
            "50%             5.800000          3.000000           4.350000   \n",
            "75%             6.400000          3.300000           5.100000   \n",
            "max             7.900000          4.400000           6.900000   \n",
            "\n",
            "       petal width (cm)     species  \n",
            "count        150.000000  150.000000  \n",
            "mean           1.199333    1.000000  \n",
            "std            0.762238    0.819232  \n",
            "min            0.100000    0.000000  \n",
            "25%            0.300000    0.000000  \n",
            "50%            1.300000    1.000000  \n",
            "75%            1.800000    2.000000  \n",
            "max            2.500000    2.000000  \n",
            "Conteo de valores en la columna 'species':\n",
            "0    50\n",
            "1    50\n",
            "2    50\n",
            "Name: species, dtype: int64\n",
            "Histogramas de las características:\n"
          ]
        },
        {
          "output_type": "display_data",
          "data": {
            "text/plain": [
              "<Figure size 640x480 with 6 Axes>"
            ],
            "image/png": "[encoded data removed]"
          },
          "metadata": {}
        },
        {
          "output_type": "stream",
          "name": "stdout",
          "text": [
            "Gráfico de barras de la columna 'species':\n"
          ]
        },
        {
          "output_type": "display_data",
          "data": {
            "text/plain": [
              "<Figure size 640x480 with 1 Axes>"
            ],
            "image/png": "[encoded data removed]"
          },
          "metadata": {}
        },
        {
          "output_type": "stream",
          "name": "stdout",
          "text": [
            "Coeficientes de la regresión:\n",
            "[-2.52476151  1.77559255 -1.33862329]\n"
          ]
        },
        {
          "output_type": "display_data",
          "data": {
            "text/plain": [
              "<Figure size 640x480 with 1 Axes>"
            ],
            "image/png": "[encoded data removed]"
          },
          "metadata": {}
        }
      ]
    },
    {
      "cell_type": "markdown",
      "source": [],
      "metadata": {
        "id": "UnRFqtc0TQa9"
      }
    },
    {
      "cell_type": "markdown",
      "metadata": {
        "id": "1GasE0BGkf45"
      },
      "source": [
        "# **1. Manejar datos nulos**"
      ]
    },
    {
      "cell_type": "markdown",
      "metadata": {
        "id": "aZ_ijWY3Qqmu"
      },
      "source": [
        "## Paso 1: Cargar los datos.\n",
        "\n",
        "---\n",
        "\n",
        "\n",
        "Para poder iniciar con la limpieza de datos, lo primero que tenemos que hacer es importar las librerías que vamos a utilizar.\n",
        "\n",
        "Para esta demostración estaremos utilizando el dataset de American Football games, descargado de la página de Kaggle.\n",
        "\n",
        "https://www.kaggle.com/maxhorowitz/nflplaybyplay2009to2016/version/6\n",
        "\n",
        "Primeros pasos:\n",
        "- Crea una cuenta en Kaggle.\n",
        "- Descarga el dataset de la liga anterior.\n",
        "- Nombra la carpeta **Datasets** y guardala dentro de una carpeta de google drive a la que tengas acceso.\n",
        "\n",
        "Una vez que tengas la carpeta guardada, seguiras los siguientes pasos en google collab.\n",
        "\n",
        "- En la parte izquierda de tu pantalla en google collab, está una barra de herramientas vertical. Selecciona el icono que asemeja una carpeta, llamado \"Archivos\".\n",
        "- Dentro apareceran todos los archivos que tienes disponibles para usar en tu cuaderno de collab. Aqui vamos a agregar un camino a la carpeta de **Datasets** que guardaste en tu carpeta personal de Drive.\n",
        "\n",
        "De la parte superior de la pestaña que acabas de abrir de archivos, hay tres iconos:\n",
        "\n",
        "- El primer icono es para subir archivos manualmente, pero estos van a desaparecer en cuanto cierres la sesión, por lo que tendrás que subir el archivo repetidas veces.\n",
        "- El segundo es para actualizar las carpetas, en caso de que lleves mucho tiempo sin usar el notebook, solo para asegurar que los archivos siguen disponibles.\n",
        "- El tercer icono es para enlazar tu Drive al google collab y que puedas ver todas tus carpetas.\n",
        "\n",
        "Vamos a usar este tercer icono. Para que este funcione debes de abrir e iniciar sesión en tu google Collab desde la cuenta de google en la que tambien tengas tu Drive."
      ]
    },
    {
      "cell_type": "code",
      "execution_count": null,
      "metadata": {
        "id": "mN4ngE4RZEYd"
      },
      "outputs": [],
      "source": [
        "# Librerías para utilizar\n",
        "\n",
        "import pandas as pd\n",
        "import numpy as np\n",
        "\n",
        "# Cargar nuestra base de datos\n",
        "datos_nfl = pd.read_csv(\"/content/drive/MyDrive/Colab Notebooks/Food Price/Food Prices.csv\")\n",
        "\n",
        "# Cargar semilla para poder dar reproducibilidad (1)\n",
        "np.random.seed(0)\n"
      ]
    },
    {
      "cell_type": "markdown",
      "metadata": {
        "id": "6043v0VZit72"
      },
      "source": [
        "Ya que nuestro dataset este cargado correctamente, podemos visualizarlo. La próxima linea de código te permitirá verificar si tus datos se cargaron correctamente. De igual manera, a pesar de que es solo una muestra de los datos, podemos revisar si existen datos faltantes o nulos, que se representan con **NaN** o **None**."
      ]
    },
    {
      "cell_type": "code",
      "execution_count": null,
      "metadata": {
        "colab": {
          "base_uri": "https://localhost:8080/",
          "height": 206
        },
        "id": "4hHoSJ6xjWh6",
        "outputId": "9f0022e2-8509-4f1b-dfac-168b5ff3cec1"
      },
      "outputs": [
        {
          "output_type": "execute_result",
          "data": {
            "text/plain": [
              "    Country   Year   Month  Food Item  Unit of Measurement  Average Price   \\\n",
              "0  Australia   2018       1      Bread                Loaf            2.20   \n",
              "1  Australia   2018       2      Bread                Loaf            2.20   \n",
              "2  Australia   2018       3      Bread                Loaf            2.20   \n",
              "3  Australia   2018       4      Bread                Loaf            2.21   \n",
              "4  Australia   2018       5      Bread                Loaf            2.21   \n",
              "\n",
              "  Currency   Price in USD  Availability  Quality   \n",
              "0       AUD          1.47              1     High  \n",
              "1       AUD          1.48              1     High  \n",
              "2       AUD          1.48              1     High  \n",
              "3       AUD          1.48              1     High  \n",
              "4       AUD          1.48              1     High  "
            ],
            "text/html": [
              "\n",
              "\n",
              "  <div id=\"df-2f1526a9-7a72-4823-a3ca-4167c6b9ee03\">\n",
              "    <div class=\"colab-df-container\">\n",
              "      <div>\n",
              "<style scoped>\n",
              "    .dataframe tbody tr th:only-of-type {\n",
              "        vertical-align: middle;\n",
              "    }\n",
              "\n",
              "    .dataframe tbody tr th {\n",
              "        vertical-align: top;\n",
              "    }\n",
              "\n",
              "    .dataframe thead th {\n",
              "        text-align: right;\n",
              "    }\n",
              "</style>\n",
              "<table border=\"1\" class=\"dataframe\">\n",
              "  <thead>\n",
              "    <tr style=\"text-align: right;\">\n",
              "      <th></th>\n",
              "      <th>Country</th>\n",
              "      <th>Year</th>\n",
              "      <th>Month</th>\n",
              "      <th>Food Item</th>\n",
              "      <th>Unit of Measurement</th>\n",
              "      <th>Average Price</th>\n",
              "      <th>Currency</th>\n",
              "      <th>Price in USD</th>\n",
              "      <th>Availability</th>\n",
              "      <th>Quality</th>\n",
              "    </tr>\n",
              "  </thead>\n",
              "  <tbody>\n",
              "    <tr>\n",
              "      <th>0</th>\n",
              "      <td>Australia</td>\n",
              "      <td>2018</td>\n",
              "      <td>1</td>\n",
              "      <td>Bread</td>\n",
              "      <td>Loaf</td>\n",
              "      <td>2.20</td>\n",
              "      <td>AUD</td>\n",
              "      <td>1.47</td>\n",
              "      <td>1</td>\n",
              "      <td>High</td>\n",
              "    </tr>\n",
              "    <tr>\n",
              "      <th>1</th>\n",
              "      <td>Australia</td>\n",
              "      <td>2018</td>\n",
              "      <td>2</td>\n",
              "      <td>Bread</td>\n",
              "      <td>Loaf</td>\n",
              "      <td>2.20</td>\n",
              "      <td>AUD</td>\n",
              "      <td>1.48</td>\n",
              "      <td>1</td>\n",
              "      <td>High</td>\n",
              "    </tr>\n",
              "    <tr>\n",
              "      <th>2</th>\n",
              "      <td>Australia</td>\n",
              "      <td>2018</td>\n",
              "      <td>3</td>\n",
              "      <td>Bread</td>\n",
              "      <td>Loaf</td>\n",
              "      <td>2.20</td>\n",
              "      <td>AUD</td>\n",
              "      <td>1.48</td>\n",
              "      <td>1</td>\n",
              "      <td>High</td>\n",
              "    </tr>\n",
              "    <tr>\n",
              "      <th>3</th>\n",
              "      <td>Australia</td>\n",
              "      <td>2018</td>\n",
              "      <td>4</td>\n",
              "      <td>Bread</td>\n",
              "      <td>Loaf</td>\n",
              "      <td>2.21</td>\n",
              "      <td>AUD</td>\n",
              "      <td>1.48</td>\n",
              "      <td>1</td>\n",
              "      <td>High</td>\n",
              "    </tr>\n",
              "    <tr>\n",
              "      <th>4</th>\n",
              "      <td>Australia</td>\n",
              "      <td>2018</td>\n",
              "      <td>5</td>\n",
              "      <td>Bread</td>\n",
              "      <td>Loaf</td>\n",
              "      <td>2.21</td>\n",
              "      <td>AUD</td>\n",
              "      <td>1.48</td>\n",
              "      <td>1</td>\n",
              "      <td>High</td>\n",
              "    </tr>\n",
              "  </tbody>\n",
              "</table>\n",
              "</div>\n",
              "      <button class=\"colab-df-convert\" onclick=\"convertToInteractive('df-2f1526a9-7a72-4823-a3ca-4167c6b9ee03')\"\n",
              "              title=\"Convert this dataframe to an interactive table.\"\n",
              "              style=\"display:none;\">\n",
              "\n",
              "  <svg xmlns=\"http://www.w3.org/2000/svg\" height=\"24px\"viewBox=\"0 0 24 24\"\n",
              "       width=\"24px\">\n",
              "    <path d=\"M0 0h24v24H0V0z\" fill=\"none\"/>\n",
              "    <path d=\"M18.56 5.44l.94 2.06.94-2.06 2.06-.94-2.06-.94-.94-2.06-.94 2.06-2.06.94zm-11 1L8.5 8.5l.94-2.06 2.06-.94-2.06-.94L8.5 2.5l-.94 2.06-2.06.94zm10 10l.94 2.06.94-2.06 2.06-.94-2.06-.94-.94-2.06-.94 2.06-2.06.94z\"/><path d=\"M17.41 7.96l-1.37-1.37c-.4-.4-.92-.59-1.43-.59-.52 0-1.04.2-1.43.59L10.3 9.45l-7.72 7.72c-.78.78-.78 2.05 0 2.83L4 21.41c.39.39.9.59 1.41.59.51 0 1.02-.2 1.41-.59l7.78-7.78 2.81-2.81c.8-.78.8-2.07 0-2.86zM5.41 20L4 18.59l7.72-7.72 1.47 1.35L5.41 20z\"/>\n",
              "  </svg>\n",
              "      </button>\n",
              "\n",
              "\n",
              "\n",
              "    <div id=\"df-69a852e9-86c1-4c62-8dc8-5def22af7833\">\n",
              "      <button class=\"colab-df-quickchart\" onclick=\"quickchart('df-69a852e9-86c1-4c62-8dc8-5def22af7833')\"\n",
              "              title=\"Suggest charts.\"\n",
              "              style=\"display:none;\">\n",
              "\n",
              "<svg xmlns=\"http://www.w3.org/2000/svg\" height=\"24px\"viewBox=\"0 0 24 24\"\n",
              "     width=\"24px\">\n",
              "    <g>\n",
              "        <path d=\"M19 3H5c-1.1 0-2 .9-2 2v14c0 1.1.9 2 2 2h14c1.1 0 2-.9 2-2V5c0-1.1-.9-2-2-2zM9 17H7v-7h2v7zm4 0h-2V7h2v10zm4 0h-2v-4h2v4z\"/>\n",
              "    </g>\n",
              "</svg>\n",
              "      </button>\n",
              "    </div>\n",
              "\n",
              "<style>\n",
              "  .colab-df-quickchart {\n",
              "    background-color: #E8F0FE;\n",
              "    border: none;\n",
              "    border-radius: 50%;\n",
              "    cursor: pointer;\n",
              "    display: none;\n",
              "    fill: #1967D2;\n",
              "    height: 32px;\n",
              "    padding: 0 0 0 0;\n",
              "    width: 32px;\n",
              "  }\n",
              "\n",
              "  .colab-df-quickchart:hover {\n",
              "    background-color: #E2EBFA;\n",
              "    box-shadow: 0px 1px 2px rgba(60, 64, 67, 0.3), 0px 1px 3px 1px rgba(60, 64, 67, 0.15);\n",
              "    fill: #174EA6;\n",
              "  }\n",
              "\n",
              "  [theme=dark] .colab-df-quickchart {\n",
              "    background-color: #3B4455;\n",
              "    fill: #D2E3FC;\n",
              "  }\n",
              "\n",
              "  [theme=dark] .colab-df-quickchart:hover {\n",
              "    background-color: #434B5C;\n",
              "    box-shadow: 0px 1px 3px 1px rgba(0, 0, 0, 0.15);\n",
              "    filter: drop-shadow(0px 1px 2px rgba(0, 0, 0, 0.3));\n",
              "    fill: #FFFFFF;\n",
              "  }\n",
              "</style>\n",
              "\n",
              "    <script>\n",
              "      async function quickchart(key) {\n",
              "        const containerElement = document.querySelector('#' + key);\n",
              "        const charts = await google.colab.kernel.invokeFunction(\n",
              "            'suggestCharts', [key], {});\n",
              "      }\n",
              "    </script>\n",
              "\n",
              "      <script>\n",
              "\n",
              "function displayQuickchartButton(domScope) {\n",
              "  let quickchartButtonEl =\n",
              "    domScope.querySelector('#df-69a852e9-86c1-4c62-8dc8-5def22af7833 button.colab-df-quickchart');\n",
              "  quickchartButtonEl.style.display =\n",
              "    google.colab.kernel.accessAllowed ? 'block' : 'none';\n",
              "}\n",
              "\n",
              "        displayQuickchartButton(document);\n",
              "      </script>\n",
              "      <style>\n",
              "    .colab-df-container {\n",
              "      display:flex;\n",
              "      flex-wrap:wrap;\n",
              "      gap: 12px;\n",
              "    }\n",
              "\n",
              "    .colab-df-convert {\n",
              "      background-color: #E8F0FE;\n",
              "      border: none;\n",
              "      border-radius: 50%;\n",
              "      cursor: pointer;\n",
              "      display: none;\n",
              "      fill: #1967D2;\n",
              "      height: 32px;\n",
              "      padding: 0 0 0 0;\n",
              "      width: 32px;\n",
              "    }\n",
              "\n",
              "    .colab-df-convert:hover {\n",
              "      background-color: #E2EBFA;\n",
              "      box-shadow: 0px 1px 2px rgba(60, 64, 67, 0.3), 0px 1px 3px 1px rgba(60, 64, 67, 0.15);\n",
              "      fill: #174EA6;\n",
              "    }\n",
              "\n",
              "    [theme=dark] .colab-df-convert {\n",
              "      background-color: #3B4455;\n",
              "      fill: #D2E3FC;\n",
              "    }\n",
              "\n",
              "    [theme=dark] .colab-df-convert:hover {\n",
              "      background-color: #434B5C;\n",
              "      box-shadow: 0px 1px 3px 1px rgba(0, 0, 0, 0.15);\n",
              "      filter: drop-shadow(0px 1px 2px rgba(0, 0, 0, 0.3));\n",
              "      fill: #FFFFFF;\n",
              "    }\n",
              "  </style>\n",
              "\n",
              "      <script>\n",
              "        const buttonEl =\n",
              "          document.querySelector('#df-2f1526a9-7a72-4823-a3ca-4167c6b9ee03 button.colab-df-convert');\n",
              "        buttonEl.style.display =\n",
              "          google.colab.kernel.accessAllowed ? 'block' : 'none';\n",
              "\n",
              "        async function convertToInteractive(key) {\n",
              "          const element = document.querySelector('#df-2f1526a9-7a72-4823-a3ca-4167c6b9ee03');\n",
              "          const dataTable =\n",
              "            await google.colab.kernel.invokeFunction('convertToInteractive',\n",
              "                                                     [key], {});\n",
              "          if (!dataTable) return;\n",
              "\n",
              "          const docLinkHtml = 'Like what you see? Visit the ' +\n",
              "            '<a target=\"_blank\" href=https://colab.research.google.com/notebooks/data_table.ipynb>data table notebook</a>'\n",
              "            + ' to learn more about interactive tables.';\n",
              "          element.innerHTML = '';\n",
              "          dataTable['output_type'] = 'display_data';\n",
              "          await google.colab.output.renderOutput(dataTable, element);\n",
              "          const docLink = document.createElement('div');\n",
              "          docLink.innerHTML = docLinkHtml;\n",
              "          element.appendChild(docLink);\n",
              "        }\n",
              "      </script>\n",
              "    </div>\n",
              "  </div>\n"
            ]
          },
          "metadata": {},
          "execution_count": 49
        }
      ],
      "source": [
        "# Para poder ver los primeros datos podemos usar el valor head() que nos muestra\n",
        "#por default las primeras 5 filas del archivo. Si quieremos visualizar más\n",
        "#podemos agregar dentro del parentesis el número de filas que queremos visualizar\n",
        "# Ej. head(10)\n",
        "\n",
        "food_price.head()"
      ]
    },
    {
      "cell_type": "code",
      "execution_count": null,
      "metadata": {
        "colab": {
          "base_uri": "https://localhost:8080/",
          "height": 206
        },
        "id": "AaF5cLXnVOXe",
        "outputId": "8d988fa4-0cad-4f82-a33d-2f7546be3a24"
      },
      "outputs": [
        {
          "output_type": "execute_result",
          "data": {
            "text/plain": [
              "     Country   Year   Month  Food Item  Unit of Measurement  Average Price   \\\n",
              "1195   Canada   2022       8   Potatoes                1 Kg            3.17   \n",
              "1196   Canada   2022       9   Potatoes                1 Kg            3.18   \n",
              "1197   Canada   2022      10   Potatoes                1 Kg            3.20   \n",
              "1198   Canada   2022      11   Potatoes                1 Kg            3.21   \n",
              "1199   Canada   2022      12   Potatoes                1 Kg            3.22   \n",
              "\n",
              "     Currency   Price in USD  Availability  Quality   \n",
              "1195       CAD          2.41              1     High  \n",
              "1196       CAD          2.42              1     High  \n",
              "1197       CAD          2.43              1     High  \n",
              "1198       CAD          2.44              1     High  \n",
              "1199       CAD          2.45              1     High  "
            ],
            "text/html": [
              "\n",
              "\n",
              "  <div id=\"df-b21397a9-3c57-40f8-86f0-2aa6c3ac2a0c\">\n",
              "    <div class=\"colab-df-container\">\n",
              "      <div>\n",
              "<style scoped>\n",
              "    .dataframe tbody tr th:only-of-type {\n",
              "        vertical-align: middle;\n",
              "    }\n",
              "\n",
              "    .dataframe tbody tr th {\n",
              "        vertical-align: top;\n",
              "    }\n",
              "\n",
              "    .dataframe thead th {\n",
              "        text-align: right;\n",
              "    }\n",
              "</style>\n",
              "<table border=\"1\" class=\"dataframe\">\n",
              "  <thead>\n",
              "    <tr style=\"text-align: right;\">\n",
              "      <th></th>\n",
              "      <th>Country</th>\n",
              "      <th>Year</th>\n",
              "      <th>Month</th>\n",
              "      <th>Food Item</th>\n",
              "      <th>Unit of Measurement</th>\n",
              "      <th>Average Price</th>\n",
              "      <th>Currency</th>\n",
              "      <th>Price in USD</th>\n",
              "      <th>Availability</th>\n",
              "      <th>Quality</th>\n",
              "    </tr>\n",
              "  </thead>\n",
              "  <tbody>\n",
              "    <tr>\n",
              "      <th>1195</th>\n",
              "      <td>Canada</td>\n",
              "      <td>2022</td>\n",
              "      <td>8</td>\n",
              "      <td>Potatoes</td>\n",
              "      <td>1 Kg</td>\n",
              "      <td>3.17</td>\n",
              "      <td>CAD</td>\n",
              "      <td>2.41</td>\n",
              "      <td>1</td>\n",
              "      <td>High</td>\n",
              "    </tr>\n",
              "    <tr>\n",
              "      <th>1196</th>\n",
              "      <td>Canada</td>\n",
              "      <td>2022</td>\n",
              "      <td>9</td>\n",
              "      <td>Potatoes</td>\n",
              "      <td>1 Kg</td>\n",
              "      <td>3.18</td>\n",
              "      <td>CAD</td>\n",
              "      <td>2.42</td>\n",
              "      <td>1</td>\n",
              "      <td>High</td>\n",
              "    </tr>\n",
              "    <tr>\n",
              "      <th>1197</th>\n",
              "      <td>Canada</td>\n",
              "      <td>2022</td>\n",
              "      <td>10</td>\n",
              "      <td>Potatoes</td>\n",
              "      <td>1 Kg</td>\n",
              "      <td>3.20</td>\n",
              "      <td>CAD</td>\n",
              "      <td>2.43</td>\n",
              "      <td>1</td>\n",
              "      <td>High</td>\n",
              "    </tr>\n",
              "    <tr>\n",
              "      <th>1198</th>\n",
              "      <td>Canada</td>\n",
              "      <td>2022</td>\n",
              "      <td>11</td>\n",
              "      <td>Potatoes</td>\n",
              "      <td>1 Kg</td>\n",
              "      <td>3.21</td>\n",
              "      <td>CAD</td>\n",
              "      <td>2.44</td>\n",
              "      <td>1</td>\n",
              "      <td>High</td>\n",
              "    </tr>\n",
              "    <tr>\n",
              "      <th>1199</th>\n",
              "      <td>Canada</td>\n",
              "      <td>2022</td>\n",
              "      <td>12</td>\n",
              "      <td>Potatoes</td>\n",
              "      <td>1 Kg</td>\n",
              "      <td>3.22</td>\n",
              "      <td>CAD</td>\n",
              "      <td>2.45</td>\n",
              "      <td>1</td>\n",
              "      <td>High</td>\n",
              "    </tr>\n",
              "  </tbody>\n",
              "</table>\n",
              "</div>\n",
              "      <button class=\"colab-df-convert\" onclick=\"convertToInteractive('df-b21397a9-3c57-40f8-86f0-2aa6c3ac2a0c')\"\n",
              "              title=\"Convert this dataframe to an interactive table.\"\n",
              "              style=\"display:none;\">\n",
              "\n",
              "  <svg xmlns=\"http://www.w3.org/2000/svg\" height=\"24px\"viewBox=\"0 0 24 24\"\n",
              "       width=\"24px\">\n",
              "    <path d=\"M0 0h24v24H0V0z\" fill=\"none\"/>\n",
              "    <path d=\"M18.56 5.44l.94 2.06.94-2.06 2.06-.94-2.06-.94-.94-2.06-.94 2.06-2.06.94zm-11 1L8.5 8.5l.94-2.06 2.06-.94-2.06-.94L8.5 2.5l-.94 2.06-2.06.94zm10 10l.94 2.06.94-2.06 2.06-.94-2.06-.94-.94-2.06-.94 2.06-2.06.94z\"/><path d=\"M17.41 7.96l-1.37-1.37c-.4-.4-.92-.59-1.43-.59-.52 0-1.04.2-1.43.59L10.3 9.45l-7.72 7.72c-.78.78-.78 2.05 0 2.83L4 21.41c.39.39.9.59 1.41.59.51 0 1.02-.2 1.41-.59l7.78-7.78 2.81-2.81c.8-.78.8-2.07 0-2.86zM5.41 20L4 18.59l7.72-7.72 1.47 1.35L5.41 20z\"/>\n",
              "  </svg>\n",
              "      </button>\n",
              "\n",
              "\n",
              "\n",
              "    <div id=\"df-ec312058-57e6-4607-952c-45c89dee7724\">\n",
              "      <button class=\"colab-df-quickchart\" onclick=\"quickchart('df-ec312058-57e6-4607-952c-45c89dee7724')\"\n",
              "              title=\"Suggest charts.\"\n",
              "              style=\"display:none;\">\n",
              "\n",
              "<svg xmlns=\"http://www.w3.org/2000/svg\" height=\"24px\"viewBox=\"0 0 24 24\"\n",
              "     width=\"24px\">\n",
              "    <g>\n",
              "        <path d=\"M19 3H5c-1.1 0-2 .9-2 2v14c0 1.1.9 2 2 2h14c1.1 0 2-.9 2-2V5c0-1.1-.9-2-2-2zM9 17H7v-7h2v7zm4 0h-2V7h2v10zm4 0h-2v-4h2v4z\"/>\n",
              "    </g>\n",
              "</svg>\n",
              "      </button>\n",
              "    </div>\n",
              "\n",
              "<style>\n",
              "  .colab-df-quickchart {\n",
              "    background-color: #E8F0FE;\n",
              "    border: none;\n",
              "    border-radius: 50%;\n",
              "    cursor: pointer;\n",
              "    display: none;\n",
              "    fill: #1967D2;\n",
              "    height: 32px;\n",
              "    padding: 0 0 0 0;\n",
              "    width: 32px;\n",
              "  }\n",
              "\n",
              "  .colab-df-quickchart:hover {\n",
              "    background-color: #E2EBFA;\n",
              "    box-shadow: 0px 1px 2px rgba(60, 64, 67, 0.3), 0px 1px 3px 1px rgba(60, 64, 67, 0.15);\n",
              "    fill: #174EA6;\n",
              "  }\n",
              "\n",
              "  [theme=dark] .colab-df-quickchart {\n",
              "    background-color: #3B4455;\n",
              "    fill: #D2E3FC;\n",
              "  }\n",
              "\n",
              "  [theme=dark] .colab-df-quickchart:hover {\n",
              "    background-color: #434B5C;\n",
              "    box-shadow: 0px 1px 3px 1px rgba(0, 0, 0, 0.15);\n",
              "    filter: drop-shadow(0px 1px 2px rgba(0, 0, 0, 0.3));\n",
              "    fill: #FFFFFF;\n",
              "  }\n",
              "</style>\n",
              "\n",
              "    <script>\n",
              "      async function quickchart(key) {\n",
              "        const containerElement = document.querySelector('#' + key);\n",
              "        const charts = await google.colab.kernel.invokeFunction(\n",
              "            'suggestCharts', [key], {});\n",
              "      }\n",
              "    </script>\n",
              "\n",
              "      <script>\n",
              "\n",
              "function displayQuickchartButton(domScope) {\n",
              "  let quickchartButtonEl =\n",
              "    domScope.querySelector('#df-ec312058-57e6-4607-952c-45c89dee7724 button.colab-df-quickchart');\n",
              "  quickchartButtonEl.style.display =\n",
              "    google.colab.kernel.accessAllowed ? 'block' : 'none';\n",
              "}\n",
              "\n",
              "        displayQuickchartButton(document);\n",
              "      </script>\n",
              "      <style>\n",
              "    .colab-df-container {\n",
              "      display:flex;\n",
              "      flex-wrap:wrap;\n",
              "      gap: 12px;\n",
              "    }\n",
              "\n",
              "    .colab-df-convert {\n",
              "      background-color: #E8F0FE;\n",
              "      border: none;\n",
              "      border-radius: 50%;\n",
              "      cursor: pointer;\n",
              "      display: none;\n",
              "      fill: #1967D2;\n",
              "      height: 32px;\n",
              "      padding: 0 0 0 0;\n",
              "      width: 32px;\n",
              "    }\n",
              "\n",
              "    .colab-df-convert:hover {\n",
              "      background-color: #E2EBFA;\n",
              "      box-shadow: 0px 1px 2px rgba(60, 64, 67, 0.3), 0px 1px 3px 1px rgba(60, 64, 67, 0.15);\n",
              "      fill: #174EA6;\n",
              "    }\n",
              "\n",
              "    [theme=dark] .colab-df-convert {\n",
              "      background-color: #3B4455;\n",
              "      fill: #D2E3FC;\n",
              "    }\n",
              "\n",
              "    [theme=dark] .colab-df-convert:hover {\n",
              "      background-color: #434B5C;\n",
              "      box-shadow: 0px 1px 3px 1px rgba(0, 0, 0, 0.15);\n",
              "      filter: drop-shadow(0px 1px 2px rgba(0, 0, 0, 0.3));\n",
              "      fill: #FFFFFF;\n",
              "    }\n",
              "  </style>\n",
              "\n",
              "      <script>\n",
              "        const buttonEl =\n",
              "          document.querySelector('#df-b21397a9-3c57-40f8-86f0-2aa6c3ac2a0c button.colab-df-convert');\n",
              "        buttonEl.style.display =\n",
              "          google.colab.kernel.accessAllowed ? 'block' : 'none';\n",
              "\n",
              "        async function convertToInteractive(key) {\n",
              "          const element = document.querySelector('#df-b21397a9-3c57-40f8-86f0-2aa6c3ac2a0c');\n",
              "          const dataTable =\n",
              "            await google.colab.kernel.invokeFunction('convertToInteractive',\n",
              "                                                     [key], {});\n",
              "          if (!dataTable) return;\n",
              "\n",
              "          const docLinkHtml = 'Like what you see? Visit the ' +\n",
              "            '<a target=\"_blank\" href=https://colab.research.google.com/notebooks/data_table.ipynb>data table notebook</a>'\n",
              "            + ' to learn more about interactive tables.';\n",
              "          element.innerHTML = '';\n",
              "          dataTable['output_type'] = 'display_data';\n",
              "          await google.colab.output.renderOutput(dataTable, element);\n",
              "          const docLink = document.createElement('div');\n",
              "          docLink.innerHTML = docLinkHtml;\n",
              "          element.appendChild(docLink);\n",
              "        }\n",
              "      </script>\n",
              "    </div>\n",
              "  </div>\n"
            ]
          },
          "metadata": {},
          "execution_count": 50
        }
      ],
      "source": [
        "food_price.tail()"
      ]
    },
    {
      "cell_type": "code",
      "source": [
        "from google.colab import drive\n",
        "drive.mount('/content/drive')"
      ],
      "metadata": {
        "colab": {
          "base_uri": "https://localhost:8080/"
        },
        "id": "Djx4KaVsGScL",
        "outputId": "e7e267f3-840f-4680-a8fe-089d0f5c6449"
      },
      "execution_count": null,
      "outputs": [
        {
          "output_type": "stream",
          "name": "stdout",
          "text": [
            "Drive already mounted at /content/drive; to attempt to forcibly remount, call drive.mount(\"/content/drive\", force_remount=True).\n"
          ]
        }
      ]
    },
    {
      "cell_type": "markdown",
      "metadata": {
        "id": "BJ-bf1AgVb9-"
      },
      "source": [
        "## Paso 2: Revisar que tantos valores nulos tenemos.\n",
        "\n",
        "A pesar de solo ser un pequeño extracto de toda la base de datos, vemos que tenemos varios datos como nulos. El siguiente paso es verificar que tantos datos nulos tenemos por columna."
      ]
    },
    {
      "cell_type": "code",
      "execution_count": null,
      "metadata": {
        "colab": {
          "base_uri": "https://localhost:8080/"
        },
        "id": "qoy7jo8MV0Lb",
        "outputId": "13f5584a-3fd8-4103-879b-c197fddba158"
      },
      "outputs": [
        {
          "output_type": "execute_result",
          "data": {
            "text/plain": [
              "Country                0\n",
              "Year                   0\n",
              "Month                  0\n",
              "Food Item              0\n",
              "Unit of Measurement    0\n",
              "Average Price          0\n",
              "Currency               0\n",
              "Price in USD           0\n",
              "Availability           0\n",
              "Quality                0\n",
              "dtype: int64"
            ]
          },
          "metadata": {},
          "execution_count": 52
        }
      ],
      "source": [
        "# Esta linea nos dice el numero de datos nulos por columna\n",
        "valores_nulos = food_price.isnull().sum()\n",
        "\n",
        "#Esta nos muestra los valores nulos de las primeras 10 columnas.\n",
        "#valores_nulos\n",
        "valores_nulos[0:10]"
      ]
    },
    {
      "cell_type": "code",
      "execution_count": null,
      "metadata": {
        "colab": {
          "base_uri": "https://localhost:8080/"
        },
        "id": "-h5K9ebIWo7P",
        "outputId": "41a90748-b51e-4529-961f-06d56fdf0252"
      },
      "outputs": [
        {
          "output_type": "execute_result",
          "data": {
            "text/plain": [
              "(1200, 10)"
            ]
          },
          "metadata": {},
          "execution_count": 53
        }
      ],
      "source": [
        "#Para verificar cuantas filas y columnas tiene nuestra base de datos.\n",
        "food_price.shape"
      ]
    },
    {
      "cell_type": "markdown",
      "metadata": {
        "id": "FMFz7iTWXcZV"
      },
      "source": [
        "Es muy util saber cuantos valores nulos tenemos por columna, pero no sabremos la magnitud del trabajo que tenemos que realizar con esta base de datos si no sabemos el porcentaje de valores nulos que tenemos que revisar.\n",
        "\n",
        "Para esto, tenemos la siguiente linea de código en la que revisamos el porcentaje de datos nulos.\n"
      ]
    },
    {
      "cell_type": "code",
      "execution_count": null,
      "metadata": {
        "colab": {
          "base_uri": "https://localhost:8080/"
        },
        "id": "cdszr4nKXqoq",
        "outputId": "3624d46b-9cb8-4b93-8ccc-49fe94e33237"
      },
      "outputs": [
        {
          "output_type": "stream",
          "name": "stdout",
          "text": [
            "0.0\n"
          ]
        }
      ],
      "source": [
        "#Revisamos primero cuantos valores nulos en total tenemos\n",
        "total_celdas = np.product(food_price.shape)\n",
        "total_nulos = valores_nulos.sum()\n",
        "\n",
        "#Sacamos el porcentaje de valores perdidos.\n",
        "total_nulos = (total_nulos/total_celdas) * 100\n",
        "print(total_nulos)"
      ]
    },
    {
      "cell_type": "markdown",
      "metadata": {
        "id": "7YwNrWi7YrMX"
      },
      "source": [
        "Con este resultado podemos ver que casi un cuarto de los datos de este dataset esta vacio o es nulo.\n",
        "\n",
        "\n",
        "## Paso 3: Averiguar porque estan esos datos faltantes.\n",
        "\n",
        "Antes de empezar con cualquier parte de codificación, una parte importante de la ciencia de datos es comprender los datos lo más posible de manera visual. A esto nos referimos a que tenemos que revisar detalladamente nuestros datos y hacernos preguntas primero para poder llegar a conclusiones de porque los datos pueden estar faltantes.\n",
        "\n",
        "Una de las preguntas más importantes que podemos hacernos en este momento es:\n",
        "\n",
        "- ¿Los valores faltan porque no existen, o porque no fueron grabados correctamente?\n",
        "\n",
        "Si el valor faltante esta ahí porque no existe (por ejemplo, cuando se pide llenar un formulario, y una de las preguntas no especifica que hacer cuando esa pregunta no aplica para ti, lo más probable es que dejes esa pregunta vacia). Con este tipo de valores, es mejor que en lugar de dejarlos vacios los rellenemos con el valor NaN.\n",
        "\n",
        "Por otro lado, si el valor es nulo por error cuando se realizo la base de datos, entonces será necesario que lo podamos rellenar con un valor calculado, basandonos en los valores que tienen las demás filas en esa columna.\n",
        "\n",
        "A este proceso se le llama imputación. Siguiendo el ejemplo de nuestra base de datos, tomaremos la columna llamada \"TimeSecs\"."
      ]
    },
    {
      "cell_type": "code",
      "execution_count": null,
      "metadata": {
        "colab": {
          "base_uri": "https://localhost:8080/"
        },
        "id": "J52SnIn5gvOL",
        "outputId": "27eec904-8b80-49b2-c2e9-dff8249c2e36"
      },
      "outputs": [
        {
          "output_type": "execute_result",
          "data": {
            "text/plain": [
              "Country                0\n",
              "Year                   0\n",
              "Month                  0\n",
              "Food Item              0\n",
              "Unit of Measurement    0\n",
              "Average Price          0\n",
              "Currency               0\n",
              "Price in USD           0\n",
              "Availability           0\n",
              "Quality                0\n",
              "dtype: int64"
            ]
          },
          "metadata": {},
          "execution_count": 55
        }
      ],
      "source": [
        "# Volvemos a imprimir los valores faltantes de las primeras 10 columnas\n",
        "valores_nulos[0:10]"
      ]
    },
    {
      "cell_type": "markdown",
      "metadata": {
        "id": "mz7cRwLuhhIQ"
      },
      "source": [
        "Si revisamos la documentación de la base de datos en la página de Kaggle de donde la descargamos (https://www.kaggle.com/maxhorowitz/nflplaybyplay2009to2016/version/6) podemos ver que la columna que elegimos de \"TimeSecs\" tiene información acerca de el número de segundos que quedan en el juego cuando la jugada se realizó.\n",
        "\n",
        "Esto puede significar que los valores estan como nulos o vacios porque el encargado de rellenar este valor olvido hacerlo, en lugar de pensar que ese valor no existe. En este caso si tiene sentido que apliquemos imputación de datos para rellenar lo que nos falta.\n",
        "\n",
        "Revisando más la documentación nos encontramos con información de la columna \"PenalizedTeam\" en la cual también se tienen muchos valores nulos, pero en este caso la explicación es que aqui no siempre se tienen que rellenar los valores, ya que puede que no se realizara ninguna penalización en esa jugada. Aquí tiene más sentido dejar los valores nulos y las celdas vacias rellenarlas con NaN.\n",
        "\n",
        "> **Nota:** Es muy importante leer bien la documentación que viene con la base de datos con la que estemos trabajando para darnos cuenta cuales son los valores que nosotros podemos modificar, y cuales estan asi por una razón.\n",
        "\n",
        "\n",
        "\n",
        "\n"
      ]
    },
    {
      "cell_type": "markdown",
      "metadata": {
        "id": "AFWXlwanjUy8"
      },
      "source": [
        "## Paso 4: Eliminar los valores nulos.\n",
        "\n",
        "Es importante también establecer desde un inicio cuales son los datos que nos interesan. Antes de realizar una imputación (que puede resultar un trabajo pesado o que consuma mucho tiempo) revisa cuales son los objetivos que tienes en mente a completar cuando usas tu base de datos.\n",
        "\n",
        "Puede que las columnas que contienen la mayor cantidad de datos nulos no sean necesarias para seguir con tu investigación, o incluso puedes establecer que si el porcentaje de valores perdidos es mucho mayor a la cantidad de datos con los que puedes hacer imputación, hacer esto puede causar que tus datos esten sesgados, y generar un modelo que tenga malos resultados.\n",
        "\n",
        "En caso de que solo quieras eliminar las filas o columnas que tienen valores nulos, podemos realizar lo siguiente:"
      ]
    },
    {
      "cell_type": "code",
      "execution_count": null,
      "metadata": {
        "colab": {
          "base_uri": "https://localhost:8080/",
          "height": 423
        },
        "id": "rUoWAWoPkY-G",
        "outputId": "3c17562a-b829-48ba-de4d-ed92ad2c03f7"
      },
      "outputs": [
        {
          "output_type": "execute_result",
          "data": {
            "text/plain": [
              "       Country   Year   Month  Food Item  Unit of Measurement  Average Price   \\\n",
              "0     Australia   2018       1      Bread                Loaf            2.20   \n",
              "1     Australia   2018       2      Bread                Loaf            2.20   \n",
              "2     Australia   2018       3      Bread                Loaf            2.20   \n",
              "3     Australia   2018       4      Bread                Loaf            2.21   \n",
              "4     Australia   2018       5      Bread                Loaf            2.21   \n",
              "...         ...    ...     ...        ...                 ...             ...   \n",
              "1195     Canada   2022       8   Potatoes                1 Kg            3.17   \n",
              "1196     Canada   2022       9   Potatoes                1 Kg            3.18   \n",
              "1197     Canada   2022      10   Potatoes                1 Kg            3.20   \n",
              "1198     Canada   2022      11   Potatoes                1 Kg            3.21   \n",
              "1199     Canada   2022      12   Potatoes                1 Kg            3.22   \n",
              "\n",
              "     Currency   Price in USD  Availability  Quality   \n",
              "0          AUD          1.47              1     High  \n",
              "1          AUD          1.48              1     High  \n",
              "2          AUD          1.48              1     High  \n",
              "3          AUD          1.48              1     High  \n",
              "4          AUD          1.48              1     High  \n",
              "...        ...           ...            ...      ...  \n",
              "1195       CAD          2.41              1     High  \n",
              "1196       CAD          2.42              1     High  \n",
              "1197       CAD          2.43              1     High  \n",
              "1198       CAD          2.44              1     High  \n",
              "1199       CAD          2.45              1     High  \n",
              "\n",
              "[1200 rows x 10 columns]"
            ],
            "text/html": [
              "\n",
              "\n",
              "  <div id=\"df-c1008438-1918-4c5b-8e3e-c8b64d442f86\">\n",
              "    <div class=\"colab-df-container\">\n",
              "      <div>\n",
              "<style scoped>\n",
              "    .dataframe tbody tr th:only-of-type {\n",
              "        vertical-align: middle;\n",
              "    }\n",
              "\n",
              "    .dataframe tbody tr th {\n",
              "        vertical-align: top;\n",
              "    }\n",
              "\n",
              "    .dataframe thead th {\n",
              "        text-align: right;\n",
              "    }\n",
              "</style>\n",
              "<table border=\"1\" class=\"dataframe\">\n",
              "  <thead>\n",
              "    <tr style=\"text-align: right;\">\n",
              "      <th></th>\n",
              "      <th>Country</th>\n",
              "      <th>Year</th>\n",
              "      <th>Month</th>\n",
              "      <th>Food Item</th>\n",
              "      <th>Unit of Measurement</th>\n",
              "      <th>Average Price</th>\n",
              "      <th>Currency</th>\n",
              "      <th>Price in USD</th>\n",
              "      <th>Availability</th>\n",
              "      <th>Quality</th>\n",
              "    </tr>\n",
              "  </thead>\n",
              "  <tbody>\n",
              "    <tr>\n",
              "      <th>0</th>\n",
              "      <td>Australia</td>\n",
              "      <td>2018</td>\n",
              "      <td>1</td>\n",
              "      <td>Bread</td>\n",
              "      <td>Loaf</td>\n",
              "      <td>2.20</td>\n",
              "      <td>AUD</td>\n",
              "      <td>1.47</td>\n",
              "      <td>1</td>\n",
              "      <td>High</td>\n",
              "    </tr>\n",
              "    <tr>\n",
              "      <th>1</th>\n",
              "      <td>Australia</td>\n",
              "      <td>2018</td>\n",
              "      <td>2</td>\n",
              "      <td>Bread</td>\n",
              "      <td>Loaf</td>\n",
              "      <td>2.20</td>\n",
              "      <td>AUD</td>\n",
              "      <td>1.48</td>\n",
              "      <td>1</td>\n",
              "      <td>High</td>\n",
              "    </tr>\n",
              "    <tr>\n",
              "      <th>2</th>\n",
              "      <td>Australia</td>\n",
              "      <td>2018</td>\n",
              "      <td>3</td>\n",
              "      <td>Bread</td>\n",
              "      <td>Loaf</td>\n",
              "      <td>2.20</td>\n",
              "      <td>AUD</td>\n",
              "      <td>1.48</td>\n",
              "      <td>1</td>\n",
              "      <td>High</td>\n",
              "    </tr>\n",
              "    <tr>\n",
              "      <th>3</th>\n",
              "      <td>Australia</td>\n",
              "      <td>2018</td>\n",
              "      <td>4</td>\n",
              "      <td>Bread</td>\n",
              "      <td>Loaf</td>\n",
              "      <td>2.21</td>\n",
              "      <td>AUD</td>\n",
              "      <td>1.48</td>\n",
              "      <td>1</td>\n",
              "      <td>High</td>\n",
              "    </tr>\n",
              "    <tr>\n",
              "      <th>4</th>\n",
              "      <td>Australia</td>\n",
              "      <td>2018</td>\n",
              "      <td>5</td>\n",
              "      <td>Bread</td>\n",
              "      <td>Loaf</td>\n",
              "      <td>2.21</td>\n",
              "      <td>AUD</td>\n",
              "      <td>1.48</td>\n",
              "      <td>1</td>\n",
              "      <td>High</td>\n",
              "    </tr>\n",
              "    <tr>\n",
              "      <th>...</th>\n",
              "      <td>...</td>\n",
              "      <td>...</td>\n",
              "      <td>...</td>\n",
              "      <td>...</td>\n",
              "      <td>...</td>\n",
              "      <td>...</td>\n",
              "      <td>...</td>\n",
              "      <td>...</td>\n",
              "      <td>...</td>\n",
              "      <td>...</td>\n",
              "    </tr>\n",
              "    <tr>\n",
              "      <th>1195</th>\n",
              "      <td>Canada</td>\n",
              "      <td>2022</td>\n",
              "      <td>8</td>\n",
              "      <td>Potatoes</td>\n",
              "      <td>1 Kg</td>\n",
              "      <td>3.17</td>\n",
              "      <td>CAD</td>\n",
              "      <td>2.41</td>\n",
              "      <td>1</td>\n",
              "      <td>High</td>\n",
              "    </tr>\n",
              "    <tr>\n",
              "      <th>1196</th>\n",
              "      <td>Canada</td>\n",
              "      <td>2022</td>\n",
              "      <td>9</td>\n",
              "      <td>Potatoes</td>\n",
              "      <td>1 Kg</td>\n",
              "      <td>3.18</td>\n",
              "      <td>CAD</td>\n",
              "      <td>2.42</td>\n",
              "      <td>1</td>\n",
              "      <td>High</td>\n",
              "    </tr>\n",
              "    <tr>\n",
              "      <th>1197</th>\n",
              "      <td>Canada</td>\n",
              "      <td>2022</td>\n",
              "      <td>10</td>\n",
              "      <td>Potatoes</td>\n",
              "      <td>1 Kg</td>\n",
              "      <td>3.20</td>\n",
              "      <td>CAD</td>\n",
              "      <td>2.43</td>\n",
              "      <td>1</td>\n",
              "      <td>High</td>\n",
              "    </tr>\n",
              "    <tr>\n",
              "      <th>1198</th>\n",
              "      <td>Canada</td>\n",
              "      <td>2022</td>\n",
              "      <td>11</td>\n",
              "      <td>Potatoes</td>\n",
              "      <td>1 Kg</td>\n",
              "      <td>3.21</td>\n",
              "      <td>CAD</td>\n",
              "      <td>2.44</td>\n",
              "      <td>1</td>\n",
              "      <td>High</td>\n",
              "    </tr>\n",
              "    <tr>\n",
              "      <th>1199</th>\n",
              "      <td>Canada</td>\n",
              "      <td>2022</td>\n",
              "      <td>12</td>\n",
              "      <td>Potatoes</td>\n",
              "      <td>1 Kg</td>\n",
              "      <td>3.22</td>\n",
              "      <td>CAD</td>\n",
              "      <td>2.45</td>\n",
              "      <td>1</td>\n",
              "      <td>High</td>\n",
              "    </tr>\n",
              "  </tbody>\n",
              "</table>\n",
              "<p>1200 rows × 10 columns</p>\n",
              "</div>\n",
              "      <button class=\"colab-df-convert\" onclick=\"convertToInteractive('df-c1008438-1918-4c5b-8e3e-c8b64d442f86')\"\n",
              "              title=\"Convert this dataframe to an interactive table.\"\n",
              "              style=\"display:none;\">\n",
              "\n",
              "  <svg xmlns=\"http://www.w3.org/2000/svg\" height=\"24px\"viewBox=\"0 0 24 24\"\n",
              "       width=\"24px\">\n",
              "    <path d=\"M0 0h24v24H0V0z\" fill=\"none\"/>\n",
              "    <path d=\"M18.56 5.44l.94 2.06.94-2.06 2.06-.94-2.06-.94-.94-2.06-.94 2.06-2.06.94zm-11 1L8.5 8.5l.94-2.06 2.06-.94-2.06-.94L8.5 2.5l-.94 2.06-2.06.94zm10 10l.94 2.06.94-2.06 2.06-.94-2.06-.94-.94-2.06-.94 2.06-2.06.94z\"/><path d=\"M17.41 7.96l-1.37-1.37c-.4-.4-.92-.59-1.43-.59-.52 0-1.04.2-1.43.59L10.3 9.45l-7.72 7.72c-.78.78-.78 2.05 0 2.83L4 21.41c.39.39.9.59 1.41.59.51 0 1.02-.2 1.41-.59l7.78-7.78 2.81-2.81c.8-.78.8-2.07 0-2.86zM5.41 20L4 18.59l7.72-7.72 1.47 1.35L5.41 20z\"/>\n",
              "  </svg>\n",
              "      </button>\n",
              "\n",
              "\n",
              "\n",
              "    <div id=\"df-99cd62c3-891e-4c76-85be-8af9bd718151\">\n",
              "      <button class=\"colab-df-quickchart\" onclick=\"quickchart('df-99cd62c3-891e-4c76-85be-8af9bd718151')\"\n",
              "              title=\"Suggest charts.\"\n",
              "              style=\"display:none;\">\n",
              "\n",
              "<svg xmlns=\"http://www.w3.org/2000/svg\" height=\"24px\"viewBox=\"0 0 24 24\"\n",
              "     width=\"24px\">\n",
              "    <g>\n",
              "        <path d=\"M19 3H5c-1.1 0-2 .9-2 2v14c0 1.1.9 2 2 2h14c1.1 0 2-.9 2-2V5c0-1.1-.9-2-2-2zM9 17H7v-7h2v7zm4 0h-2V7h2v10zm4 0h-2v-4h2v4z\"/>\n",
              "    </g>\n",
              "</svg>\n",
              "      </button>\n",
              "    </div>\n",
              "\n",
              "<style>\n",
              "  .colab-df-quickchart {\n",
              "    background-color: #E8F0FE;\n",
              "    border: none;\n",
              "    border-radius: 50%;\n",
              "    cursor: pointer;\n",
              "    display: none;\n",
              "    fill: #1967D2;\n",
              "    height: 32px;\n",
              "    padding: 0 0 0 0;\n",
              "    width: 32px;\n",
              "  }\n",
              "\n",
              "  .colab-df-quickchart:hover {\n",
              "    background-color: #E2EBFA;\n",
              "    box-shadow: 0px 1px 2px rgba(60, 64, 67, 0.3), 0px 1px 3px 1px rgba(60, 64, 67, 0.15);\n",
              "    fill: #174EA6;\n",
              "  }\n",
              "\n",
              "  [theme=dark] .colab-df-quickchart {\n",
              "    background-color: #3B4455;\n",
              "    fill: #D2E3FC;\n",
              "  }\n",
              "\n",
              "  [theme=dark] .colab-df-quickchart:hover {\n",
              "    background-color: #434B5C;\n",
              "    box-shadow: 0px 1px 3px 1px rgba(0, 0, 0, 0.15);\n",
              "    filter: drop-shadow(0px 1px 2px rgba(0, 0, 0, 0.3));\n",
              "    fill: #FFFFFF;\n",
              "  }\n",
              "</style>\n",
              "\n",
              "    <script>\n",
              "      async function quickchart(key) {\n",
              "        const containerElement = document.querySelector('#' + key);\n",
              "        const charts = await google.colab.kernel.invokeFunction(\n",
              "            'suggestCharts', [key], {});\n",
              "      }\n",
              "    </script>\n",
              "\n",
              "      <script>\n",
              "\n",
              "function displayQuickchartButton(domScope) {\n",
              "  let quickchartButtonEl =\n",
              "    domScope.querySelector('#df-99cd62c3-891e-4c76-85be-8af9bd718151 button.colab-df-quickchart');\n",
              "  quickchartButtonEl.style.display =\n",
              "    google.colab.kernel.accessAllowed ? 'block' : 'none';\n",
              "}\n",
              "\n",
              "        displayQuickchartButton(document);\n",
              "      </script>\n",
              "      <style>\n",
              "    .colab-df-container {\n",
              "      display:flex;\n",
              "      flex-wrap:wrap;\n",
              "      gap: 12px;\n",
              "    }\n",
              "\n",
              "    .colab-df-convert {\n",
              "      background-color: #E8F0FE;\n",
              "      border: none;\n",
              "      border-radius: 50%;\n",
              "      cursor: pointer;\n",
              "      display: none;\n",
              "      fill: #1967D2;\n",
              "      height: 32px;\n",
              "      padding: 0 0 0 0;\n",
              "      width: 32px;\n",
              "    }\n",
              "\n",
              "    .colab-df-convert:hover {\n",
              "      background-color: #E2EBFA;\n",
              "      box-shadow: 0px 1px 2px rgba(60, 64, 67, 0.3), 0px 1px 3px 1px rgba(60, 64, 67, 0.15);\n",
              "      fill: #174EA6;\n",
              "    }\n",
              "\n",
              "    [theme=dark] .colab-df-convert {\n",
              "      background-color: #3B4455;\n",
              "      fill: #D2E3FC;\n",
              "    }\n",
              "\n",
              "    [theme=dark] .colab-df-convert:hover {\n",
              "      background-color: #434B5C;\n",
              "      box-shadow: 0px 1px 3px 1px rgba(0, 0, 0, 0.15);\n",
              "      filter: drop-shadow(0px 1px 2px rgba(0, 0, 0, 0.3));\n",
              "      fill: #FFFFFF;\n",
              "    }\n",
              "  </style>\n",
              "\n",
              "      <script>\n",
              "        const buttonEl =\n",
              "          document.querySelector('#df-c1008438-1918-4c5b-8e3e-c8b64d442f86 button.colab-df-convert');\n",
              "        buttonEl.style.display =\n",
              "          google.colab.kernel.accessAllowed ? 'block' : 'none';\n",
              "\n",
              "        async function convertToInteractive(key) {\n",
              "          const element = document.querySelector('#df-c1008438-1918-4c5b-8e3e-c8b64d442f86');\n",
              "          const dataTable =\n",
              "            await google.colab.kernel.invokeFunction('convertToInteractive',\n",
              "                                                     [key], {});\n",
              "          if (!dataTable) return;\n",
              "\n",
              "          const docLinkHtml = 'Like what you see? Visit the ' +\n",
              "            '<a target=\"_blank\" href=https://colab.research.google.com/notebooks/data_table.ipynb>data table notebook</a>'\n",
              "            + ' to learn more about interactive tables.';\n",
              "          element.innerHTML = '';\n",
              "          dataTable['output_type'] = 'display_data';\n",
              "          await google.colab.output.renderOutput(dataTable, element);\n",
              "          const docLink = document.createElement('div');\n",
              "          docLink.innerHTML = docLinkHtml;\n",
              "          element.appendChild(docLink);\n",
              "        }\n",
              "      </script>\n",
              "    </div>\n",
              "  </div>\n"
            ]
          },
          "metadata": {},
          "execution_count": 60
        }
      ],
      "source": [
        "#Elimina todas las filas que contengan valores nulos\n",
        "food_price.dropna()\n"
      ]
    },
    {
      "cell_type": "markdown",
      "metadata": {
        "id": "SgE0Nyoik-PY"
      },
      "source": [
        "Realizar el código de arriba nos genera una tabla vacia. Esto es porque cada fila dentro de nuestra base de datos tiene al menos una celda con valor nulo. Podemos intentar mejor eliminar las columnas que tengan al menos un valor nulo."
      ]
    },
    {
      "cell_type": "code",
      "execution_count": null,
      "metadata": {
        "colab": {
          "base_uri": "https://localhost:8080/",
          "height": 206
        },
        "id": "Rc79WHOplY2u",
        "outputId": "ea5e9495-ebe2-4b2e-a9e6-4500956b30f5"
      },
      "outputs": [
        {
          "output_type": "execute_result",
          "data": {
            "text/plain": [
              "    Country   Year   Month  Food Item  Unit of Measurement  Average Price   \\\n",
              "0  Australia   2018       1      Bread                Loaf            2.20   \n",
              "1  Australia   2018       2      Bread                Loaf            2.20   \n",
              "2  Australia   2018       3      Bread                Loaf            2.20   \n",
              "3  Australia   2018       4      Bread                Loaf            2.21   \n",
              "4  Australia   2018       5      Bread                Loaf            2.21   \n",
              "\n",
              "  Currency   Price in USD  Availability  Quality   \n",
              "0       AUD          1.47              1     High  \n",
              "1       AUD          1.48              1     High  \n",
              "2       AUD          1.48              1     High  \n",
              "3       AUD          1.48              1     High  \n",
              "4       AUD          1.48              1     High  "
            ],
            "text/html": [
              "\n",
              "\n",
              "  <div id=\"df-8afa478b-b70f-4ef6-8472-8095b98b8e20\">\n",
              "    <div class=\"colab-df-container\">\n",
              "      <div>\n",
              "<style scoped>\n",
              "    .dataframe tbody tr th:only-of-type {\n",
              "        vertical-align: middle;\n",
              "    }\n",
              "\n",
              "    .dataframe tbody tr th {\n",
              "        vertical-align: top;\n",
              "    }\n",
              "\n",
              "    .dataframe thead th {\n",
              "        text-align: right;\n",
              "    }\n",
              "</style>\n",
              "<table border=\"1\" class=\"dataframe\">\n",
              "  <thead>\n",
              "    <tr style=\"text-align: right;\">\n",
              "      <th></th>\n",
              "      <th>Country</th>\n",
              "      <th>Year</th>\n",
              "      <th>Month</th>\n",
              "      <th>Food Item</th>\n",
              "      <th>Unit of Measurement</th>\n",
              "      <th>Average Price</th>\n",
              "      <th>Currency</th>\n",
              "      <th>Price in USD</th>\n",
              "      <th>Availability</th>\n",
              "      <th>Quality</th>\n",
              "    </tr>\n",
              "  </thead>\n",
              "  <tbody>\n",
              "    <tr>\n",
              "      <th>0</th>\n",
              "      <td>Australia</td>\n",
              "      <td>2018</td>\n",
              "      <td>1</td>\n",
              "      <td>Bread</td>\n",
              "      <td>Loaf</td>\n",
              "      <td>2.20</td>\n",
              "      <td>AUD</td>\n",
              "      <td>1.47</td>\n",
              "      <td>1</td>\n",
              "      <td>High</td>\n",
              "    </tr>\n",
              "    <tr>\n",
              "      <th>1</th>\n",
              "      <td>Australia</td>\n",
              "      <td>2018</td>\n",
              "      <td>2</td>\n",
              "      <td>Bread</td>\n",
              "      <td>Loaf</td>\n",
              "      <td>2.20</td>\n",
              "      <td>AUD</td>\n",
              "      <td>1.48</td>\n",
              "      <td>1</td>\n",
              "      <td>High</td>\n",
              "    </tr>\n",
              "    <tr>\n",
              "      <th>2</th>\n",
              "      <td>Australia</td>\n",
              "      <td>2018</td>\n",
              "      <td>3</td>\n",
              "      <td>Bread</td>\n",
              "      <td>Loaf</td>\n",
              "      <td>2.20</td>\n",
              "      <td>AUD</td>\n",
              "      <td>1.48</td>\n",
              "      <td>1</td>\n",
              "      <td>High</td>\n",
              "    </tr>\n",
              "    <tr>\n",
              "      <th>3</th>\n",
              "      <td>Australia</td>\n",
              "      <td>2018</td>\n",
              "      <td>4</td>\n",
              "      <td>Bread</td>\n",
              "      <td>Loaf</td>\n",
              "      <td>2.21</td>\n",
              "      <td>AUD</td>\n",
              "      <td>1.48</td>\n",
              "      <td>1</td>\n",
              "      <td>High</td>\n",
              "    </tr>\n",
              "    <tr>\n",
              "      <th>4</th>\n",
              "      <td>Australia</td>\n",
              "      <td>2018</td>\n",
              "      <td>5</td>\n",
              "      <td>Bread</td>\n",
              "      <td>Loaf</td>\n",
              "      <td>2.21</td>\n",
              "      <td>AUD</td>\n",
              "      <td>1.48</td>\n",
              "      <td>1</td>\n",
              "      <td>High</td>\n",
              "    </tr>\n",
              "  </tbody>\n",
              "</table>\n",
              "</div>\n",
              "      <button class=\"colab-df-convert\" onclick=\"convertToInteractive('df-8afa478b-b70f-4ef6-8472-8095b98b8e20')\"\n",
              "              title=\"Convert this dataframe to an interactive table.\"\n",
              "              style=\"display:none;\">\n",
              "\n",
              "  <svg xmlns=\"http://www.w3.org/2000/svg\" height=\"24px\"viewBox=\"0 0 24 24\"\n",
              "       width=\"24px\">\n",
              "    <path d=\"M0 0h24v24H0V0z\" fill=\"none\"/>\n",
              "    <path d=\"M18.56 5.44l.94 2.06.94-2.06 2.06-.94-2.06-.94-.94-2.06-.94 2.06-2.06.94zm-11 1L8.5 8.5l.94-2.06 2.06-.94-2.06-.94L8.5 2.5l-.94 2.06-2.06.94zm10 10l.94 2.06.94-2.06 2.06-.94-2.06-.94-.94-2.06-.94 2.06-2.06.94z\"/><path d=\"M17.41 7.96l-1.37-1.37c-.4-.4-.92-.59-1.43-.59-.52 0-1.04.2-1.43.59L10.3 9.45l-7.72 7.72c-.78.78-.78 2.05 0 2.83L4 21.41c.39.39.9.59 1.41.59.51 0 1.02-.2 1.41-.59l7.78-7.78 2.81-2.81c.8-.78.8-2.07 0-2.86zM5.41 20L4 18.59l7.72-7.72 1.47 1.35L5.41 20z\"/>\n",
              "  </svg>\n",
              "      </button>\n",
              "\n",
              "\n",
              "\n",
              "    <div id=\"df-ec4ed4be-7fd3-4530-9428-c210f980cdfb\">\n",
              "      <button class=\"colab-df-quickchart\" onclick=\"quickchart('df-ec4ed4be-7fd3-4530-9428-c210f980cdfb')\"\n",
              "              title=\"Suggest charts.\"\n",
              "              style=\"display:none;\">\n",
              "\n",
              "<svg xmlns=\"http://www.w3.org/2000/svg\" height=\"24px\"viewBox=\"0 0 24 24\"\n",
              "     width=\"24px\">\n",
              "    <g>\n",
              "        <path d=\"M19 3H5c-1.1 0-2 .9-2 2v14c0 1.1.9 2 2 2h14c1.1 0 2-.9 2-2V5c0-1.1-.9-2-2-2zM9 17H7v-7h2v7zm4 0h-2V7h2v10zm4 0h-2v-4h2v4z\"/>\n",
              "    </g>\n",
              "</svg>\n",
              "      </button>\n",
              "    </div>\n",
              "\n",
              "<style>\n",
              "  .colab-df-quickchart {\n",
              "    background-color: #E8F0FE;\n",
              "    border: none;\n",
              "    border-radius: 50%;\n",
              "    cursor: pointer;\n",
              "    display: none;\n",
              "    fill: #1967D2;\n",
              "    height: 32px;\n",
              "    padding: 0 0 0 0;\n",
              "    width: 32px;\n",
              "  }\n",
              "\n",
              "  .colab-df-quickchart:hover {\n",
              "    background-color: #E2EBFA;\n",
              "    box-shadow: 0px 1px 2px rgba(60, 64, 67, 0.3), 0px 1px 3px 1px rgba(60, 64, 67, 0.15);\n",
              "    fill: #174EA6;\n",
              "  }\n",
              "\n",
              "  [theme=dark] .colab-df-quickchart {\n",
              "    background-color: #3B4455;\n",
              "    fill: #D2E3FC;\n",
              "  }\n",
              "\n",
              "  [theme=dark] .colab-df-quickchart:hover {\n",
              "    background-color: #434B5C;\n",
              "    box-shadow: 0px 1px 3px 1px rgba(0, 0, 0, 0.15);\n",
              "    filter: drop-shadow(0px 1px 2px rgba(0, 0, 0, 0.3));\n",
              "    fill: #FFFFFF;\n",
              "  }\n",
              "</style>\n",
              "\n",
              "    <script>\n",
              "      async function quickchart(key) {\n",
              "        const containerElement = document.querySelector('#' + key);\n",
              "        const charts = await google.colab.kernel.invokeFunction(\n",
              "            'suggestCharts', [key], {});\n",
              "      }\n",
              "    </script>\n",
              "\n",
              "      <script>\n",
              "\n",
              "function displayQuickchartButton(domScope) {\n",
              "  let quickchartButtonEl =\n",
              "    domScope.querySelector('#df-ec4ed4be-7fd3-4530-9428-c210f980cdfb button.colab-df-quickchart');\n",
              "  quickchartButtonEl.style.display =\n",
              "    google.colab.kernel.accessAllowed ? 'block' : 'none';\n",
              "}\n",
              "\n",
              "        displayQuickchartButton(document);\n",
              "      </script>\n",
              "      <style>\n",
              "    .colab-df-container {\n",
              "      display:flex;\n",
              "      flex-wrap:wrap;\n",
              "      gap: 12px;\n",
              "    }\n",
              "\n",
              "    .colab-df-convert {\n",
              "      background-color: #E8F0FE;\n",
              "      border: none;\n",
              "      border-radius: 50%;\n",
              "      cursor: pointer;\n",
              "      display: none;\n",
              "      fill: #1967D2;\n",
              "      height: 32px;\n",
              "      padding: 0 0 0 0;\n",
              "      width: 32px;\n",
              "    }\n",
              "\n",
              "    .colab-df-convert:hover {\n",
              "      background-color: #E2EBFA;\n",
              "      box-shadow: 0px 1px 2px rgba(60, 64, 67, 0.3), 0px 1px 3px 1px rgba(60, 64, 67, 0.15);\n",
              "      fill: #174EA6;\n",
              "    }\n",
              "\n",
              "    [theme=dark] .colab-df-convert {\n",
              "      background-color: #3B4455;\n",
              "      fill: #D2E3FC;\n",
              "    }\n",
              "\n",
              "    [theme=dark] .colab-df-convert:hover {\n",
              "      background-color: #434B5C;\n",
              "      box-shadow: 0px 1px 3px 1px rgba(0, 0, 0, 0.15);\n",
              "      filter: drop-shadow(0px 1px 2px rgba(0, 0, 0, 0.3));\n",
              "      fill: #FFFFFF;\n",
              "    }\n",
              "  </style>\n",
              "\n",
              "      <script>\n",
              "        const buttonEl =\n",
              "          document.querySelector('#df-8afa478b-b70f-4ef6-8472-8095b98b8e20 button.colab-df-convert');\n",
              "        buttonEl.style.display =\n",
              "          google.colab.kernel.accessAllowed ? 'block' : 'none';\n",
              "\n",
              "        async function convertToInteractive(key) {\n",
              "          const element = document.querySelector('#df-8afa478b-b70f-4ef6-8472-8095b98b8e20');\n",
              "          const dataTable =\n",
              "            await google.colab.kernel.invokeFunction('convertToInteractive',\n",
              "                                                     [key], {});\n",
              "          if (!dataTable) return;\n",
              "\n",
              "          const docLinkHtml = 'Like what you see? Visit the ' +\n",
              "            '<a target=\"_blank\" href=https://colab.research.google.com/notebooks/data_table.ipynb>data table notebook</a>'\n",
              "            + ' to learn more about interactive tables.';\n",
              "          element.innerHTML = '';\n",
              "          dataTable['output_type'] = 'display_data';\n",
              "          await google.colab.output.renderOutput(dataTable, element);\n",
              "          const docLink = document.createElement('div');\n",
              "          docLink.innerHTML = docLinkHtml;\n",
              "          element.appendChild(docLink);\n",
              "        }\n",
              "      </script>\n",
              "    </div>\n",
              "  </div>\n"
            ]
          },
          "metadata": {},
          "execution_count": 61
        }
      ],
      "source": [
        "# Elimina todas las columnas que tengan al menos un valor nulo\n",
        "columnas_Nan = food_price.dropna(axis=1)\n",
        "columnas_Nan.head()"
      ]
    },
    {
      "cell_type": "markdown",
      "metadata": {
        "id": "OxzmA0IWl0c1"
      },
      "source": [
        "En esta nueva linea de código creamos una variable nueva para guardar nuestra base de datos sin datos nulos, y con esto podemos hacer una comparación de cuantas columnas perdimos."
      ]
    },
    {
      "cell_type": "code",
      "execution_count": null,
      "metadata": {
        "colab": {
          "base_uri": "https://localhost:8080/"
        },
        "id": "gSLi54PamGSj",
        "outputId": "2c98ed62-2051-4f41-898f-a35a693a9d92"
      },
      "outputs": [
        {
          "output_type": "stream",
          "name": "stdout",
          "text": [
            "Numero de columnas en el dataset original: 10 \n",
            "\n",
            "Numero de columnas eliminadas: 10\n"
          ]
        }
      ],
      "source": [
        "#Revisamos cuantas columnas teniamos originalmente y cuantas eliminamos.\n",
        "print(\"Numero de columnas en el dataset original: %d \\n\" % food_price.shape[1])\n",
        "print(\"Numero de columnas eliminadas: %d\" % columnas_Nan.shape[1])\n"
      ]
    },
    {
      "cell_type": "markdown",
      "metadata": {
        "id": "BrOvSQLomx0M"
      },
      "source": [
        "Como podemos ver, perdimos bastante información al eliminar esas columnas. Se recomienda hacer este paso solo si se sabe que no se van a necesitar las columnas eliminadas. En caso de que solo quieras eliminar las columnas que no necesitas, y no todas las que tienen datos nulos, puedes realizar lo siguiente:\n",
        "\n",
        "(Para este ejemplo eliminaremos la columna \"Date\")"
      ]
    },
    {
      "cell_type": "code",
      "execution_count": null,
      "metadata": {
        "colab": {
          "base_uri": "https://localhost:8080/",
          "height": 360
        },
        "id": "_tPWuJuXnLwD",
        "outputId": "be898609-8e31-44c6-d0ea-5bee2011c090"
      },
      "outputs": [
        {
          "output_type": "error",
          "ename": "KeyError",
          "evalue": "ignored",
          "traceback": [
            "\u001b[0;31m---------------------------------------------------------------------------\u001b[0m",
            "\u001b[0;31mKeyError\u001b[0m                                  Traceback (most recent call last)",
            "\u001b[0;32m<ipython-input-74-ae363e5d6b41>\u001b[0m in \u001b[0;36m<cell line: 2>\u001b[0;34m()\u001b[0m\n\u001b[1;32m      1\u001b[0m \u001b[0;31m#Especificamos la columna que queremos eliminar\u001b[0m\u001b[0;34m\u001b[0m\u001b[0;34m\u001b[0m\u001b[0m\n\u001b[0;32m----> 2\u001b[0;31m \u001b[0meliminar_date\u001b[0m \u001b[0;34m=\u001b[0m \u001b[0mdatos_nfl\u001b[0m\u001b[0;34m.\u001b[0m\u001b[0mdrop\u001b[0m\u001b[0;34m(\u001b[0m\u001b[0;34m[\u001b[0m\u001b[0;34m\"Date\"\u001b[0m\u001b[0;34m]\u001b[0m\u001b[0;34m,\u001b[0m \u001b[0maxis\u001b[0m\u001b[0;34m=\u001b[0m\u001b[0;36m1\u001b[0m\u001b[0;34m)\u001b[0m\u001b[0;34m\u001b[0m\u001b[0;34m\u001b[0m\u001b[0m\n\u001b[0m\u001b[1;32m      3\u001b[0m \u001b[0meliminar_date\u001b[0m\u001b[0;34m.\u001b[0m\u001b[0mhead\u001b[0m\u001b[0;34m(\u001b[0m\u001b[0;34m)\u001b[0m\u001b[0;34m\u001b[0m\u001b[0;34m\u001b[0m\u001b[0m\n",
            "\u001b[0;32m/usr/local/lib/python3.10/dist-packages/pandas/util/_decorators.py\u001b[0m in \u001b[0;36mwrapper\u001b[0;34m(*args, **kwargs)\u001b[0m\n\u001b[1;32m    329\u001b[0m                     \u001b[0mstacklevel\u001b[0m\u001b[0;34m=\u001b[0m\u001b[0mfind_stack_level\u001b[0m\u001b[0;34m(\u001b[0m\u001b[0;34m)\u001b[0m\u001b[0;34m,\u001b[0m\u001b[0;34m\u001b[0m\u001b[0;34m\u001b[0m\u001b[0m\n\u001b[1;32m    330\u001b[0m                 )\n\u001b[0;32m--> 331\u001b[0;31m             \u001b[0;32mreturn\u001b[0m \u001b[0mfunc\u001b[0m\u001b[0;34m(\u001b[0m\u001b[0;34m*\u001b[0m\u001b[0margs\u001b[0m\u001b[0;34m,\u001b[0m \u001b[0;34m**\u001b[0m\u001b[0mkwargs\u001b[0m\u001b[0;34m)\u001b[0m\u001b[0;34m\u001b[0m\u001b[0;34m\u001b[0m\u001b[0m\n\u001b[0m\u001b[1;32m    332\u001b[0m \u001b[0;34m\u001b[0m\u001b[0m\n\u001b[1;32m    333\u001b[0m         \u001b[0;31m# error: \"Callable[[VarArg(Any), KwArg(Any)], Any]\" has no\u001b[0m\u001b[0;34m\u001b[0m\u001b[0;34m\u001b[0m\u001b[0m\n",
            "\u001b[0;32m/usr/local/lib/python3.10/dist-packages/pandas/core/frame.py\u001b[0m in \u001b[0;36mdrop\u001b[0;34m(self, labels, axis, index, columns, level, inplace, errors)\u001b[0m\n\u001b[1;32m   5397\u001b[0m                 \u001b[0mweight\u001b[0m  \u001b[0;36m1.0\u001b[0m     \u001b[0;36m0.8\u001b[0m\u001b[0;34m\u001b[0m\u001b[0;34m\u001b[0m\u001b[0m\n\u001b[1;32m   5398\u001b[0m         \"\"\"\n\u001b[0;32m-> 5399\u001b[0;31m         return super().drop(\n\u001b[0m\u001b[1;32m   5400\u001b[0m             \u001b[0mlabels\u001b[0m\u001b[0;34m=\u001b[0m\u001b[0mlabels\u001b[0m\u001b[0;34m,\u001b[0m\u001b[0;34m\u001b[0m\u001b[0;34m\u001b[0m\u001b[0m\n\u001b[1;32m   5401\u001b[0m             \u001b[0maxis\u001b[0m\u001b[0;34m=\u001b[0m\u001b[0maxis\u001b[0m\u001b[0;34m,\u001b[0m\u001b[0;34m\u001b[0m\u001b[0;34m\u001b[0m\u001b[0m\n",
            "\u001b[0;32m/usr/local/lib/python3.10/dist-packages/pandas/util/_decorators.py\u001b[0m in \u001b[0;36mwrapper\u001b[0;34m(*args, **kwargs)\u001b[0m\n\u001b[1;32m    329\u001b[0m                     \u001b[0mstacklevel\u001b[0m\u001b[0;34m=\u001b[0m\u001b[0mfind_stack_level\u001b[0m\u001b[0;34m(\u001b[0m\u001b[0;34m)\u001b[0m\u001b[0;34m,\u001b[0m\u001b[0;34m\u001b[0m\u001b[0;34m\u001b[0m\u001b[0m\n\u001b[1;32m    330\u001b[0m                 )\n\u001b[0;32m--> 331\u001b[0;31m             \u001b[0;32mreturn\u001b[0m \u001b[0mfunc\u001b[0m\u001b[0;34m(\u001b[0m\u001b[0;34m*\u001b[0m\u001b[0margs\u001b[0m\u001b[0;34m,\u001b[0m \u001b[0;34m**\u001b[0m\u001b[0mkwargs\u001b[0m\u001b[0;34m)\u001b[0m\u001b[0;34m\u001b[0m\u001b[0;34m\u001b[0m\u001b[0m\n\u001b[0m\u001b[1;32m    332\u001b[0m \u001b[0;34m\u001b[0m\u001b[0m\n\u001b[1;32m    333\u001b[0m         \u001b[0;31m# error: \"Callable[[VarArg(Any), KwArg(Any)], Any]\" has no\u001b[0m\u001b[0;34m\u001b[0m\u001b[0;34m\u001b[0m\u001b[0m\n",
            "\u001b[0;32m/usr/local/lib/python3.10/dist-packages/pandas/core/generic.py\u001b[0m in \u001b[0;36mdrop\u001b[0;34m(self, labels, axis, index, columns, level, inplace, errors)\u001b[0m\n\u001b[1;32m   4503\u001b[0m         \u001b[0;32mfor\u001b[0m \u001b[0maxis\u001b[0m\u001b[0;34m,\u001b[0m \u001b[0mlabels\u001b[0m \u001b[0;32min\u001b[0m \u001b[0maxes\u001b[0m\u001b[0;34m.\u001b[0m\u001b[0mitems\u001b[0m\u001b[0;34m(\u001b[0m\u001b[0;34m)\u001b[0m\u001b[0;34m:\u001b[0m\u001b[0;34m\u001b[0m\u001b[0;34m\u001b[0m\u001b[0m\n\u001b[1;32m   4504\u001b[0m             \u001b[0;32mif\u001b[0m \u001b[0mlabels\u001b[0m \u001b[0;32mis\u001b[0m \u001b[0;32mnot\u001b[0m \u001b[0;32mNone\u001b[0m\u001b[0;34m:\u001b[0m\u001b[0;34m\u001b[0m\u001b[0;34m\u001b[0m\u001b[0m\n\u001b[0;32m-> 4505\u001b[0;31m                 \u001b[0mobj\u001b[0m \u001b[0;34m=\u001b[0m \u001b[0mobj\u001b[0m\u001b[0;34m.\u001b[0m\u001b[0m_drop_axis\u001b[0m\u001b[0;34m(\u001b[0m\u001b[0mlabels\u001b[0m\u001b[0;34m,\u001b[0m \u001b[0maxis\u001b[0m\u001b[0;34m,\u001b[0m \u001b[0mlevel\u001b[0m\u001b[0;34m=\u001b[0m\u001b[0mlevel\u001b[0m\u001b[0;34m,\u001b[0m \u001b[0merrors\u001b[0m\u001b[0;34m=\u001b[0m\u001b[0merrors\u001b[0m\u001b[0;34m)\u001b[0m\u001b[0;34m\u001b[0m\u001b[0;34m\u001b[0m\u001b[0m\n\u001b[0m\u001b[1;32m   4506\u001b[0m \u001b[0;34m\u001b[0m\u001b[0m\n\u001b[1;32m   4507\u001b[0m         \u001b[0;32mif\u001b[0m \u001b[0minplace\u001b[0m\u001b[0;34m:\u001b[0m\u001b[0;34m\u001b[0m\u001b[0;34m\u001b[0m\u001b[0m\n",
            "\u001b[0;32m/usr/local/lib/python3.10/dist-packages/pandas/core/generic.py\u001b[0m in \u001b[0;36m_drop_axis\u001b[0;34m(self, labels, axis, level, errors, only_slice)\u001b[0m\n\u001b[1;32m   4544\u001b[0m                 \u001b[0mnew_axis\u001b[0m \u001b[0;34m=\u001b[0m \u001b[0maxis\u001b[0m\u001b[0;34m.\u001b[0m\u001b[0mdrop\u001b[0m\u001b[0;34m(\u001b[0m\u001b[0mlabels\u001b[0m\u001b[0;34m,\u001b[0m \u001b[0mlevel\u001b[0m\u001b[0;34m=\u001b[0m\u001b[0mlevel\u001b[0m\u001b[0;34m,\u001b[0m \u001b[0merrors\u001b[0m\u001b[0;34m=\u001b[0m\u001b[0merrors\u001b[0m\u001b[0;34m)\u001b[0m\u001b[0;34m\u001b[0m\u001b[0;34m\u001b[0m\u001b[0m\n\u001b[1;32m   4545\u001b[0m             \u001b[0;32melse\u001b[0m\u001b[0;34m:\u001b[0m\u001b[0;34m\u001b[0m\u001b[0;34m\u001b[0m\u001b[0m\n\u001b[0;32m-> 4546\u001b[0;31m                 \u001b[0mnew_axis\u001b[0m \u001b[0;34m=\u001b[0m \u001b[0maxis\u001b[0m\u001b[0;34m.\u001b[0m\u001b[0mdrop\u001b[0m\u001b[0;34m(\u001b[0m\u001b[0mlabels\u001b[0m\u001b[0;34m,\u001b[0m \u001b[0merrors\u001b[0m\u001b[0;34m=\u001b[0m\u001b[0merrors\u001b[0m\u001b[0;34m)\u001b[0m\u001b[0;34m\u001b[0m\u001b[0;34m\u001b[0m\u001b[0m\n\u001b[0m\u001b[1;32m   4547\u001b[0m             \u001b[0mindexer\u001b[0m \u001b[0;34m=\u001b[0m \u001b[0maxis\u001b[0m\u001b[0;34m.\u001b[0m\u001b[0mget_indexer\u001b[0m\u001b[0;34m(\u001b[0m\u001b[0mnew_axis\u001b[0m\u001b[0;34m)\u001b[0m\u001b[0;34m\u001b[0m\u001b[0;34m\u001b[0m\u001b[0m\n\u001b[1;32m   4548\u001b[0m \u001b[0;34m\u001b[0m\u001b[0m\n",
            "\u001b[0;32m/usr/local/lib/python3.10/dist-packages/pandas/core/indexes/base.py\u001b[0m in \u001b[0;36mdrop\u001b[0;34m(self, labels, errors)\u001b[0m\n\u001b[1;32m   6932\u001b[0m         \u001b[0;32mif\u001b[0m \u001b[0mmask\u001b[0m\u001b[0;34m.\u001b[0m\u001b[0many\u001b[0m\u001b[0;34m(\u001b[0m\u001b[0;34m)\u001b[0m\u001b[0;34m:\u001b[0m\u001b[0;34m\u001b[0m\u001b[0;34m\u001b[0m\u001b[0m\n\u001b[1;32m   6933\u001b[0m             \u001b[0;32mif\u001b[0m \u001b[0merrors\u001b[0m \u001b[0;34m!=\u001b[0m \u001b[0;34m\"ignore\"\u001b[0m\u001b[0;34m:\u001b[0m\u001b[0;34m\u001b[0m\u001b[0;34m\u001b[0m\u001b[0m\n\u001b[0;32m-> 6934\u001b[0;31m                 \u001b[0;32mraise\u001b[0m \u001b[0mKeyError\u001b[0m\u001b[0;34m(\u001b[0m\u001b[0;34mf\"{list(labels[mask])} not found in axis\"\u001b[0m\u001b[0;34m)\u001b[0m\u001b[0;34m\u001b[0m\u001b[0;34m\u001b[0m\u001b[0m\n\u001b[0m\u001b[1;32m   6935\u001b[0m             \u001b[0mindexer\u001b[0m \u001b[0;34m=\u001b[0m \u001b[0mindexer\u001b[0m\u001b[0;34m[\u001b[0m\u001b[0;34m~\u001b[0m\u001b[0mmask\u001b[0m\u001b[0;34m]\u001b[0m\u001b[0;34m\u001b[0m\u001b[0;34m\u001b[0m\u001b[0m\n\u001b[1;32m   6936\u001b[0m         \u001b[0;32mreturn\u001b[0m \u001b[0mself\u001b[0m\u001b[0;34m.\u001b[0m\u001b[0mdelete\u001b[0m\u001b[0;34m(\u001b[0m\u001b[0mindexer\u001b[0m\u001b[0;34m)\u001b[0m\u001b[0;34m\u001b[0m\u001b[0;34m\u001b[0m\u001b[0m\n",
            "\u001b[0;31mKeyError\u001b[0m: \"['Date'] not found in axis\""
          ]
        }
      ],
      "source": [
        "#Especificamos la columna que queremos eliminar\n",
        "eliminar_date = datos_nfl.drop([\"Date\"], axis=1)\n",
        "eliminar_date.head()"
      ]
    },
    {
      "cell_type": "markdown",
      "metadata": {
        "id": "8wvpfmeNn_Mn"
      },
      "source": [
        "## Paso 5: Rellenar valores nulos.\n",
        "\n",
        "Ya sabemos como eliminar datos de nuestra base de datos, ahora vamos a practicar como rellenar valores nulos de manera automática. Para este ejemplo tomaremos solo una sub sección de nuestra base de datos para poder mostrar los resultados más claramente.\n"
      ]
    },
    {
      "cell_type": "code",
      "execution_count": null,
      "metadata": {
        "colab": {
          "base_uri": "https://localhost:8080/",
          "height": 270
        },
        "id": "fOL5pZ-IofLi",
        "outputId": "e5b6097b-872c-4088-c7b5-d3c4dc7bedaf"
      },
      "outputs": [
        {
          "data": {
            "text/html": [
              "\n",
              "  <div id=\"df-b8b26917-caa3-4639-910e-7316369508f1\">\n",
              "    <div class=\"colab-df-container\">\n",
              "      <div>\n",
              "<style scoped>\n",
              "    .dataframe tbody tr th:only-of-type {\n",
              "        vertical-align: middle;\n",
              "    }\n",
              "\n",
              "    .dataframe tbody tr th {\n",
              "        vertical-align: top;\n",
              "    }\n",
              "\n",
              "    .dataframe thead th {\n",
              "        text-align: right;\n",
              "    }\n",
              "</style>\n",
              "<table border=\"1\" class=\"dataframe\">\n",
              "  <thead>\n",
              "    <tr style=\"text-align: right;\">\n",
              "      <th></th>\n",
              "      <th>EPA</th>\n",
              "      <th>airEPA</th>\n",
              "      <th>yacEPA</th>\n",
              "      <th>Home_WP_pre</th>\n",
              "      <th>Away_WP_pre</th>\n",
              "      <th>Home_WP_post</th>\n",
              "      <th>Away_WP_post</th>\n",
              "      <th>Win_Prob</th>\n",
              "      <th>WPA</th>\n",
              "      <th>airWPA</th>\n",
              "      <th>yacWPA</th>\n",
              "      <th>Season</th>\n",
              "    </tr>\n",
              "  </thead>\n",
              "  <tbody>\n",
              "    <tr>\n",
              "      <th>0</th>\n",
              "      <td>2.014474</td>\n",
              "      <td>NaN</td>\n",
              "      <td>NaN</td>\n",
              "      <td>0.485675</td>\n",
              "      <td>0.514325</td>\n",
              "      <td>0.546433</td>\n",
              "      <td>0.453567</td>\n",
              "      <td>0.485675</td>\n",
              "      <td>0.060758</td>\n",
              "      <td>NaN</td>\n",
              "      <td>NaN</td>\n",
              "      <td>2009</td>\n",
              "    </tr>\n",
              "    <tr>\n",
              "      <th>1</th>\n",
              "      <td>0.077907</td>\n",
              "      <td>-1.068169</td>\n",
              "      <td>1.146076</td>\n",
              "      <td>0.546433</td>\n",
              "      <td>0.453567</td>\n",
              "      <td>0.551088</td>\n",
              "      <td>0.448912</td>\n",
              "      <td>0.546433</td>\n",
              "      <td>0.004655</td>\n",
              "      <td>-0.032244</td>\n",
              "      <td>0.036899</td>\n",
              "      <td>2009</td>\n",
              "    </tr>\n",
              "    <tr>\n",
              "      <th>2</th>\n",
              "      <td>-1.402760</td>\n",
              "      <td>NaN</td>\n",
              "      <td>NaN</td>\n",
              "      <td>0.551088</td>\n",
              "      <td>0.448912</td>\n",
              "      <td>0.510793</td>\n",
              "      <td>0.489207</td>\n",
              "      <td>0.551088</td>\n",
              "      <td>-0.040295</td>\n",
              "      <td>NaN</td>\n",
              "      <td>NaN</td>\n",
              "      <td>2009</td>\n",
              "    </tr>\n",
              "    <tr>\n",
              "      <th>3</th>\n",
              "      <td>-1.712583</td>\n",
              "      <td>3.318841</td>\n",
              "      <td>-5.031425</td>\n",
              "      <td>0.510793</td>\n",
              "      <td>0.489207</td>\n",
              "      <td>0.461217</td>\n",
              "      <td>0.538783</td>\n",
              "      <td>0.510793</td>\n",
              "      <td>-0.049576</td>\n",
              "      <td>0.106663</td>\n",
              "      <td>-0.156239</td>\n",
              "      <td>2009</td>\n",
              "    </tr>\n",
              "    <tr>\n",
              "      <th>4</th>\n",
              "      <td>2.097796</td>\n",
              "      <td>NaN</td>\n",
              "      <td>NaN</td>\n",
              "      <td>0.461217</td>\n",
              "      <td>0.538783</td>\n",
              "      <td>0.558929</td>\n",
              "      <td>0.441071</td>\n",
              "      <td>0.461217</td>\n",
              "      <td>0.097712</td>\n",
              "      <td>NaN</td>\n",
              "      <td>NaN</td>\n",
              "      <td>2009</td>\n",
              "    </tr>\n",
              "  </tbody>\n",
              "</table>\n",
              "</div>\n",
              "      <button class=\"colab-df-convert\" onclick=\"convertToInteractive('df-b8b26917-caa3-4639-910e-7316369508f1')\"\n",
              "              title=\"Convert this dataframe to an interactive table.\"\n",
              "              style=\"display:none;\">\n",
              "        \n",
              "  <svg xmlns=\"http://www.w3.org/2000/svg\" height=\"24px\"viewBox=\"0 0 24 24\"\n",
              "       width=\"24px\">\n",
              "    <path d=\"M0 0h24v24H0V0z\" fill=\"none\"/>\n",
              "    <path d=\"M18.56 5.44l.94 2.06.94-2.06 2.06-.94-2.06-.94-.94-2.06-.94 2.06-2.06.94zm-11 1L8.5 8.5l.94-2.06 2.06-.94-2.06-.94L8.5 2.5l-.94 2.06-2.06.94zm10 10l.94 2.06.94-2.06 2.06-.94-2.06-.94-.94-2.06-.94 2.06-2.06.94z\"/><path d=\"M17.41 7.96l-1.37-1.37c-.4-.4-.92-.59-1.43-.59-.52 0-1.04.2-1.43.59L10.3 9.45l-7.72 7.72c-.78.78-.78 2.05 0 2.83L4 21.41c.39.39.9.59 1.41.59.51 0 1.02-.2 1.41-.59l7.78-7.78 2.81-2.81c.8-.78.8-2.07 0-2.86zM5.41 20L4 18.59l7.72-7.72 1.47 1.35L5.41 20z\"/>\n",
              "  </svg>\n",
              "      </button>\n",
              "      \n",
              "  <style>\n",
              "    .colab-df-container {\n",
              "      display:flex;\n",
              "      flex-wrap:wrap;\n",
              "      gap: 12px;\n",
              "    }\n",
              "\n",
              "    .colab-df-convert {\n",
              "      background-color: #E8F0FE;\n",
              "      border: none;\n",
              "      border-radius: 50%;\n",
              "      cursor: pointer;\n",
              "      display: none;\n",
              "      fill: #1967D2;\n",
              "      height: 32px;\n",
              "      padding: 0 0 0 0;\n",
              "      width: 32px;\n",
              "    }\n",
              "\n",
              "    .colab-df-convert:hover {\n",
              "      background-color: #E2EBFA;\n",
              "      box-shadow: 0px 1px 2px rgba(60, 64, 67, 0.3), 0px 1px 3px 1px rgba(60, 64, 67, 0.15);\n",
              "      fill: #174EA6;\n",
              "    }\n",
              "\n",
              "    [theme=dark] .colab-df-convert {\n",
              "      background-color: #3B4455;\n",
              "      fill: #D2E3FC;\n",
              "    }\n",
              "\n",
              "    [theme=dark] .colab-df-convert:hover {\n",
              "      background-color: #434B5C;\n",
              "      box-shadow: 0px 1px 3px 1px rgba(0, 0, 0, 0.15);\n",
              "      filter: drop-shadow(0px 1px 2px rgba(0, 0, 0, 0.3));\n",
              "      fill: #FFFFFF;\n",
              "    }\n",
              "  </style>\n",
              "\n",
              "      <script>\n",
              "        const buttonEl =\n",
              "          document.querySelector('#df-b8b26917-caa3-4639-910e-7316369508f1 button.colab-df-convert');\n",
              "        buttonEl.style.display =\n",
              "          google.colab.kernel.accessAllowed ? 'block' : 'none';\n",
              "\n",
              "        async function convertToInteractive(key) {\n",
              "          const element = document.querySelector('#df-b8b26917-caa3-4639-910e-7316369508f1');\n",
              "          const dataTable =\n",
              "            await google.colab.kernel.invokeFunction('convertToInteractive',\n",
              "                                                     [key], {});\n",
              "          if (!dataTable) return;\n",
              "\n",
              "          const docLinkHtml = 'Like what you see? Visit the ' +\n",
              "            '<a target=\"_blank\" href=https://colab.research.google.com/notebooks/data_table.ipynb>data table notebook</a>'\n",
              "            + ' to learn more about interactive tables.';\n",
              "          element.innerHTML = '';\n",
              "          dataTable['output_type'] = 'display_data';\n",
              "          await google.colab.output.renderOutput(dataTable, element);\n",
              "          const docLink = document.createElement('div');\n",
              "          docLink.innerHTML = docLinkHtml;\n",
              "          element.appendChild(docLink);\n",
              "        }\n",
              "      </script>\n",
              "    </div>\n",
              "  </div>\n",
              "  "
            ],
            "text/plain": [
              "        EPA    airEPA    yacEPA  ...    airWPA    yacWPA  Season\n",
              "0  2.014474       NaN       NaN  ...       NaN       NaN    2009\n",
              "1  0.077907 -1.068169  1.146076  ... -0.032244  0.036899    2009\n",
              "2 -1.402760       NaN       NaN  ...       NaN       NaN    2009\n",
              "3 -1.712583  3.318841 -5.031425  ...  0.106663 -0.156239    2009\n",
              "4  2.097796       NaN       NaN  ...       NaN       NaN    2009\n",
              "\n",
              "[5 rows x 12 columns]"
            ]
          },
          "execution_count": 12,
          "metadata": {},
          "output_type": "execute_result"
        }
      ],
      "source": [
        "#Generamos un subset de los datos\n",
        "subset_datos_nfl = datos_nfl.loc[:, 'EPA':'Season'].head()\n",
        "subset_datos_nfl"
      ]
    },
    {
      "cell_type": "markdown",
      "metadata": {
        "id": "TgImFYheo3fs"
      },
      "source": [
        "La librería de pandas tiene una función que permite cambiar los valores nulos automáticamente por cualquier otro valor que elijas. Tenemos la opción de fillna(), con la cual los valores NaN se reemplazaran con cualquier valor que nosotros agreguemos entre los parentesis.\n",
        "\n"
      ]
    },
    {
      "cell_type": "code",
      "execution_count": null,
      "metadata": {
        "colab": {
          "base_uri": "https://localhost:8080/",
          "height": 270
        },
        "id": "cQ-4U9Y1pgzr",
        "outputId": "406f0eba-4a02-4309-fb9d-74feeb43d1d4"
      },
      "outputs": [
        {
          "data": {
            "text/html": [
              "\n",
              "  <div id=\"df-a8cc8a77-9253-454b-b394-2e66606b980b\">\n",
              "    <div class=\"colab-df-container\">\n",
              "      <div>\n",
              "<style scoped>\n",
              "    .dataframe tbody tr th:only-of-type {\n",
              "        vertical-align: middle;\n",
              "    }\n",
              "\n",
              "    .dataframe tbody tr th {\n",
              "        vertical-align: top;\n",
              "    }\n",
              "\n",
              "    .dataframe thead th {\n",
              "        text-align: right;\n",
              "    }\n",
              "</style>\n",
              "<table border=\"1\" class=\"dataframe\">\n",
              "  <thead>\n",
              "    <tr style=\"text-align: right;\">\n",
              "      <th></th>\n",
              "      <th>EPA</th>\n",
              "      <th>airEPA</th>\n",
              "      <th>yacEPA</th>\n",
              "      <th>Home_WP_pre</th>\n",
              "      <th>Away_WP_pre</th>\n",
              "      <th>Home_WP_post</th>\n",
              "      <th>Away_WP_post</th>\n",
              "      <th>Win_Prob</th>\n",
              "      <th>WPA</th>\n",
              "      <th>airWPA</th>\n",
              "      <th>yacWPA</th>\n",
              "      <th>Season</th>\n",
              "    </tr>\n",
              "  </thead>\n",
              "  <tbody>\n",
              "    <tr>\n",
              "      <th>0</th>\n",
              "      <td>2.014474</td>\n",
              "      <td>0.000000</td>\n",
              "      <td>0.000000</td>\n",
              "      <td>0.485675</td>\n",
              "      <td>0.514325</td>\n",
              "      <td>0.546433</td>\n",
              "      <td>0.453567</td>\n",
              "      <td>0.485675</td>\n",
              "      <td>0.060758</td>\n",
              "      <td>0.000000</td>\n",
              "      <td>0.000000</td>\n",
              "      <td>2009</td>\n",
              "    </tr>\n",
              "    <tr>\n",
              "      <th>1</th>\n",
              "      <td>0.077907</td>\n",
              "      <td>-1.068169</td>\n",
              "      <td>1.146076</td>\n",
              "      <td>0.546433</td>\n",
              "      <td>0.453567</td>\n",
              "      <td>0.551088</td>\n",
              "      <td>0.448912</td>\n",
              "      <td>0.546433</td>\n",
              "      <td>0.004655</td>\n",
              "      <td>-0.032244</td>\n",
              "      <td>0.036899</td>\n",
              "      <td>2009</td>\n",
              "    </tr>\n",
              "    <tr>\n",
              "      <th>2</th>\n",
              "      <td>-1.402760</td>\n",
              "      <td>0.000000</td>\n",
              "      <td>0.000000</td>\n",
              "      <td>0.551088</td>\n",
              "      <td>0.448912</td>\n",
              "      <td>0.510793</td>\n",
              "      <td>0.489207</td>\n",
              "      <td>0.551088</td>\n",
              "      <td>-0.040295</td>\n",
              "      <td>0.000000</td>\n",
              "      <td>0.000000</td>\n",
              "      <td>2009</td>\n",
              "    </tr>\n",
              "    <tr>\n",
              "      <th>3</th>\n",
              "      <td>-1.712583</td>\n",
              "      <td>3.318841</td>\n",
              "      <td>-5.031425</td>\n",
              "      <td>0.510793</td>\n",
              "      <td>0.489207</td>\n",
              "      <td>0.461217</td>\n",
              "      <td>0.538783</td>\n",
              "      <td>0.510793</td>\n",
              "      <td>-0.049576</td>\n",
              "      <td>0.106663</td>\n",
              "      <td>-0.156239</td>\n",
              "      <td>2009</td>\n",
              "    </tr>\n",
              "    <tr>\n",
              "      <th>4</th>\n",
              "      <td>2.097796</td>\n",
              "      <td>0.000000</td>\n",
              "      <td>0.000000</td>\n",
              "      <td>0.461217</td>\n",
              "      <td>0.538783</td>\n",
              "      <td>0.558929</td>\n",
              "      <td>0.441071</td>\n",
              "      <td>0.461217</td>\n",
              "      <td>0.097712</td>\n",
              "      <td>0.000000</td>\n",
              "      <td>0.000000</td>\n",
              "      <td>2009</td>\n",
              "    </tr>\n",
              "  </tbody>\n",
              "</table>\n",
              "</div>\n",
              "      <button class=\"colab-df-convert\" onclick=\"convertToInteractive('df-a8cc8a77-9253-454b-b394-2e66606b980b')\"\n",
              "              title=\"Convert this dataframe to an interactive table.\"\n",
              "              style=\"display:none;\">\n",
              "        \n",
              "  <svg xmlns=\"http://www.w3.org/2000/svg\" height=\"24px\"viewBox=\"0 0 24 24\"\n",
              "       width=\"24px\">\n",
              "    <path d=\"M0 0h24v24H0V0z\" fill=\"none\"/>\n",
              "    <path d=\"M18.56 5.44l.94 2.06.94-2.06 2.06-.94-2.06-.94-.94-2.06-.94 2.06-2.06.94zm-11 1L8.5 8.5l.94-2.06 2.06-.94-2.06-.94L8.5 2.5l-.94 2.06-2.06.94zm10 10l.94 2.06.94-2.06 2.06-.94-2.06-.94-.94-2.06-.94 2.06-2.06.94z\"/><path d=\"M17.41 7.96l-1.37-1.37c-.4-.4-.92-.59-1.43-.59-.52 0-1.04.2-1.43.59L10.3 9.45l-7.72 7.72c-.78.78-.78 2.05 0 2.83L4 21.41c.39.39.9.59 1.41.59.51 0 1.02-.2 1.41-.59l7.78-7.78 2.81-2.81c.8-.78.8-2.07 0-2.86zM5.41 20L4 18.59l7.72-7.72 1.47 1.35L5.41 20z\"/>\n",
              "  </svg>\n",
              "      </button>\n",
              "      \n",
              "  <style>\n",
              "    .colab-df-container {\n",
              "      display:flex;\n",
              "      flex-wrap:wrap;\n",
              "      gap: 12px;\n",
              "    }\n",
              "\n",
              "    .colab-df-convert {\n",
              "      background-color: #E8F0FE;\n",
              "      border: none;\n",
              "      border-radius: 50%;\n",
              "      cursor: pointer;\n",
              "      display: none;\n",
              "      fill: #1967D2;\n",
              "      height: 32px;\n",
              "      padding: 0 0 0 0;\n",
              "      width: 32px;\n",
              "    }\n",
              "\n",
              "    .colab-df-convert:hover {\n",
              "      background-color: #E2EBFA;\n",
              "      box-shadow: 0px 1px 2px rgba(60, 64, 67, 0.3), 0px 1px 3px 1px rgba(60, 64, 67, 0.15);\n",
              "      fill: #174EA6;\n",
              "    }\n",
              "\n",
              "    [theme=dark] .colab-df-convert {\n",
              "      background-color: #3B4455;\n",
              "      fill: #D2E3FC;\n",
              "    }\n",
              "\n",
              "    [theme=dark] .colab-df-convert:hover {\n",
              "      background-color: #434B5C;\n",
              "      box-shadow: 0px 1px 3px 1px rgba(0, 0, 0, 0.15);\n",
              "      filter: drop-shadow(0px 1px 2px rgba(0, 0, 0, 0.3));\n",
              "      fill: #FFFFFF;\n",
              "    }\n",
              "  </style>\n",
              "\n",
              "      <script>\n",
              "        const buttonEl =\n",
              "          document.querySelector('#df-a8cc8a77-9253-454b-b394-2e66606b980b button.colab-df-convert');\n",
              "        buttonEl.style.display =\n",
              "          google.colab.kernel.accessAllowed ? 'block' : 'none';\n",
              "\n",
              "        async function convertToInteractive(key) {\n",
              "          const element = document.querySelector('#df-a8cc8a77-9253-454b-b394-2e66606b980b');\n",
              "          const dataTable =\n",
              "            await google.colab.kernel.invokeFunction('convertToInteractive',\n",
              "                                                     [key], {});\n",
              "          if (!dataTable) return;\n",
              "\n",
              "          const docLinkHtml = 'Like what you see? Visit the ' +\n",
              "            '<a target=\"_blank\" href=https://colab.research.google.com/notebooks/data_table.ipynb>data table notebook</a>'\n",
              "            + ' to learn more about interactive tables.';\n",
              "          element.innerHTML = '';\n",
              "          dataTable['output_type'] = 'display_data';\n",
              "          await google.colab.output.renderOutput(dataTable, element);\n",
              "          const docLink = document.createElement('div');\n",
              "          docLink.innerHTML = docLinkHtml;\n",
              "          element.appendChild(docLink);\n",
              "        }\n",
              "      </script>\n",
              "    </div>\n",
              "  </div>\n",
              "  "
            ],
            "text/plain": [
              "        EPA    airEPA    yacEPA  ...    airWPA    yacWPA  Season\n",
              "0  2.014474  0.000000  0.000000  ...  0.000000  0.000000    2009\n",
              "1  0.077907 -1.068169  1.146076  ... -0.032244  0.036899    2009\n",
              "2 -1.402760  0.000000  0.000000  ...  0.000000  0.000000    2009\n",
              "3 -1.712583  3.318841 -5.031425  ...  0.106663 -0.156239    2009\n",
              "4  2.097796  0.000000  0.000000  ...  0.000000  0.000000    2009\n",
              "\n",
              "[5 rows x 12 columns]"
            ]
          },
          "execution_count": 13,
          "metadata": {},
          "output_type": "execute_result"
        }
      ],
      "source": [
        "from operator import sub\n",
        "#Reemplazar todos los valores NaN por 0.\n",
        "subset_datos_nfl.fillna(0)"
      ]
    },
    {
      "cell_type": "markdown",
      "metadata": {
        "id": "nWyTxsqdpqH4"
      },
      "source": [
        "Se tiene que tener precaución con este tipo de rellenado, ya que por ejemplo, en esta base de datos el valor 0 puede modificar el resultado de un modelo que se base en algun tipo de promedio de los datos se su columna. Otro ejemplo podría ser si estamos tratando con una columna que representa edades, pesos, estaturas. El cero es un valor que puede afectar nuestros resultados.\n",
        "\n",
        "En caso de que no se quiera rellenar solo con ceros, podemos intentar otra manera. Con esta siguiente linea de código vamos a reemplazar los valores nulos por cualquier valor que se encuentre directamente abajo de la columna con el valor nulo. Esto tiene más sentido si tenemos alguna base de datos que siga un orden lógico como ordenados de manera acendente/decendente."
      ]
    },
    {
      "cell_type": "code",
      "execution_count": null,
      "metadata": {
        "colab": {
          "base_uri": "https://localhost:8080/",
          "height": 270
        },
        "id": "TP7SgO8Jq0az",
        "outputId": "775e862c-4fa0-42fb-c017-ea4495782b95"
      },
      "outputs": [
        {
          "data": {
            "text/html": [
              "\n",
              "  <div id=\"df-28426af4-3dd8-4c85-8211-15cc63450e02\">\n",
              "    <div class=\"colab-df-container\">\n",
              "      <div>\n",
              "<style scoped>\n",
              "    .dataframe tbody tr th:only-of-type {\n",
              "        vertical-align: middle;\n",
              "    }\n",
              "\n",
              "    .dataframe tbody tr th {\n",
              "        vertical-align: top;\n",
              "    }\n",
              "\n",
              "    .dataframe thead th {\n",
              "        text-align: right;\n",
              "    }\n",
              "</style>\n",
              "<table border=\"1\" class=\"dataframe\">\n",
              "  <thead>\n",
              "    <tr style=\"text-align: right;\">\n",
              "      <th></th>\n",
              "      <th>EPA</th>\n",
              "      <th>airEPA</th>\n",
              "      <th>yacEPA</th>\n",
              "      <th>Home_WP_pre</th>\n",
              "      <th>Away_WP_pre</th>\n",
              "      <th>Home_WP_post</th>\n",
              "      <th>Away_WP_post</th>\n",
              "      <th>Win_Prob</th>\n",
              "      <th>WPA</th>\n",
              "      <th>airWPA</th>\n",
              "      <th>yacWPA</th>\n",
              "      <th>Season</th>\n",
              "    </tr>\n",
              "  </thead>\n",
              "  <tbody>\n",
              "    <tr>\n",
              "      <th>0</th>\n",
              "      <td>2.014474</td>\n",
              "      <td>-1.068169</td>\n",
              "      <td>1.146076</td>\n",
              "      <td>0.485675</td>\n",
              "      <td>0.514325</td>\n",
              "      <td>0.546433</td>\n",
              "      <td>0.453567</td>\n",
              "      <td>0.485675</td>\n",
              "      <td>0.060758</td>\n",
              "      <td>-0.032244</td>\n",
              "      <td>0.036899</td>\n",
              "      <td>2009</td>\n",
              "    </tr>\n",
              "    <tr>\n",
              "      <th>1</th>\n",
              "      <td>0.077907</td>\n",
              "      <td>-1.068169</td>\n",
              "      <td>1.146076</td>\n",
              "      <td>0.546433</td>\n",
              "      <td>0.453567</td>\n",
              "      <td>0.551088</td>\n",
              "      <td>0.448912</td>\n",
              "      <td>0.546433</td>\n",
              "      <td>0.004655</td>\n",
              "      <td>-0.032244</td>\n",
              "      <td>0.036899</td>\n",
              "      <td>2009</td>\n",
              "    </tr>\n",
              "    <tr>\n",
              "      <th>2</th>\n",
              "      <td>-1.402760</td>\n",
              "      <td>3.318841</td>\n",
              "      <td>-5.031425</td>\n",
              "      <td>0.551088</td>\n",
              "      <td>0.448912</td>\n",
              "      <td>0.510793</td>\n",
              "      <td>0.489207</td>\n",
              "      <td>0.551088</td>\n",
              "      <td>-0.040295</td>\n",
              "      <td>0.106663</td>\n",
              "      <td>-0.156239</td>\n",
              "      <td>2009</td>\n",
              "    </tr>\n",
              "    <tr>\n",
              "      <th>3</th>\n",
              "      <td>-1.712583</td>\n",
              "      <td>3.318841</td>\n",
              "      <td>-5.031425</td>\n",
              "      <td>0.510793</td>\n",
              "      <td>0.489207</td>\n",
              "      <td>0.461217</td>\n",
              "      <td>0.538783</td>\n",
              "      <td>0.510793</td>\n",
              "      <td>-0.049576</td>\n",
              "      <td>0.106663</td>\n",
              "      <td>-0.156239</td>\n",
              "      <td>2009</td>\n",
              "    </tr>\n",
              "    <tr>\n",
              "      <th>4</th>\n",
              "      <td>2.097796</td>\n",
              "      <td>0.000000</td>\n",
              "      <td>0.000000</td>\n",
              "      <td>0.461217</td>\n",
              "      <td>0.538783</td>\n",
              "      <td>0.558929</td>\n",
              "      <td>0.441071</td>\n",
              "      <td>0.461217</td>\n",
              "      <td>0.097712</td>\n",
              "      <td>0.000000</td>\n",
              "      <td>0.000000</td>\n",
              "      <td>2009</td>\n",
              "    </tr>\n",
              "  </tbody>\n",
              "</table>\n",
              "</div>\n",
              "      <button class=\"colab-df-convert\" onclick=\"convertToInteractive('df-28426af4-3dd8-4c85-8211-15cc63450e02')\"\n",
              "              title=\"Convert this dataframe to an interactive table.\"\n",
              "              style=\"display:none;\">\n",
              "        \n",
              "  <svg xmlns=\"http://www.w3.org/2000/svg\" height=\"24px\"viewBox=\"0 0 24 24\"\n",
              "       width=\"24px\">\n",
              "    <path d=\"M0 0h24v24H0V0z\" fill=\"none\"/>\n",
              "    <path d=\"M18.56 5.44l.94 2.06.94-2.06 2.06-.94-2.06-.94-.94-2.06-.94 2.06-2.06.94zm-11 1L8.5 8.5l.94-2.06 2.06-.94-2.06-.94L8.5 2.5l-.94 2.06-2.06.94zm10 10l.94 2.06.94-2.06 2.06-.94-2.06-.94-.94-2.06-.94 2.06-2.06.94z\"/><path d=\"M17.41 7.96l-1.37-1.37c-.4-.4-.92-.59-1.43-.59-.52 0-1.04.2-1.43.59L10.3 9.45l-7.72 7.72c-.78.78-.78 2.05 0 2.83L4 21.41c.39.39.9.59 1.41.59.51 0 1.02-.2 1.41-.59l7.78-7.78 2.81-2.81c.8-.78.8-2.07 0-2.86zM5.41 20L4 18.59l7.72-7.72 1.47 1.35L5.41 20z\"/>\n",
              "  </svg>\n",
              "      </button>\n",
              "      \n",
              "  <style>\n",
              "    .colab-df-container {\n",
              "      display:flex;\n",
              "      flex-wrap:wrap;\n",
              "      gap: 12px;\n",
              "    }\n",
              "\n",
              "    .colab-df-convert {\n",
              "      background-color: #E8F0FE;\n",
              "      border: none;\n",
              "      border-radius: 50%;\n",
              "      cursor: pointer;\n",
              "      display: none;\n",
              "      fill: #1967D2;\n",
              "      height: 32px;\n",
              "      padding: 0 0 0 0;\n",
              "      width: 32px;\n",
              "    }\n",
              "\n",
              "    .colab-df-convert:hover {\n",
              "      background-color: #E2EBFA;\n",
              "      box-shadow: 0px 1px 2px rgba(60, 64, 67, 0.3), 0px 1px 3px 1px rgba(60, 64, 67, 0.15);\n",
              "      fill: #174EA6;\n",
              "    }\n",
              "\n",
              "    [theme=dark] .colab-df-convert {\n",
              "      background-color: #3B4455;\n",
              "      fill: #D2E3FC;\n",
              "    }\n",
              "\n",
              "    [theme=dark] .colab-df-convert:hover {\n",
              "      background-color: #434B5C;\n",
              "      box-shadow: 0px 1px 3px 1px rgba(0, 0, 0, 0.15);\n",
              "      filter: drop-shadow(0px 1px 2px rgba(0, 0, 0, 0.3));\n",
              "      fill: #FFFFFF;\n",
              "    }\n",
              "  </style>\n",
              "\n",
              "      <script>\n",
              "        const buttonEl =\n",
              "          document.querySelector('#df-28426af4-3dd8-4c85-8211-15cc63450e02 button.colab-df-convert');\n",
              "        buttonEl.style.display =\n",
              "          google.colab.kernel.accessAllowed ? 'block' : 'none';\n",
              "\n",
              "        async function convertToInteractive(key) {\n",
              "          const element = document.querySelector('#df-28426af4-3dd8-4c85-8211-15cc63450e02');\n",
              "          const dataTable =\n",
              "            await google.colab.kernel.invokeFunction('convertToInteractive',\n",
              "                                                     [key], {});\n",
              "          if (!dataTable) return;\n",
              "\n",
              "          const docLinkHtml = 'Like what you see? Visit the ' +\n",
              "            '<a target=\"_blank\" href=https://colab.research.google.com/notebooks/data_table.ipynb>data table notebook</a>'\n",
              "            + ' to learn more about interactive tables.';\n",
              "          element.innerHTML = '';\n",
              "          dataTable['output_type'] = 'display_data';\n",
              "          await google.colab.output.renderOutput(dataTable, element);\n",
              "          const docLink = document.createElement('div');\n",
              "          docLink.innerHTML = docLinkHtml;\n",
              "          element.appendChild(docLink);\n",
              "        }\n",
              "      </script>\n",
              "    </div>\n",
              "  </div>\n",
              "  "
            ],
            "text/plain": [
              "        EPA    airEPA    yacEPA  ...    airWPA    yacWPA  Season\n",
              "0  2.014474 -1.068169  1.146076  ... -0.032244  0.036899    2009\n",
              "1  0.077907 -1.068169  1.146076  ... -0.032244  0.036899    2009\n",
              "2 -1.402760  3.318841 -5.031425  ...  0.106663 -0.156239    2009\n",
              "3 -1.712583  3.318841 -5.031425  ...  0.106663 -0.156239    2009\n",
              "4  2.097796  0.000000  0.000000  ...  0.000000  0.000000    2009\n",
              "\n",
              "[5 rows x 12 columns]"
            ]
          },
          "execution_count": 14,
          "metadata": {},
          "output_type": "execute_result"
        }
      ],
      "source": [
        "#Reemplazar todos los valores nulos por el valor que se encuentre directamente\n",
        "#debajo de nuestra celda nula.\n",
        "\n",
        "subset_datos_nfl.fillna(method='bfill', axis=0).fillna(0)"
      ]
    },
    {
      "cell_type": "markdown",
      "source": [
        "# Tarea:\n",
        "\n",
        "Utilizando la pagina de kaggle, descargar una base de datos de interes y realizar un analisis inicial sencillo, revisando los tipos de datos de las columnas, sacar una descripcion general de los datos, revisar por valores nulos, y finalmente, utilizar la herramienta de matplotlib para representar los datos de manera grafica."
      ],
      "metadata": {
        "id": "919xOgTrR_UP"
      }
    },
    {
      "cell_type": "code",
      "source": [
        "# Librerías para utilizar\n",
        "\n",
        "import pandas as pd\n",
        "import numpy as np\n",
        "\n",
        "# Cargar nuestra base de datos\n",
        "food_price = pd.read_csv(\"/content/drive/MyDrive/Colab Notebooks/Food Price/Food Prices.csv\")\n",
        "\n",
        "# Cargar semilla para poder dar reproducibilidad (1)\n",
        "np.random.seed(0)"
      ],
      "metadata": {
        "id": "XW7i0v9BfOGh"
      },
      "execution_count": null,
      "outputs": []
    },
    {
      "cell_type": "code",
      "source": [
        "# Para poder ver los primeros datos podemos usar el valor head() que nos muestra\n",
        "#por default las primeras 5 filas del archivo. Si quieremos visualizar más\n",
        "#podemos agregar dentro del parentesis el número de filas que queremos visualizar\n",
        "# Ej. head(10)\n",
        "\n",
        "food_price.head()"
      ],
      "metadata": {
        "colab": {
          "base_uri": "https://localhost:8080/",
          "height": 206
        },
        "id": "dQbg8ob1fU_M",
        "outputId": "1ce4104d-baea-4c03-9c99-3b9727804697"
      },
      "execution_count": null,
      "outputs": [
        {
          "output_type": "execute_result",
          "data": {
            "text/plain": [
              "    Country   Year   Month  Food Item  Unit of Measurement  Average Price   \\\n",
              "0  Australia   2018       1      Bread                Loaf            2.20   \n",
              "1  Australia   2018       2      Bread                Loaf            2.20   \n",
              "2  Australia   2018       3      Bread                Loaf            2.20   \n",
              "3  Australia   2018       4      Bread                Loaf            2.21   \n",
              "4  Australia   2018       5      Bread                Loaf            2.21   \n",
              "\n",
              "  Currency   Price in USD  Availability  Quality   \n",
              "0       AUD          1.47              1     High  \n",
              "1       AUD          1.48              1     High  \n",
              "2       AUD          1.48              1     High  \n",
              "3       AUD          1.48              1     High  \n",
              "4       AUD          1.48              1     High  "
            ],
            "text/html": [
              "\n",
              "\n",
              "  <div id=\"df-edc58193-13a6-4124-aef4-2ef59b279609\">\n",
              "    <div class=\"colab-df-container\">\n",
              "      <div>\n",
              "<style scoped>\n",
              "    .dataframe tbody tr th:only-of-type {\n",
              "        vertical-align: middle;\n",
              "    }\n",
              "\n",
              "    .dataframe tbody tr th {\n",
              "        vertical-align: top;\n",
              "    }\n",
              "\n",
              "    .dataframe thead th {\n",
              "        text-align: right;\n",
              "    }\n",
              "</style>\n",
              "<table border=\"1\" class=\"dataframe\">\n",
              "  <thead>\n",
              "    <tr style=\"text-align: right;\">\n",
              "      <th></th>\n",
              "      <th>Country</th>\n",
              "      <th>Year</th>\n",
              "      <th>Month</th>\n",
              "      <th>Food Item</th>\n",
              "      <th>Unit of Measurement</th>\n",
              "      <th>Average Price</th>\n",
              "      <th>Currency</th>\n",
              "      <th>Price in USD</th>\n",
              "      <th>Availability</th>\n",
              "      <th>Quality</th>\n",
              "    </tr>\n",
              "  </thead>\n",
              "  <tbody>\n",
              "    <tr>\n",
              "      <th>0</th>\n",
              "      <td>Australia</td>\n",
              "      <td>2018</td>\n",
              "      <td>1</td>\n",
              "      <td>Bread</td>\n",
              "      <td>Loaf</td>\n",
              "      <td>2.20</td>\n",
              "      <td>AUD</td>\n",
              "      <td>1.47</td>\n",
              "      <td>1</td>\n",
              "      <td>High</td>\n",
              "    </tr>\n",
              "    <tr>\n",
              "      <th>1</th>\n",
              "      <td>Australia</td>\n",
              "      <td>2018</td>\n",
              "      <td>2</td>\n",
              "      <td>Bread</td>\n",
              "      <td>Loaf</td>\n",
              "      <td>2.20</td>\n",
              "      <td>AUD</td>\n",
              "      <td>1.48</td>\n",
              "      <td>1</td>\n",
              "      <td>High</td>\n",
              "    </tr>\n",
              "    <tr>\n",
              "      <th>2</th>\n",
              "      <td>Australia</td>\n",
              "      <td>2018</td>\n",
              "      <td>3</td>\n",
              "      <td>Bread</td>\n",
              "      <td>Loaf</td>\n",
              "      <td>2.20</td>\n",
              "      <td>AUD</td>\n",
              "      <td>1.48</td>\n",
              "      <td>1</td>\n",
              "      <td>High</td>\n",
              "    </tr>\n",
              "    <tr>\n",
              "      <th>3</th>\n",
              "      <td>Australia</td>\n",
              "      <td>2018</td>\n",
              "      <td>4</td>\n",
              "      <td>Bread</td>\n",
              "      <td>Loaf</td>\n",
              "      <td>2.21</td>\n",
              "      <td>AUD</td>\n",
              "      <td>1.48</td>\n",
              "      <td>1</td>\n",
              "      <td>High</td>\n",
              "    </tr>\n",
              "    <tr>\n",
              "      <th>4</th>\n",
              "      <td>Australia</td>\n",
              "      <td>2018</td>\n",
              "      <td>5</td>\n",
              "      <td>Bread</td>\n",
              "      <td>Loaf</td>\n",
              "      <td>2.21</td>\n",
              "      <td>AUD</td>\n",
              "      <td>1.48</td>\n",
              "      <td>1</td>\n",
              "      <td>High</td>\n",
              "    </tr>\n",
              "  </tbody>\n",
              "</table>\n",
              "</div>\n",
              "      <button class=\"colab-df-convert\" onclick=\"convertToInteractive('df-edc58193-13a6-4124-aef4-2ef59b279609')\"\n",
              "              title=\"Convert this dataframe to an interactive table.\"\n",
              "              style=\"display:none;\">\n",
              "\n",
              "  <svg xmlns=\"http://www.w3.org/2000/svg\" height=\"24px\"viewBox=\"0 0 24 24\"\n",
              "       width=\"24px\">\n",
              "    <path d=\"M0 0h24v24H0V0z\" fill=\"none\"/>\n",
              "    <path d=\"M18.56 5.44l.94 2.06.94-2.06 2.06-.94-2.06-.94-.94-2.06-.94 2.06-2.06.94zm-11 1L8.5 8.5l.94-2.06 2.06-.94-2.06-.94L8.5 2.5l-.94 2.06-2.06.94zm10 10l.94 2.06.94-2.06 2.06-.94-2.06-.94-.94-2.06-.94 2.06-2.06.94z\"/><path d=\"M17.41 7.96l-1.37-1.37c-.4-.4-.92-.59-1.43-.59-.52 0-1.04.2-1.43.59L10.3 9.45l-7.72 7.72c-.78.78-.78 2.05 0 2.83L4 21.41c.39.39.9.59 1.41.59.51 0 1.02-.2 1.41-.59l7.78-7.78 2.81-2.81c.8-.78.8-2.07 0-2.86zM5.41 20L4 18.59l7.72-7.72 1.47 1.35L5.41 20z\"/>\n",
              "  </svg>\n",
              "      </button>\n",
              "\n",
              "\n",
              "\n",
              "    <div id=\"df-597ef536-488a-4821-8ccc-126d655e01af\">\n",
              "      <button class=\"colab-df-quickchart\" onclick=\"quickchart('df-597ef536-488a-4821-8ccc-126d655e01af')\"\n",
              "              title=\"Suggest charts.\"\n",
              "              style=\"display:none;\">\n",
              "\n",
              "<svg xmlns=\"http://www.w3.org/2000/svg\" height=\"24px\"viewBox=\"0 0 24 24\"\n",
              "     width=\"24px\">\n",
              "    <g>\n",
              "        <path d=\"M19 3H5c-1.1 0-2 .9-2 2v14c0 1.1.9 2 2 2h14c1.1 0 2-.9 2-2V5c0-1.1-.9-2-2-2zM9 17H7v-7h2v7zm4 0h-2V7h2v10zm4 0h-2v-4h2v4z\"/>\n",
              "    </g>\n",
              "</svg>\n",
              "      </button>\n",
              "    </div>\n",
              "\n",
              "<style>\n",
              "  .colab-df-quickchart {\n",
              "    background-color: #E8F0FE;\n",
              "    border: none;\n",
              "    border-radius: 50%;\n",
              "    cursor: pointer;\n",
              "    display: none;\n",
              "    fill: #1967D2;\n",
              "    height: 32px;\n",
              "    padding: 0 0 0 0;\n",
              "    width: 32px;\n",
              "  }\n",
              "\n",
              "  .colab-df-quickchart:hover {\n",
              "    background-color: #E2EBFA;\n",
              "    box-shadow: 0px 1px 2px rgba(60, 64, 67, 0.3), 0px 1px 3px 1px rgba(60, 64, 67, 0.15);\n",
              "    fill: #174EA6;\n",
              "  }\n",
              "\n",
              "  [theme=dark] .colab-df-quickchart {\n",
              "    background-color: #3B4455;\n",
              "    fill: #D2E3FC;\n",
              "  }\n",
              "\n",
              "  [theme=dark] .colab-df-quickchart:hover {\n",
              "    background-color: #434B5C;\n",
              "    box-shadow: 0px 1px 3px 1px rgba(0, 0, 0, 0.15);\n",
              "    filter: drop-shadow(0px 1px 2px rgba(0, 0, 0, 0.3));\n",
              "    fill: #FFFFFF;\n",
              "  }\n",
              "</style>\n",
              "\n",
              "    <script>\n",
              "      async function quickchart(key) {\n",
              "        const containerElement = document.querySelector('#' + key);\n",
              "        const charts = await google.colab.kernel.invokeFunction(\n",
              "            'suggestCharts', [key], {});\n",
              "      }\n",
              "    </script>\n",
              "\n",
              "      <script>\n",
              "\n",
              "function displayQuickchartButton(domScope) {\n",
              "  let quickchartButtonEl =\n",
              "    domScope.querySelector('#df-597ef536-488a-4821-8ccc-126d655e01af button.colab-df-quickchart');\n",
              "  quickchartButtonEl.style.display =\n",
              "    google.colab.kernel.accessAllowed ? 'block' : 'none';\n",
              "}\n",
              "\n",
              "        displayQuickchartButton(document);\n",
              "      </script>\n",
              "      <style>\n",
              "    .colab-df-container {\n",
              "      display:flex;\n",
              "      flex-wrap:wrap;\n",
              "      gap: 12px;\n",
              "    }\n",
              "\n",
              "    .colab-df-convert {\n",
              "      background-color: #E8F0FE;\n",
              "      border: none;\n",
              "      border-radius: 50%;\n",
              "      cursor: pointer;\n",
              "      display: none;\n",
              "      fill: #1967D2;\n",
              "      height: 32px;\n",
              "      padding: 0 0 0 0;\n",
              "      width: 32px;\n",
              "    }\n",
              "\n",
              "    .colab-df-convert:hover {\n",
              "      background-color: #E2EBFA;\n",
              "      box-shadow: 0px 1px 2px rgba(60, 64, 67, 0.3), 0px 1px 3px 1px rgba(60, 64, 67, 0.15);\n",
              "      fill: #174EA6;\n",
              "    }\n",
              "\n",
              "    [theme=dark] .colab-df-convert {\n",
              "      background-color: #3B4455;\n",
              "      fill: #D2E3FC;\n",
              "    }\n",
              "\n",
              "    [theme=dark] .colab-df-convert:hover {\n",
              "      background-color: #434B5C;\n",
              "      box-shadow: 0px 1px 3px 1px rgba(0, 0, 0, 0.15);\n",
              "      filter: drop-shadow(0px 1px 2px rgba(0, 0, 0, 0.3));\n",
              "      fill: #FFFFFF;\n",
              "    }\n",
              "  </style>\n",
              "\n",
              "      <script>\n",
              "        const buttonEl =\n",
              "          document.querySelector('#df-edc58193-13a6-4124-aef4-2ef59b279609 button.colab-df-convert');\n",
              "        buttonEl.style.display =\n",
              "          google.colab.kernel.accessAllowed ? 'block' : 'none';\n",
              "\n",
              "        async function convertToInteractive(key) {\n",
              "          const element = document.querySelector('#df-edc58193-13a6-4124-aef4-2ef59b279609');\n",
              "          const dataTable =\n",
              "            await google.colab.kernel.invokeFunction('convertToInteractive',\n",
              "                                                     [key], {});\n",
              "          if (!dataTable) return;\n",
              "\n",
              "          const docLinkHtml = 'Like what you see? Visit the ' +\n",
              "            '<a target=\"_blank\" href=https://colab.research.google.com/notebooks/data_table.ipynb>data table notebook</a>'\n",
              "            + ' to learn more about interactive tables.';\n",
              "          element.innerHTML = '';\n",
              "          dataTable['output_type'] = 'display_data';\n",
              "          await google.colab.output.renderOutput(dataTable, element);\n",
              "          const docLink = document.createElement('div');\n",
              "          docLink.innerHTML = docLinkHtml;\n",
              "          element.appendChild(docLink);\n",
              "        }\n",
              "      </script>\n",
              "    </div>\n",
              "  </div>\n"
            ]
          },
          "metadata": {},
          "execution_count": 43
        }
      ]
    },
    {
      "cell_type": "code",
      "source": [
        "food_price.columns\n"
      ],
      "metadata": {
        "colab": {
          "base_uri": "https://localhost:8080/"
        },
        "id": "M-t_13S7sNVF",
        "outputId": "0261c6bf-d6b7-4781-f4b9-db6d5782944f"
      },
      "execution_count": null,
      "outputs": [
        {
          "output_type": "execute_result",
          "data": {
            "text/plain": [
              "Index(['Country ', 'Year ', 'Month ', 'Food Item ', 'Unit of Measurement',\n",
              "       'Average Price ', 'Currency ', 'Price in USD', 'Availability ',\n",
              "       'Quality '],\n",
              "      dtype='object')"
            ]
          },
          "metadata": {},
          "execution_count": 11
        }
      ]
    },
    {
      "cell_type": "code",
      "source": [
        "food_price.tail()"
      ],
      "metadata": {
        "colab": {
          "base_uri": "https://localhost:8080/",
          "height": 206
        },
        "id": "wgTao_ehfg72",
        "outputId": "874d5849-5b8f-4035-f0fa-60caa7bfd233"
      },
      "execution_count": null,
      "outputs": [
        {
          "output_type": "execute_result",
          "data": {
            "text/plain": [
              "     Country   Year   Month  Food Item  Unit of Measurement  Average Price   \\\n",
              "1195   Canada   2022       8   Potatoes                1 Kg            3.17   \n",
              "1196   Canada   2022       9   Potatoes                1 Kg            3.18   \n",
              "1197   Canada   2022      10   Potatoes                1 Kg            3.20   \n",
              "1198   Canada   2022      11   Potatoes                1 Kg            3.21   \n",
              "1199   Canada   2022      12   Potatoes                1 Kg            3.22   \n",
              "\n",
              "     Currency   Price in USD  Availability  Quality   \n",
              "1195       CAD          2.41              1     High  \n",
              "1196       CAD          2.42              1     High  \n",
              "1197       CAD          2.43              1     High  \n",
              "1198       CAD          2.44              1     High  \n",
              "1199       CAD          2.45              1     High  "
            ],
            "text/html": [
              "\n",
              "\n",
              "  <div id=\"df-0f01e1d7-f340-4c2e-ac1e-4391158fc537\">\n",
              "    <div class=\"colab-df-container\">\n",
              "      <div>\n",
              "<style scoped>\n",
              "    .dataframe tbody tr th:only-of-type {\n",
              "        vertical-align: middle;\n",
              "    }\n",
              "\n",
              "    .dataframe tbody tr th {\n",
              "        vertical-align: top;\n",
              "    }\n",
              "\n",
              "    .dataframe thead th {\n",
              "        text-align: right;\n",
              "    }\n",
              "</style>\n",
              "<table border=\"1\" class=\"dataframe\">\n",
              "  <thead>\n",
              "    <tr style=\"text-align: right;\">\n",
              "      <th></th>\n",
              "      <th>Country</th>\n",
              "      <th>Year</th>\n",
              "      <th>Month</th>\n",
              "      <th>Food Item</th>\n",
              "      <th>Unit of Measurement</th>\n",
              "      <th>Average Price</th>\n",
              "      <th>Currency</th>\n",
              "      <th>Price in USD</th>\n",
              "      <th>Availability</th>\n",
              "      <th>Quality</th>\n",
              "    </tr>\n",
              "  </thead>\n",
              "  <tbody>\n",
              "    <tr>\n",
              "      <th>1195</th>\n",
              "      <td>Canada</td>\n",
              "      <td>2022</td>\n",
              "      <td>8</td>\n",
              "      <td>Potatoes</td>\n",
              "      <td>1 Kg</td>\n",
              "      <td>3.17</td>\n",
              "      <td>CAD</td>\n",
              "      <td>2.41</td>\n",
              "      <td>1</td>\n",
              "      <td>High</td>\n",
              "    </tr>\n",
              "    <tr>\n",
              "      <th>1196</th>\n",
              "      <td>Canada</td>\n",
              "      <td>2022</td>\n",
              "      <td>9</td>\n",
              "      <td>Potatoes</td>\n",
              "      <td>1 Kg</td>\n",
              "      <td>3.18</td>\n",
              "      <td>CAD</td>\n",
              "      <td>2.42</td>\n",
              "      <td>1</td>\n",
              "      <td>High</td>\n",
              "    </tr>\n",
              "    <tr>\n",
              "      <th>1197</th>\n",
              "      <td>Canada</td>\n",
              "      <td>2022</td>\n",
              "      <td>10</td>\n",
              "      <td>Potatoes</td>\n",
              "      <td>1 Kg</td>\n",
              "      <td>3.20</td>\n",
              "      <td>CAD</td>\n",
              "      <td>2.43</td>\n",
              "      <td>1</td>\n",
              "      <td>High</td>\n",
              "    </tr>\n",
              "    <tr>\n",
              "      <th>1198</th>\n",
              "      <td>Canada</td>\n",
              "      <td>2022</td>\n",
              "      <td>11</td>\n",
              "      <td>Potatoes</td>\n",
              "      <td>1 Kg</td>\n",
              "      <td>3.21</td>\n",
              "      <td>CAD</td>\n",
              "      <td>2.44</td>\n",
              "      <td>1</td>\n",
              "      <td>High</td>\n",
              "    </tr>\n",
              "    <tr>\n",
              "      <th>1199</th>\n",
              "      <td>Canada</td>\n",
              "      <td>2022</td>\n",
              "      <td>12</td>\n",
              "      <td>Potatoes</td>\n",
              "      <td>1 Kg</td>\n",
              "      <td>3.22</td>\n",
              "      <td>CAD</td>\n",
              "      <td>2.45</td>\n",
              "      <td>1</td>\n",
              "      <td>High</td>\n",
              "    </tr>\n",
              "  </tbody>\n",
              "</table>\n",
              "</div>\n",
              "      <button class=\"colab-df-convert\" onclick=\"convertToInteractive('df-0f01e1d7-f340-4c2e-ac1e-4391158fc537')\"\n",
              "              title=\"Convert this dataframe to an interactive table.\"\n",
              "              style=\"display:none;\">\n",
              "\n",
              "  <svg xmlns=\"http://www.w3.org/2000/svg\" height=\"24px\"viewBox=\"0 0 24 24\"\n",
              "       width=\"24px\">\n",
              "    <path d=\"M0 0h24v24H0V0z\" fill=\"none\"/>\n",
              "    <path d=\"M18.56 5.44l.94 2.06.94-2.06 2.06-.94-2.06-.94-.94-2.06-.94 2.06-2.06.94zm-11 1L8.5 8.5l.94-2.06 2.06-.94-2.06-.94L8.5 2.5l-.94 2.06-2.06.94zm10 10l.94 2.06.94-2.06 2.06-.94-2.06-.94-.94-2.06-.94 2.06-2.06.94z\"/><path d=\"M17.41 7.96l-1.37-1.37c-.4-.4-.92-.59-1.43-.59-.52 0-1.04.2-1.43.59L10.3 9.45l-7.72 7.72c-.78.78-.78 2.05 0 2.83L4 21.41c.39.39.9.59 1.41.59.51 0 1.02-.2 1.41-.59l7.78-7.78 2.81-2.81c.8-.78.8-2.07 0-2.86zM5.41 20L4 18.59l7.72-7.72 1.47 1.35L5.41 20z\"/>\n",
              "  </svg>\n",
              "      </button>\n",
              "\n",
              "\n",
              "\n",
              "    <div id=\"df-c7929dd2-ac4c-4ffd-8138-cbd83360d438\">\n",
              "      <button class=\"colab-df-quickchart\" onclick=\"quickchart('df-c7929dd2-ac4c-4ffd-8138-cbd83360d438')\"\n",
              "              title=\"Suggest charts.\"\n",
              "              style=\"display:none;\">\n",
              "\n",
              "<svg xmlns=\"http://www.w3.org/2000/svg\" height=\"24px\"viewBox=\"0 0 24 24\"\n",
              "     width=\"24px\">\n",
              "    <g>\n",
              "        <path d=\"M19 3H5c-1.1 0-2 .9-2 2v14c0 1.1.9 2 2 2h14c1.1 0 2-.9 2-2V5c0-1.1-.9-2-2-2zM9 17H7v-7h2v7zm4 0h-2V7h2v10zm4 0h-2v-4h2v4z\"/>\n",
              "    </g>\n",
              "</svg>\n",
              "      </button>\n",
              "    </div>\n",
              "\n",
              "<style>\n",
              "  .colab-df-quickchart {\n",
              "    background-color: #E8F0FE;\n",
              "    border: none;\n",
              "    border-radius: 50%;\n",
              "    cursor: pointer;\n",
              "    display: none;\n",
              "    fill: #1967D2;\n",
              "    height: 32px;\n",
              "    padding: 0 0 0 0;\n",
              "    width: 32px;\n",
              "  }\n",
              "\n",
              "  .colab-df-quickchart:hover {\n",
              "    background-color: #E2EBFA;\n",
              "    box-shadow: 0px 1px 2px rgba(60, 64, 67, 0.3), 0px 1px 3px 1px rgba(60, 64, 67, 0.15);\n",
              "    fill: #174EA6;\n",
              "  }\n",
              "\n",
              "  [theme=dark] .colab-df-quickchart {\n",
              "    background-color: #3B4455;\n",
              "    fill: #D2E3FC;\n",
              "  }\n",
              "\n",
              "  [theme=dark] .colab-df-quickchart:hover {\n",
              "    background-color: #434B5C;\n",
              "    box-shadow: 0px 1px 3px 1px rgba(0, 0, 0, 0.15);\n",
              "    filter: drop-shadow(0px 1px 2px rgba(0, 0, 0, 0.3));\n",
              "    fill: #FFFFFF;\n",
              "  }\n",
              "</style>\n",
              "\n",
              "    <script>\n",
              "      async function quickchart(key) {\n",
              "        const containerElement = document.querySelector('#' + key);\n",
              "        const charts = await google.colab.kernel.invokeFunction(\n",
              "            'suggestCharts', [key], {});\n",
              "      }\n",
              "    </script>\n",
              "\n",
              "      <script>\n",
              "\n",
              "function displayQuickchartButton(domScope) {\n",
              "  let quickchartButtonEl =\n",
              "    domScope.querySelector('#df-c7929dd2-ac4c-4ffd-8138-cbd83360d438 button.colab-df-quickchart');\n",
              "  quickchartButtonEl.style.display =\n",
              "    google.colab.kernel.accessAllowed ? 'block' : 'none';\n",
              "}\n",
              "\n",
              "        displayQuickchartButton(document);\n",
              "      </script>\n",
              "      <style>\n",
              "    .colab-df-container {\n",
              "      display:flex;\n",
              "      flex-wrap:wrap;\n",
              "      gap: 12px;\n",
              "    }\n",
              "\n",
              "    .colab-df-convert {\n",
              "      background-color: #E8F0FE;\n",
              "      border: none;\n",
              "      border-radius: 50%;\n",
              "      cursor: pointer;\n",
              "      display: none;\n",
              "      fill: #1967D2;\n",
              "      height: 32px;\n",
              "      padding: 0 0 0 0;\n",
              "      width: 32px;\n",
              "    }\n",
              "\n",
              "    .colab-df-convert:hover {\n",
              "      background-color: #E2EBFA;\n",
              "      box-shadow: 0px 1px 2px rgba(60, 64, 67, 0.3), 0px 1px 3px 1px rgba(60, 64, 67, 0.15);\n",
              "      fill: #174EA6;\n",
              "    }\n",
              "\n",
              "    [theme=dark] .colab-df-convert {\n",
              "      background-color: #3B4455;\n",
              "      fill: #D2E3FC;\n",
              "    }\n",
              "\n",
              "    [theme=dark] .colab-df-convert:hover {\n",
              "      background-color: #434B5C;\n",
              "      box-shadow: 0px 1px 3px 1px rgba(0, 0, 0, 0.15);\n",
              "      filter: drop-shadow(0px 1px 2px rgba(0, 0, 0, 0.3));\n",
              "      fill: #FFFFFF;\n",
              "    }\n",
              "  </style>\n",
              "\n",
              "      <script>\n",
              "        const buttonEl =\n",
              "          document.querySelector('#df-0f01e1d7-f340-4c2e-ac1e-4391158fc537 button.colab-df-convert');\n",
              "        buttonEl.style.display =\n",
              "          google.colab.kernel.accessAllowed ? 'block' : 'none';\n",
              "\n",
              "        async function convertToInteractive(key) {\n",
              "          const element = document.querySelector('#df-0f01e1d7-f340-4c2e-ac1e-4391158fc537');\n",
              "          const dataTable =\n",
              "            await google.colab.kernel.invokeFunction('convertToInteractive',\n",
              "                                                     [key], {});\n",
              "          if (!dataTable) return;\n",
              "\n",
              "          const docLinkHtml = 'Like what you see? Visit the ' +\n",
              "            '<a target=\"_blank\" href=https://colab.research.google.com/notebooks/data_table.ipynb>data table notebook</a>'\n",
              "            + ' to learn more about interactive tables.';\n",
              "          element.innerHTML = '';\n",
              "          dataTable['output_type'] = 'display_data';\n",
              "          await google.colab.output.renderOutput(dataTable, element);\n",
              "          const docLink = document.createElement('div');\n",
              "          docLink.innerHTML = docLinkHtml;\n",
              "          element.appendChild(docLink);\n",
              "        }\n",
              "      </script>\n",
              "    </div>\n",
              "  </div>\n"
            ]
          },
          "metadata": {},
          "execution_count": 12
        }
      ]
    },
    {
      "cell_type": "code",
      "source": [
        "# Esta linea nos dice el numero de datos nulos por columna\n",
        "valores_nulos = food_price.isnull().sum()\n",
        "\n",
        "#Esta nos muestra los valores nulos de las primeras 10 columnas.\n",
        "#valores_nulos\n",
        "valores_nulos[0:10]"
      ],
      "metadata": {
        "colab": {
          "base_uri": "https://localhost:8080/"
        },
        "id": "sJluIFLOforZ",
        "outputId": "024c230b-4222-4ff5-e47b-f71ad2642167"
      },
      "execution_count": null,
      "outputs": [
        {
          "output_type": "execute_result",
          "data": {
            "text/plain": [
              "Country                0\n",
              "Year                   0\n",
              "Month                  0\n",
              "Food Item              0\n",
              "Unit of Measurement    0\n",
              "Average Price          0\n",
              "Currency               0\n",
              "Price in USD           0\n",
              "Availability           0\n",
              "Quality                0\n",
              "dtype: int64"
            ]
          },
          "metadata": {},
          "execution_count": 13
        }
      ]
    },
    {
      "cell_type": "code",
      "source": [
        "#Para verificar cuantas filas y columnas tiene nuestra base de datos.\n",
        "food_price.shape"
      ],
      "metadata": {
        "colab": {
          "base_uri": "https://localhost:8080/"
        },
        "id": "fhE9IGCwftNo",
        "outputId": "0d378d94-cc20-45d8-dfc8-139df31b84b7"
      },
      "execution_count": null,
      "outputs": [
        {
          "output_type": "execute_result",
          "data": {
            "text/plain": [
              "(1200, 10)"
            ]
          },
          "metadata": {},
          "execution_count": 14
        }
      ]
    },
    {
      "cell_type": "code",
      "source": [
        "#Revisamos primero cuantos valores nulos en total tenemos\n",
        "total_celdas = np.product(food_price.shape)\n",
        "total_nulos = valores_nulos.sum()\n",
        "\n",
        "#Sacamos el porcentaje de valores perdidos.\n",
        "total_nulos = (total_nulos/total_celdas) * 100\n",
        "print(total_nulos)"
      ],
      "metadata": {
        "colab": {
          "base_uri": "https://localhost:8080/"
        },
        "id": "wb00McIzfzhj",
        "outputId": "3bd8bd15-1760-460c-ffcc-424ba970949f"
      },
      "execution_count": null,
      "outputs": [
        {
          "output_type": "stream",
          "name": "stdout",
          "text": [
            "0.0\n"
          ]
        }
      ]
    },
    {
      "cell_type": "code",
      "source": [
        "# Elimina todas las columnas que tengan al menos un valor nulo\n",
        "columnas_Nan = food_price.dropna(axis=1)\n",
        "columnas_Nan.head()"
      ],
      "metadata": {
        "colab": {
          "base_uri": "https://localhost:8080/",
          "height": 206
        },
        "id": "EE550BjMf5l6",
        "outputId": "b7c43345-efaf-465b-ad4b-f466be9b7497"
      },
      "execution_count": null,
      "outputs": [
        {
          "output_type": "execute_result",
          "data": {
            "text/plain": [
              "    Country   Year   Month  Food Item  Unit of Measurement  Average Price   \\\n",
              "0  Australia   2018       1      Bread                Loaf            2.20   \n",
              "1  Australia   2018       2      Bread                Loaf            2.20   \n",
              "2  Australia   2018       3      Bread                Loaf            2.20   \n",
              "3  Australia   2018       4      Bread                Loaf            2.21   \n",
              "4  Australia   2018       5      Bread                Loaf            2.21   \n",
              "\n",
              "  Currency   Price in USD  Availability  Quality   \n",
              "0       AUD          1.47              1     High  \n",
              "1       AUD          1.48              1     High  \n",
              "2       AUD          1.48              1     High  \n",
              "3       AUD          1.48              1     High  \n",
              "4       AUD          1.48              1     High  "
            ],
            "text/html": [
              "\n",
              "\n",
              "  <div id=\"df-875fa2de-d913-48fc-a232-707a9fecc72d\">\n",
              "    <div class=\"colab-df-container\">\n",
              "      <div>\n",
              "<style scoped>\n",
              "    .dataframe tbody tr th:only-of-type {\n",
              "        vertical-align: middle;\n",
              "    }\n",
              "\n",
              "    .dataframe tbody tr th {\n",
              "        vertical-align: top;\n",
              "    }\n",
              "\n",
              "    .dataframe thead th {\n",
              "        text-align: right;\n",
              "    }\n",
              "</style>\n",
              "<table border=\"1\" class=\"dataframe\">\n",
              "  <thead>\n",
              "    <tr style=\"text-align: right;\">\n",
              "      <th></th>\n",
              "      <th>Country</th>\n",
              "      <th>Year</th>\n",
              "      <th>Month</th>\n",
              "      <th>Food Item</th>\n",
              "      <th>Unit of Measurement</th>\n",
              "      <th>Average Price</th>\n",
              "      <th>Currency</th>\n",
              "      <th>Price in USD</th>\n",
              "      <th>Availability</th>\n",
              "      <th>Quality</th>\n",
              "    </tr>\n",
              "  </thead>\n",
              "  <tbody>\n",
              "    <tr>\n",
              "      <th>0</th>\n",
              "      <td>Australia</td>\n",
              "      <td>2018</td>\n",
              "      <td>1</td>\n",
              "      <td>Bread</td>\n",
              "      <td>Loaf</td>\n",
              "      <td>2.20</td>\n",
              "      <td>AUD</td>\n",
              "      <td>1.47</td>\n",
              "      <td>1</td>\n",
              "      <td>High</td>\n",
              "    </tr>\n",
              "    <tr>\n",
              "      <th>1</th>\n",
              "      <td>Australia</td>\n",
              "      <td>2018</td>\n",
              "      <td>2</td>\n",
              "      <td>Bread</td>\n",
              "      <td>Loaf</td>\n",
              "      <td>2.20</td>\n",
              "      <td>AUD</td>\n",
              "      <td>1.48</td>\n",
              "      <td>1</td>\n",
              "      <td>High</td>\n",
              "    </tr>\n",
              "    <tr>\n",
              "      <th>2</th>\n",
              "      <td>Australia</td>\n",
              "      <td>2018</td>\n",
              "      <td>3</td>\n",
              "      <td>Bread</td>\n",
              "      <td>Loaf</td>\n",
              "      <td>2.20</td>\n",
              "      <td>AUD</td>\n",
              "      <td>1.48</td>\n",
              "      <td>1</td>\n",
              "      <td>High</td>\n",
              "    </tr>\n",
              "    <tr>\n",
              "      <th>3</th>\n",
              "      <td>Australia</td>\n",
              "      <td>2018</td>\n",
              "      <td>4</td>\n",
              "      <td>Bread</td>\n",
              "      <td>Loaf</td>\n",
              "      <td>2.21</td>\n",
              "      <td>AUD</td>\n",
              "      <td>1.48</td>\n",
              "      <td>1</td>\n",
              "      <td>High</td>\n",
              "    </tr>\n",
              "    <tr>\n",
              "      <th>4</th>\n",
              "      <td>Australia</td>\n",
              "      <td>2018</td>\n",
              "      <td>5</td>\n",
              "      <td>Bread</td>\n",
              "      <td>Loaf</td>\n",
              "      <td>2.21</td>\n",
              "      <td>AUD</td>\n",
              "      <td>1.48</td>\n",
              "      <td>1</td>\n",
              "      <td>High</td>\n",
              "    </tr>\n",
              "  </tbody>\n",
              "</table>\n",
              "</div>\n",
              "      <button class=\"colab-df-convert\" onclick=\"convertToInteractive('df-875fa2de-d913-48fc-a232-707a9fecc72d')\"\n",
              "              title=\"Convert this dataframe to an interactive table.\"\n",
              "              style=\"display:none;\">\n",
              "\n",
              "  <svg xmlns=\"http://www.w3.org/2000/svg\" height=\"24px\"viewBox=\"0 0 24 24\"\n",
              "       width=\"24px\">\n",
              "    <path d=\"M0 0h24v24H0V0z\" fill=\"none\"/>\n",
              "    <path d=\"M18.56 5.44l.94 2.06.94-2.06 2.06-.94-2.06-.94-.94-2.06-.94 2.06-2.06.94zm-11 1L8.5 8.5l.94-2.06 2.06-.94-2.06-.94L8.5 2.5l-.94 2.06-2.06.94zm10 10l.94 2.06.94-2.06 2.06-.94-2.06-.94-.94-2.06-.94 2.06-2.06.94z\"/><path d=\"M17.41 7.96l-1.37-1.37c-.4-.4-.92-.59-1.43-.59-.52 0-1.04.2-1.43.59L10.3 9.45l-7.72 7.72c-.78.78-.78 2.05 0 2.83L4 21.41c.39.39.9.59 1.41.59.51 0 1.02-.2 1.41-.59l7.78-7.78 2.81-2.81c.8-.78.8-2.07 0-2.86zM5.41 20L4 18.59l7.72-7.72 1.47 1.35L5.41 20z\"/>\n",
              "  </svg>\n",
              "      </button>\n",
              "\n",
              "\n",
              "\n",
              "    <div id=\"df-bf33f6f3-ccf3-4a19-a88e-facb57c7636e\">\n",
              "      <button class=\"colab-df-quickchart\" onclick=\"quickchart('df-bf33f6f3-ccf3-4a19-a88e-facb57c7636e')\"\n",
              "              title=\"Suggest charts.\"\n",
              "              style=\"display:none;\">\n",
              "\n",
              "<svg xmlns=\"http://www.w3.org/2000/svg\" height=\"24px\"viewBox=\"0 0 24 24\"\n",
              "     width=\"24px\">\n",
              "    <g>\n",
              "        <path d=\"M19 3H5c-1.1 0-2 .9-2 2v14c0 1.1.9 2 2 2h14c1.1 0 2-.9 2-2V5c0-1.1-.9-2-2-2zM9 17H7v-7h2v7zm4 0h-2V7h2v10zm4 0h-2v-4h2v4z\"/>\n",
              "    </g>\n",
              "</svg>\n",
              "      </button>\n",
              "    </div>\n",
              "\n",
              "<style>\n",
              "  .colab-df-quickchart {\n",
              "    background-color: #E8F0FE;\n",
              "    border: none;\n",
              "    border-radius: 50%;\n",
              "    cursor: pointer;\n",
              "    display: none;\n",
              "    fill: #1967D2;\n",
              "    height: 32px;\n",
              "    padding: 0 0 0 0;\n",
              "    width: 32px;\n",
              "  }\n",
              "\n",
              "  .colab-df-quickchart:hover {\n",
              "    background-color: #E2EBFA;\n",
              "    box-shadow: 0px 1px 2px rgba(60, 64, 67, 0.3), 0px 1px 3px 1px rgba(60, 64, 67, 0.15);\n",
              "    fill: #174EA6;\n",
              "  }\n",
              "\n",
              "  [theme=dark] .colab-df-quickchart {\n",
              "    background-color: #3B4455;\n",
              "    fill: #D2E3FC;\n",
              "  }\n",
              "\n",
              "  [theme=dark] .colab-df-quickchart:hover {\n",
              "    background-color: #434B5C;\n",
              "    box-shadow: 0px 1px 3px 1px rgba(0, 0, 0, 0.15);\n",
              "    filter: drop-shadow(0px 1px 2px rgba(0, 0, 0, 0.3));\n",
              "    fill: #FFFFFF;\n",
              "  }\n",
              "</style>\n",
              "\n",
              "    <script>\n",
              "      async function quickchart(key) {\n",
              "        const containerElement = document.querySelector('#' + key);\n",
              "        const charts = await google.colab.kernel.invokeFunction(\n",
              "            'suggestCharts', [key], {});\n",
              "      }\n",
              "    </script>\n",
              "\n",
              "      <script>\n",
              "\n",
              "function displayQuickchartButton(domScope) {\n",
              "  let quickchartButtonEl =\n",
              "    domScope.querySelector('#df-bf33f6f3-ccf3-4a19-a88e-facb57c7636e button.colab-df-quickchart');\n",
              "  quickchartButtonEl.style.display =\n",
              "    google.colab.kernel.accessAllowed ? 'block' : 'none';\n",
              "}\n",
              "\n",
              "        displayQuickchartButton(document);\n",
              "      </script>\n",
              "      <style>\n",
              "    .colab-df-container {\n",
              "      display:flex;\n",
              "      flex-wrap:wrap;\n",
              "      gap: 12px;\n",
              "    }\n",
              "\n",
              "    .colab-df-convert {\n",
              "      background-color: #E8F0FE;\n",
              "      border: none;\n",
              "      border-radius: 50%;\n",
              "      cursor: pointer;\n",
              "      display: none;\n",
              "      fill: #1967D2;\n",
              "      height: 32px;\n",
              "      padding: 0 0 0 0;\n",
              "      width: 32px;\n",
              "    }\n",
              "\n",
              "    .colab-df-convert:hover {\n",
              "      background-color: #E2EBFA;\n",
              "      box-shadow: 0px 1px 2px rgba(60, 64, 67, 0.3), 0px 1px 3px 1px rgba(60, 64, 67, 0.15);\n",
              "      fill: #174EA6;\n",
              "    }\n",
              "\n",
              "    [theme=dark] .colab-df-convert {\n",
              "      background-color: #3B4455;\n",
              "      fill: #D2E3FC;\n",
              "    }\n",
              "\n",
              "    [theme=dark] .colab-df-convert:hover {\n",
              "      background-color: #434B5C;\n",
              "      box-shadow: 0px 1px 3px 1px rgba(0, 0, 0, 0.15);\n",
              "      filter: drop-shadow(0px 1px 2px rgba(0, 0, 0, 0.3));\n",
              "      fill: #FFFFFF;\n",
              "    }\n",
              "  </style>\n",
              "\n",
              "      <script>\n",
              "        const buttonEl =\n",
              "          document.querySelector('#df-875fa2de-d913-48fc-a232-707a9fecc72d button.colab-df-convert');\n",
              "        buttonEl.style.display =\n",
              "          google.colab.kernel.accessAllowed ? 'block' : 'none';\n",
              "\n",
              "        async function convertToInteractive(key) {\n",
              "          const element = document.querySelector('#df-875fa2de-d913-48fc-a232-707a9fecc72d');\n",
              "          const dataTable =\n",
              "            await google.colab.kernel.invokeFunction('convertToInteractive',\n",
              "                                                     [key], {});\n",
              "          if (!dataTable) return;\n",
              "\n",
              "          const docLinkHtml = 'Like what you see? Visit the ' +\n",
              "            '<a target=\"_blank\" href=https://colab.research.google.com/notebooks/data_table.ipynb>data table notebook</a>'\n",
              "            + ' to learn more about interactive tables.';\n",
              "          element.innerHTML = '';\n",
              "          dataTable['output_type'] = 'display_data';\n",
              "          await google.colab.output.renderOutput(dataTable, element);\n",
              "          const docLink = document.createElement('div');\n",
              "          docLink.innerHTML = docLinkHtml;\n",
              "          element.appendChild(docLink);\n",
              "        }\n",
              "      </script>\n",
              "    </div>\n",
              "  </div>\n"
            ]
          },
          "metadata": {},
          "execution_count": 16
        }
      ]
    },
    {
      "cell_type": "code",
      "source": [
        "#Revisamos cuantas columnas teniamos originalmente y cuantas eliminamos.\n",
        "print(\"Numero de columnas en el dataset original: %d \\n\" % food_price.shape[1])\n",
        "print(\"Numero de columnas eliminadas: %d\" % columnas_Nan.shape[1])\n"
      ],
      "metadata": {
        "colab": {
          "base_uri": "https://localhost:8080/"
        },
        "id": "M-S6QvP4gAah",
        "outputId": "4dfcd76b-41af-43a3-fbaf-31afa72f67b4"
      },
      "execution_count": null,
      "outputs": [
        {
          "output_type": "stream",
          "name": "stdout",
          "text": [
            "Numero de columnas en el dataset original: 10 \n",
            "\n",
            "Numero de columnas eliminadas: 10\n"
          ]
        }
      ]
    },
    {
      "cell_type": "code",
      "source": [
        "food_price.head()"
      ],
      "metadata": {
        "colab": {
          "base_uri": "https://localhost:8080/",
          "height": 206
        },
        "id": "SudUvldltted",
        "outputId": "7341fc2b-7cfa-4f8a-d2db-8d413b3496c2"
      },
      "execution_count": null,
      "outputs": [
        {
          "output_type": "execute_result",
          "data": {
            "text/plain": [
              "    Country   Year   Month  Food Item  Unit of Measurement  Average Price   \\\n",
              "0  Australia   2018       1      Bread                Loaf            2.20   \n",
              "1  Australia   2018       2      Bread                Loaf            2.20   \n",
              "2  Australia   2018       3      Bread                Loaf            2.20   \n",
              "3  Australia   2018       4      Bread                Loaf            2.21   \n",
              "4  Australia   2018       5      Bread                Loaf            2.21   \n",
              "\n",
              "  Currency   Price in USD  Availability  Quality   \n",
              "0       AUD          1.47              1     High  \n",
              "1       AUD          1.48              1     High  \n",
              "2       AUD          1.48              1     High  \n",
              "3       AUD          1.48              1     High  \n",
              "4       AUD          1.48              1     High  "
            ],
            "text/html": [
              "\n",
              "\n",
              "  <div id=\"df-a8dc4cdb-5c70-4a5b-b4ed-cf3c1b315927\">\n",
              "    <div class=\"colab-df-container\">\n",
              "      <div>\n",
              "<style scoped>\n",
              "    .dataframe tbody tr th:only-of-type {\n",
              "        vertical-align: middle;\n",
              "    }\n",
              "\n",
              "    .dataframe tbody tr th {\n",
              "        vertical-align: top;\n",
              "    }\n",
              "\n",
              "    .dataframe thead th {\n",
              "        text-align: right;\n",
              "    }\n",
              "</style>\n",
              "<table border=\"1\" class=\"dataframe\">\n",
              "  <thead>\n",
              "    <tr style=\"text-align: right;\">\n",
              "      <th></th>\n",
              "      <th>Country</th>\n",
              "      <th>Year</th>\n",
              "      <th>Month</th>\n",
              "      <th>Food Item</th>\n",
              "      <th>Unit of Measurement</th>\n",
              "      <th>Average Price</th>\n",
              "      <th>Currency</th>\n",
              "      <th>Price in USD</th>\n",
              "      <th>Availability</th>\n",
              "      <th>Quality</th>\n",
              "    </tr>\n",
              "  </thead>\n",
              "  <tbody>\n",
              "    <tr>\n",
              "      <th>0</th>\n",
              "      <td>Australia</td>\n",
              "      <td>2018</td>\n",
              "      <td>1</td>\n",
              "      <td>Bread</td>\n",
              "      <td>Loaf</td>\n",
              "      <td>2.20</td>\n",
              "      <td>AUD</td>\n",
              "      <td>1.47</td>\n",
              "      <td>1</td>\n",
              "      <td>High</td>\n",
              "    </tr>\n",
              "    <tr>\n",
              "      <th>1</th>\n",
              "      <td>Australia</td>\n",
              "      <td>2018</td>\n",
              "      <td>2</td>\n",
              "      <td>Bread</td>\n",
              "      <td>Loaf</td>\n",
              "      <td>2.20</td>\n",
              "      <td>AUD</td>\n",
              "      <td>1.48</td>\n",
              "      <td>1</td>\n",
              "      <td>High</td>\n",
              "    </tr>\n",
              "    <tr>\n",
              "      <th>2</th>\n",
              "      <td>Australia</td>\n",
              "      <td>2018</td>\n",
              "      <td>3</td>\n",
              "      <td>Bread</td>\n",
              "      <td>Loaf</td>\n",
              "      <td>2.20</td>\n",
              "      <td>AUD</td>\n",
              "      <td>1.48</td>\n",
              "      <td>1</td>\n",
              "      <td>High</td>\n",
              "    </tr>\n",
              "    <tr>\n",
              "      <th>3</th>\n",
              "      <td>Australia</td>\n",
              "      <td>2018</td>\n",
              "      <td>4</td>\n",
              "      <td>Bread</td>\n",
              "      <td>Loaf</td>\n",
              "      <td>2.21</td>\n",
              "      <td>AUD</td>\n",
              "      <td>1.48</td>\n",
              "      <td>1</td>\n",
              "      <td>High</td>\n",
              "    </tr>\n",
              "    <tr>\n",
              "      <th>4</th>\n",
              "      <td>Australia</td>\n",
              "      <td>2018</td>\n",
              "      <td>5</td>\n",
              "      <td>Bread</td>\n",
              "      <td>Loaf</td>\n",
              "      <td>2.21</td>\n",
              "      <td>AUD</td>\n",
              "      <td>1.48</td>\n",
              "      <td>1</td>\n",
              "      <td>High</td>\n",
              "    </tr>\n",
              "  </tbody>\n",
              "</table>\n",
              "</div>\n",
              "      <button class=\"colab-df-convert\" onclick=\"convertToInteractive('df-a8dc4cdb-5c70-4a5b-b4ed-cf3c1b315927')\"\n",
              "              title=\"Convert this dataframe to an interactive table.\"\n",
              "              style=\"display:none;\">\n",
              "\n",
              "  <svg xmlns=\"http://www.w3.org/2000/svg\" height=\"24px\"viewBox=\"0 0 24 24\"\n",
              "       width=\"24px\">\n",
              "    <path d=\"M0 0h24v24H0V0z\" fill=\"none\"/>\n",
              "    <path d=\"M18.56 5.44l.94 2.06.94-2.06 2.06-.94-2.06-.94-.94-2.06-.94 2.06-2.06.94zm-11 1L8.5 8.5l.94-2.06 2.06-.94-2.06-.94L8.5 2.5l-.94 2.06-2.06.94zm10 10l.94 2.06.94-2.06 2.06-.94-2.06-.94-.94-2.06-.94 2.06-2.06.94z\"/><path d=\"M17.41 7.96l-1.37-1.37c-.4-.4-.92-.59-1.43-.59-.52 0-1.04.2-1.43.59L10.3 9.45l-7.72 7.72c-.78.78-.78 2.05 0 2.83L4 21.41c.39.39.9.59 1.41.59.51 0 1.02-.2 1.41-.59l7.78-7.78 2.81-2.81c.8-.78.8-2.07 0-2.86zM5.41 20L4 18.59l7.72-7.72 1.47 1.35L5.41 20z\"/>\n",
              "  </svg>\n",
              "      </button>\n",
              "\n",
              "\n",
              "\n",
              "    <div id=\"df-0ab13497-081b-4729-ab7b-bdeabfe46040\">\n",
              "      <button class=\"colab-df-quickchart\" onclick=\"quickchart('df-0ab13497-081b-4729-ab7b-bdeabfe46040')\"\n",
              "              title=\"Suggest charts.\"\n",
              "              style=\"display:none;\">\n",
              "\n",
              "<svg xmlns=\"http://www.w3.org/2000/svg\" height=\"24px\"viewBox=\"0 0 24 24\"\n",
              "     width=\"24px\">\n",
              "    <g>\n",
              "        <path d=\"M19 3H5c-1.1 0-2 .9-2 2v14c0 1.1.9 2 2 2h14c1.1 0 2-.9 2-2V5c0-1.1-.9-2-2-2zM9 17H7v-7h2v7zm4 0h-2V7h2v10zm4 0h-2v-4h2v4z\"/>\n",
              "    </g>\n",
              "</svg>\n",
              "      </button>\n",
              "    </div>\n",
              "\n",
              "<style>\n",
              "  .colab-df-quickchart {\n",
              "    background-color: #E8F0FE;\n",
              "    border: none;\n",
              "    border-radius: 50%;\n",
              "    cursor: pointer;\n",
              "    display: none;\n",
              "    fill: #1967D2;\n",
              "    height: 32px;\n",
              "    padding: 0 0 0 0;\n",
              "    width: 32px;\n",
              "  }\n",
              "\n",
              "  .colab-df-quickchart:hover {\n",
              "    background-color: #E2EBFA;\n",
              "    box-shadow: 0px 1px 2px rgba(60, 64, 67, 0.3), 0px 1px 3px 1px rgba(60, 64, 67, 0.15);\n",
              "    fill: #174EA6;\n",
              "  }\n",
              "\n",
              "  [theme=dark] .colab-df-quickchart {\n",
              "    background-color: #3B4455;\n",
              "    fill: #D2E3FC;\n",
              "  }\n",
              "\n",
              "  [theme=dark] .colab-df-quickchart:hover {\n",
              "    background-color: #434B5C;\n",
              "    box-shadow: 0px 1px 3px 1px rgba(0, 0, 0, 0.15);\n",
              "    filter: drop-shadow(0px 1px 2px rgba(0, 0, 0, 0.3));\n",
              "    fill: #FFFFFF;\n",
              "  }\n",
              "</style>\n",
              "\n",
              "    <script>\n",
              "      async function quickchart(key) {\n",
              "        const containerElement = document.querySelector('#' + key);\n",
              "        const charts = await google.colab.kernel.invokeFunction(\n",
              "            'suggestCharts', [key], {});\n",
              "      }\n",
              "    </script>\n",
              "\n",
              "      <script>\n",
              "\n",
              "function displayQuickchartButton(domScope) {\n",
              "  let quickchartButtonEl =\n",
              "    domScope.querySelector('#df-0ab13497-081b-4729-ab7b-bdeabfe46040 button.colab-df-quickchart');\n",
              "  quickchartButtonEl.style.display =\n",
              "    google.colab.kernel.accessAllowed ? 'block' : 'none';\n",
              "}\n",
              "\n",
              "        displayQuickchartButton(document);\n",
              "      </script>\n",
              "      <style>\n",
              "    .colab-df-container {\n",
              "      display:flex;\n",
              "      flex-wrap:wrap;\n",
              "      gap: 12px;\n",
              "    }\n",
              "\n",
              "    .colab-df-convert {\n",
              "      background-color: #E8F0FE;\n",
              "      border: none;\n",
              "      border-radius: 50%;\n",
              "      cursor: pointer;\n",
              "      display: none;\n",
              "      fill: #1967D2;\n",
              "      height: 32px;\n",
              "      padding: 0 0 0 0;\n",
              "      width: 32px;\n",
              "    }\n",
              "\n",
              "    .colab-df-convert:hover {\n",
              "      background-color: #E2EBFA;\n",
              "      box-shadow: 0px 1px 2px rgba(60, 64, 67, 0.3), 0px 1px 3px 1px rgba(60, 64, 67, 0.15);\n",
              "      fill: #174EA6;\n",
              "    }\n",
              "\n",
              "    [theme=dark] .colab-df-convert {\n",
              "      background-color: #3B4455;\n",
              "      fill: #D2E3FC;\n",
              "    }\n",
              "\n",
              "    [theme=dark] .colab-df-convert:hover {\n",
              "      background-color: #434B5C;\n",
              "      box-shadow: 0px 1px 3px 1px rgba(0, 0, 0, 0.15);\n",
              "      filter: drop-shadow(0px 1px 2px rgba(0, 0, 0, 0.3));\n",
              "      fill: #FFFFFF;\n",
              "    }\n",
              "  </style>\n",
              "\n",
              "      <script>\n",
              "        const buttonEl =\n",
              "          document.querySelector('#df-a8dc4cdb-5c70-4a5b-b4ed-cf3c1b315927 button.colab-df-convert');\n",
              "        buttonEl.style.display =\n",
              "          google.colab.kernel.accessAllowed ? 'block' : 'none';\n",
              "\n",
              "        async function convertToInteractive(key) {\n",
              "          const element = document.querySelector('#df-a8dc4cdb-5c70-4a5b-b4ed-cf3c1b315927');\n",
              "          const dataTable =\n",
              "            await google.colab.kernel.invokeFunction('convertToInteractive',\n",
              "                                                     [key], {});\n",
              "          if (!dataTable) return;\n",
              "\n",
              "          const docLinkHtml = 'Like what you see? Visit the ' +\n",
              "            '<a target=\"_blank\" href=https://colab.research.google.com/notebooks/data_table.ipynb>data table notebook</a>'\n",
              "            + ' to learn more about interactive tables.';\n",
              "          element.innerHTML = '';\n",
              "          dataTable['output_type'] = 'display_data';\n",
              "          await google.colab.output.renderOutput(dataTable, element);\n",
              "          const docLink = document.createElement('div');\n",
              "          docLink.innerHTML = docLinkHtml;\n",
              "          element.appendChild(docLink);\n",
              "        }\n",
              "      </script>\n",
              "    </div>\n",
              "  </div>\n"
            ]
          },
          "metadata": {},
          "execution_count": 19
        }
      ]
    },
    {
      "cell_type": "code",
      "source": [
        "import pandas as pd\n",
        "import numpy as np\n",
        "import matplotlib.pyplot as plt\n",
        "\n",
        "# Cargar nuestra base de datos\n",
        "food_price = pd.read_csv(\"/content/drive/MyDrive/Colab Notebooks/Food Price/Food Prices.csv\")\n",
        "\n",
        "# Cargar semilla para poder dar reproducibilidad (1)\n",
        "np.random.seed(0)\n",
        "\n",
        "# Crear el gráfico de cajas para el precio promedio de cada alimento\n",
        "plt.figure(figsize=(10, 6))  # Ajustar tamaño del gráfico\n",
        "plt.boxplot(food_price['Average Price'])\n",
        "plt.xlabel('Price in USD')\n",
        "plt.title('Boxplot del Precio Promedio de los Alimentos')\n",
        "plt.show()\n",
        "\n"
      ],
      "metadata": {
        "colab": {
          "base_uri": "https://localhost:8080/",
          "height": 542
        },
        "id": "U8XwBysnggoB",
        "outputId": "99a18cb1-2802-4704-a286-27d35a683d25"
      },
      "execution_count": null,
      "outputs": [
        {
          "output_type": "error",
          "ename": "KeyError",
          "evalue": "ignored",
          "traceback": [
            "\u001b[0;31m---------------------------------------------------------------------------\u001b[0m",
            "\u001b[0;31mKeyError\u001b[0m                                  Traceback (most recent call last)",
            "\u001b[0;32m/usr/local/lib/python3.10/dist-packages/pandas/core/indexes/base.py\u001b[0m in \u001b[0;36mget_loc\u001b[0;34m(self, key, method, tolerance)\u001b[0m\n\u001b[1;32m   3801\u001b[0m             \u001b[0;32mtry\u001b[0m\u001b[0;34m:\u001b[0m\u001b[0;34m\u001b[0m\u001b[0;34m\u001b[0m\u001b[0m\n\u001b[0;32m-> 3802\u001b[0;31m                 \u001b[0;32mreturn\u001b[0m \u001b[0mself\u001b[0m\u001b[0;34m.\u001b[0m\u001b[0m_engine\u001b[0m\u001b[0;34m.\u001b[0m\u001b[0mget_loc\u001b[0m\u001b[0;34m(\u001b[0m\u001b[0mcasted_key\u001b[0m\u001b[0;34m)\u001b[0m\u001b[0;34m\u001b[0m\u001b[0;34m\u001b[0m\u001b[0m\n\u001b[0m\u001b[1;32m   3803\u001b[0m             \u001b[0;32mexcept\u001b[0m \u001b[0mKeyError\u001b[0m \u001b[0;32mas\u001b[0m \u001b[0merr\u001b[0m\u001b[0;34m:\u001b[0m\u001b[0;34m\u001b[0m\u001b[0;34m\u001b[0m\u001b[0m\n",
            "\u001b[0;32m/usr/local/lib/python3.10/dist-packages/pandas/_libs/index.pyx\u001b[0m in \u001b[0;36mpandas._libs.index.IndexEngine.get_loc\u001b[0;34m()\u001b[0m\n",
            "\u001b[0;32m/usr/local/lib/python3.10/dist-packages/pandas/_libs/index.pyx\u001b[0m in \u001b[0;36mpandas._libs.index.IndexEngine.get_loc\u001b[0;34m()\u001b[0m\n",
            "\u001b[0;32mpandas/_libs/hashtable_class_helper.pxi\u001b[0m in \u001b[0;36mpandas._libs.hashtable.PyObjectHashTable.get_item\u001b[0;34m()\u001b[0m\n",
            "\u001b[0;32mpandas/_libs/hashtable_class_helper.pxi\u001b[0m in \u001b[0;36mpandas._libs.hashtable.PyObjectHashTable.get_item\u001b[0;34m()\u001b[0m\n",
            "\u001b[0;31mKeyError\u001b[0m: 'Average Price'",
            "\nThe above exception was the direct cause of the following exception:\n",
            "\u001b[0;31mKeyError\u001b[0m                                  Traceback (most recent call last)",
            "\u001b[0;32m<ipython-input-54-93c796221006>\u001b[0m in \u001b[0;36m<cell line: 13>\u001b[0;34m()\u001b[0m\n\u001b[1;32m     11\u001b[0m \u001b[0;31m# Crear el gráfico de cajas para el precio promedio de cada alimento\u001b[0m\u001b[0;34m\u001b[0m\u001b[0;34m\u001b[0m\u001b[0m\n\u001b[1;32m     12\u001b[0m \u001b[0mplt\u001b[0m\u001b[0;34m.\u001b[0m\u001b[0mfigure\u001b[0m\u001b[0;34m(\u001b[0m\u001b[0mfigsize\u001b[0m\u001b[0;34m=\u001b[0m\u001b[0;34m(\u001b[0m\u001b[0;36m10\u001b[0m\u001b[0;34m,\u001b[0m \u001b[0;36m6\u001b[0m\u001b[0;34m)\u001b[0m\u001b[0;34m)\u001b[0m  \u001b[0;31m# Ajustar tamaño del gráfico\u001b[0m\u001b[0;34m\u001b[0m\u001b[0;34m\u001b[0m\u001b[0m\n\u001b[0;32m---> 13\u001b[0;31m \u001b[0mplt\u001b[0m\u001b[0;34m.\u001b[0m\u001b[0mboxplot\u001b[0m\u001b[0;34m(\u001b[0m\u001b[0mfood_price\u001b[0m\u001b[0;34m[\u001b[0m\u001b[0;34m'Average Price'\u001b[0m\u001b[0;34m]\u001b[0m\u001b[0;34m)\u001b[0m\u001b[0;34m\u001b[0m\u001b[0;34m\u001b[0m\u001b[0m\n\u001b[0m\u001b[1;32m     14\u001b[0m \u001b[0mplt\u001b[0m\u001b[0;34m.\u001b[0m\u001b[0mxlabel\u001b[0m\u001b[0;34m(\u001b[0m\u001b[0;34m'Price in USD'\u001b[0m\u001b[0;34m)\u001b[0m\u001b[0;34m\u001b[0m\u001b[0;34m\u001b[0m\u001b[0m\n\u001b[1;32m     15\u001b[0m \u001b[0mplt\u001b[0m\u001b[0;34m.\u001b[0m\u001b[0mtitle\u001b[0m\u001b[0;34m(\u001b[0m\u001b[0;34m'Boxplot del Precio Promedio de los Alimentos'\u001b[0m\u001b[0;34m)\u001b[0m\u001b[0;34m\u001b[0m\u001b[0;34m\u001b[0m\u001b[0m\n",
            "\u001b[0;32m/usr/local/lib/python3.10/dist-packages/pandas/core/frame.py\u001b[0m in \u001b[0;36m__getitem__\u001b[0;34m(self, key)\u001b[0m\n\u001b[1;32m   3805\u001b[0m             \u001b[0;32mif\u001b[0m \u001b[0mself\u001b[0m\u001b[0;34m.\u001b[0m\u001b[0mcolumns\u001b[0m\u001b[0;34m.\u001b[0m\u001b[0mnlevels\u001b[0m \u001b[0;34m>\u001b[0m \u001b[0;36m1\u001b[0m\u001b[0;34m:\u001b[0m\u001b[0;34m\u001b[0m\u001b[0;34m\u001b[0m\u001b[0m\n\u001b[1;32m   3806\u001b[0m                 \u001b[0;32mreturn\u001b[0m \u001b[0mself\u001b[0m\u001b[0;34m.\u001b[0m\u001b[0m_getitem_multilevel\u001b[0m\u001b[0;34m(\u001b[0m\u001b[0mkey\u001b[0m\u001b[0;34m)\u001b[0m\u001b[0;34m\u001b[0m\u001b[0;34m\u001b[0m\u001b[0m\n\u001b[0;32m-> 3807\u001b[0;31m             \u001b[0mindexer\u001b[0m \u001b[0;34m=\u001b[0m \u001b[0mself\u001b[0m\u001b[0;34m.\u001b[0m\u001b[0mcolumns\u001b[0m\u001b[0;34m.\u001b[0m\u001b[0mget_loc\u001b[0m\u001b[0;34m(\u001b[0m\u001b[0mkey\u001b[0m\u001b[0;34m)\u001b[0m\u001b[0;34m\u001b[0m\u001b[0;34m\u001b[0m\u001b[0m\n\u001b[0m\u001b[1;32m   3808\u001b[0m             \u001b[0;32mif\u001b[0m \u001b[0mis_integer\u001b[0m\u001b[0;34m(\u001b[0m\u001b[0mindexer\u001b[0m\u001b[0;34m)\u001b[0m\u001b[0;34m:\u001b[0m\u001b[0;34m\u001b[0m\u001b[0;34m\u001b[0m\u001b[0m\n\u001b[1;32m   3809\u001b[0m                 \u001b[0mindexer\u001b[0m \u001b[0;34m=\u001b[0m \u001b[0;34m[\u001b[0m\u001b[0mindexer\u001b[0m\u001b[0;34m]\u001b[0m\u001b[0;34m\u001b[0m\u001b[0;34m\u001b[0m\u001b[0m\n",
            "\u001b[0;32m/usr/local/lib/python3.10/dist-packages/pandas/core/indexes/base.py\u001b[0m in \u001b[0;36mget_loc\u001b[0;34m(self, key, method, tolerance)\u001b[0m\n\u001b[1;32m   3802\u001b[0m                 \u001b[0;32mreturn\u001b[0m \u001b[0mself\u001b[0m\u001b[0;34m.\u001b[0m\u001b[0m_engine\u001b[0m\u001b[0;34m.\u001b[0m\u001b[0mget_loc\u001b[0m\u001b[0;34m(\u001b[0m\u001b[0mcasted_key\u001b[0m\u001b[0;34m)\u001b[0m\u001b[0;34m\u001b[0m\u001b[0;34m\u001b[0m\u001b[0m\n\u001b[1;32m   3803\u001b[0m             \u001b[0;32mexcept\u001b[0m \u001b[0mKeyError\u001b[0m \u001b[0;32mas\u001b[0m \u001b[0merr\u001b[0m\u001b[0;34m:\u001b[0m\u001b[0;34m\u001b[0m\u001b[0;34m\u001b[0m\u001b[0m\n\u001b[0;32m-> 3804\u001b[0;31m                 \u001b[0;32mraise\u001b[0m \u001b[0mKeyError\u001b[0m\u001b[0;34m(\u001b[0m\u001b[0mkey\u001b[0m\u001b[0;34m)\u001b[0m \u001b[0;32mfrom\u001b[0m \u001b[0merr\u001b[0m\u001b[0;34m\u001b[0m\u001b[0;34m\u001b[0m\u001b[0m\n\u001b[0m\u001b[1;32m   3805\u001b[0m             \u001b[0;32mexcept\u001b[0m \u001b[0mTypeError\u001b[0m\u001b[0;34m:\u001b[0m\u001b[0;34m\u001b[0m\u001b[0;34m\u001b[0m\u001b[0m\n\u001b[1;32m   3806\u001b[0m                 \u001b[0;31m# If we have a listlike key, _check_indexing_error will raise\u001b[0m\u001b[0;34m\u001b[0m\u001b[0;34m\u001b[0m\u001b[0m\n",
            "\u001b[0;31mKeyError\u001b[0m: 'Average Price'"
          ]
        },
        {
          "output_type": "display_data",
          "data": {
            "text/plain": [
              "<Figure size 1000x600 with 0 Axes>"
            ]
          },
          "metadata": {}
        }
      ]
    }
  ]
}